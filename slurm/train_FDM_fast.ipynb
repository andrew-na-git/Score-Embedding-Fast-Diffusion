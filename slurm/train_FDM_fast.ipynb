{
 "cells": [
  {
   "cell_type": "code",
   "execution_count": null,
   "metadata": {},
   "outputs": [],
   "source": [
    "import os\n",
    "import threading\n",
    "import time\n",
    "\n",
    "import matplotlib.pyplot as plt\n",
    "\n",
    "import numpy as np\n",
    "from tqdm import tqdm\n",
    "from sklearn.preprocessing import MinMaxScaler\n",
    "from sklearn.neighbors import KernelDensity\n",
    "from sklearn.model_selection import GridSearchCV\n",
    "\n",
    "import torch\n",
    "from torch.optim import Adam\n",
    "\n",
    "from kfp import construct_B, diffusion_coeff, solve_pde, logsumexp, get_sparse_A_block\n",
    "from network import ScoreNet\n",
    "\n",
    "from data.Dataset import CIFARDataset\n",
    "\n",
    "torch.manual_seed(2);\n",
    "\n",
    "mm_scaler = MinMaxScaler();"
   ]
  },
  {
   "cell_type": "markdown",
   "metadata": {},
   "source": [
    "## Parameters"
   ]
  },
  {
   "cell_type": "code",
   "execution_count": null,
   "metadata": {},
   "outputs": [],
   "source": [
    "### Change these\n",
    "N = 10\n",
    "H = 28\n",
    "W = 28\n",
    "epochs = 60\n",
    "eps = 1e-6\n",
    "sigma = 25\n",
    "###\n",
    "\n",
    "eps = 1e-6\n",
    "dt = 1/N"
   ]
  },
  {
   "cell_type": "markdown",
   "metadata": {},
   "source": [
    "## Instantiate Dataset"
   ]
  },
  {
   "cell_type": "code",
   "execution_count": null,
   "metadata": {},
   "outputs": [],
   "source": [
    "dataset = CIFARDataset(W, H);\n",
    "\n",
    "channels = dataset.channels\n",
    "n_data = len(dataset)"
   ]
  },
  {
   "cell_type": "markdown",
   "metadata": {},
   "source": [
    "## Create Model"
   ]
  },
  {
   "cell_type": "code",
   "execution_count": null,
   "metadata": {},
   "outputs": [],
   "source": [
    "model_score = ScoreNet(H=H, W=W, in_channels=channels)\n",
    "loss_fn = torch.nn.MSELoss()\n",
    "optimizer = Adam(model_score.parameters(), lr=1e-3)\n",
    "\n",
    "model_score.train();"
   ]
  },
  {
   "cell_type": "markdown",
   "metadata": {},
   "source": [
    "## Create memory buffers\n"
   ]
  },
  {
   "cell_type": "code",
   "execution_count": null,
   "metadata": {},
   "outputs": [],
   "source": [
    "scores = np.zeros((N, channels, H, W), dtype=np.float32)\n",
    "kdes = np.full((n_data, channels), None)\n",
    "\n",
    "params = {\"bandwidth\": np.logspace(-1, 1, 20)}"
   ]
  },
  {
   "cell_type": "markdown",
   "metadata": {},
   "source": [
    "## Diffuse Function for 1 channel"
   ]
  },
  {
   "cell_type": "code",
   "execution_count": null,
   "metadata": {},
   "outputs": [],
   "source": [
    "def get_init_score(data, data_idx, channel):\n",
    "  if not kdes[data_idx, channel]:\n",
    "      grid = GridSearchCV(KernelDensity(), params)\n",
    "      kdes[data_idx, channel] = grid.fit(data.ravel()[:, None]) # 0.7 sec\n",
    "  return kdes[data_idx, channel].score_samples(data.ravel()[:, None])\n",
    "\n",
    "def get_B_block(dx, dy, time_, m, sigma_, channel):\n",
    "  B_block = np.array([])\n",
    "  for i in range(N-1):\n",
    "    B_block = np.append(B_block, construct_B(dx, dy, time_[i+1] - time_[i], m[channel][i].ravel(), np.zeros((H, W)), sigma_[i+1], scores[i][channel].ravel(), i))\n",
    "  \n",
    "  return B_block\n",
    "  \n",
    "def construct_samples(random_t, del_m, m, sigma_, train_x_data, train_y_data, channel):\n",
    "  # constructing the training data and labels\n",
    "  for i, _ in enumerate(random_t, 1):\n",
    "    del_m[channel][i] = np.diff(m[channel][i].ravel(), axis=0, prepend=m[channel][i, 0])\n",
    "\n",
    "  x = torch.tensor(mm_scaler.fit_transform(np.exp((-m[channel].ravel() - logsumexp(-m[channel].ravel())))[:, None])).reshape((N, 1, H, W))\n",
    "  perturbed_x = x + torch.randn_like(x) * torch.sqrt(2 * torch.tensor(sigma_)**2)[:, None, None, None]\n",
    "  train_x_data[:, channel] = perturbed_x[:, 0]\n",
    "  train_y_data[:, channel] = torch.tensor(del_m[channel].astype(np.float32)).reshape((N, H, W))\n"
   ]
  },
  {
   "cell_type": "code",
   "execution_count": null,
   "metadata": {},
   "outputs": [],
   "source": [
    "def diffuse(data, x, m , del_m, channel, train_x_data, train_y_data, random_t, time_, sigma_, data_idx):\n",
    "    data = data[channel]\n",
    "    dx = data.detach().numpy().max()/H\n",
    "    dy = data.detach().numpy().max()/W\n",
    "    \n",
    "    x[channel][0] = torch.tensor(mm_scaler.fit_transform(data.ravel()[:, None]).astype(np.float32).reshape((1, 1, H, W)))\n",
    "    m[channel][0] = get_init_score(data, data_idx, channel)\n",
    "    del_m[channel][0] = np.diff(m[channel][0].ravel(), axis=0, prepend=m[channel][0,0])\n",
    "    \n",
    "    A_block = get_sparse_A_block(dx, dy, random_t - time_[:N-1], np.sqrt(2) * sigma_[1:], scores[1:, channel], H, W, N)\n",
    "    \n",
    "    B_block = get_B_block(dx, dy, time_, m, sigma_, channel)\n",
    "    \n",
    "    m[channel][1:] = solve_pde(A_block, B_block, mode=\"sp_sparse\").reshape((N-1, H*W))\n",
    "\n",
    "    construct_samples(random_t, del_m, m, sigma_, train_x_data, train_y_data, channel)\n",
    "    "
   ]
  },
  {
   "cell_type": "markdown",
   "metadata": {},
   "source": [
    "## Train"
   ]
  },
  {
   "cell_type": "code",
   "execution_count": null,
   "metadata": {},
   "outputs": [],
   "source": [
    "\n",
    "threads = [None] * channels\n",
    "loss_c_hist = []\n",
    "loss_hist = []\n",
    "\n",
    "for e in tqdm(range(epochs)):\n",
    "  x = torch.zeros((channels, N, H, W))\n",
    "  m = np.zeros((channels, N, H*W), dtype=np.float32)\n",
    "  del_m = np.zeros_like(m, dtype=np.float32)\n",
    "  # we want to sample from random time steps to construct training samples\n",
    "  random_t = np.linspace([dt + eps] * n_data, [1] * n_data, N-1, axis=1)\n",
    "  random_t += np.random.uniform(-dt/2, dt/2, random_t.shape)\n",
    "  random_t[:, -1] = 1\n",
    "  time_ = np.sort(np.insert(random_t, 0, eps, axis=1), axis=1).astype(np.float32)\n",
    "  sigma_ = diffusion_coeff(torch.tensor(time_), sigma).detach().cpu().numpy()\n",
    "  for idx, x_ in enumerate(dataset):\n",
    "    data = x_\n",
    "    train_x_data = torch.zeros((N, channels, H, W))\n",
    "    train_y_data = torch.zeros_like(train_x_data)\n",
    "    \n",
    "    # diffuse all three channels concurrently\n",
    "    start = time.time()\n",
    "    for i in range(channels):\n",
    "      threads[i] = threading.Thread(target=diffuse, args=[data, x, m, del_m, i, train_x_data, train_y_data, random_t[idx], time_[idx], sigma_[idx], idx])\n",
    "      threads[i].start()\n",
    "    for thread in threads:\n",
    "      thread.join()\n",
    "      \n",
    "    print(\"time: \", time.time() - start)\n",
    "    \n",
    "    plt.imshow(np.clip((train_y_data[0] + abs(torch.min(train_y_data[0]))) / (torch.max(train_y_data[0]) + abs(torch.min(train_y_data[0]))), 0, 1).reshape((channels, H, W)).moveaxis(0, 2))\n",
    "    plt.show()\n",
    "    plt.imshow(np.clip((train_y_data[-1] + abs(torch.min(train_y_data[-1]))) / (torch.max(train_y_data[-1]) + abs(torch.min(train_y_data[-1]))), 0, 1).reshape((channels, H, W)).moveaxis(0, 2))\n",
    "    plt.show()\n",
    "\n",
    "    y_pred = model_score(train_x_data, torch.tensor(time_[idx]))\n",
    "    lm = (2*torch.tensor(sigma_[idx])**2)[:, None, None, None]\n",
    "    loss = loss_fn(y_pred/lm, train_y_data)\n",
    "    optimizer.zero_grad()\n",
    "    loss.backward()\n",
    "    optimizer.step()\n",
    "    losses = loss.item()\n",
    "    loss_hist.append(losses)\n",
    "    print(losses)\n",
    "    scores = (y_pred/lm).clone().detach().cpu().numpy().reshape((N, channels, H, W)) # we normalize before fedding back into PDE\n",
    "\n",
    "    plt.imshow(np.moveaxis(np.clip((scores[0] + abs(np.min(scores[0]))) / (np.max(scores[0]) + abs(np.min(scores[0]))), 0, 1).reshape((channels, H, W)), 0, 2))\n",
    "    plt.show()\n",
    "\n",
    "torch.save(model_score.state_dict(), 'model_fdm.pth')\n",
    "print(f\"\\nmodel has been saved\")"
   ]
  }
 ],
 "metadata": {
  "kernelspec": {
   "display_name": ".venv",
   "language": "python",
   "name": "python3"
  },
  "language_info": {
   "codemirror_mode": {
    "name": "ipython",
    "version": 3
   },
   "file_extension": ".py",
   "mimetype": "text/x-python",
   "name": "python",
   "nbconvert_exporter": "python",
   "pygments_lexer": "ipython3",
   "version": "3.11.4"
  }
 },
 "nbformat": 4,
 "nbformat_minor": 2
}
