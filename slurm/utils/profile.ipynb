{
 "cells": [
  {
   "cell_type": "code",
   "execution_count": 1,
   "metadata": {},
   "outputs": [],
   "source": [
    "import os\n",
    "import threading\n",
    "import time\n",
    "\n",
    "\n",
    "import matplotlib.pyplot as plt\n",
    "\n",
    "import numpy as np\n",
    "import scipy as sp\n",
    "from tqdm import tqdm\n",
    "from scipy import sparse\n",
    "from sklearn.preprocessing import MinMaxScaler\n",
    "from sklearn.neighbors import KernelDensity\n",
    "from sklearn.model_selection import GridSearchCV\n",
    "\n",
    "import torch\n",
    "from torchvision.datasets import MNIST\n",
    "import torchvision.transforms as transforms\n",
    "from torch.optim import Adam\n",
    "\n",
    "from kfp_updated import construct_B, diffusion_coeff, construct_R, construct_P, gauss_seidel, solve_pde, logsumexp, construct_A\n",
    "from network import ScoreNet\n",
    "#from net_network import UNet\n",
    "\n",
    "import PIL\n",
    "\n",
    "np.random.seed(2)\n",
    "torch.manual_seed(2)\n",
    "\n",
    "\n",
    "# create a.so if doesnt exists\n",
    "if not os.path.isfile(\"../sparse_gaussian_elimination/a.so\"):\n",
    "    os.system(\"make -C ../sparse_gaussian_elimination a.so\")\n",
    "\n",
    "\n",
    "mnist = MNIST('.', download=True)\n",
    "\n",
    "channels = 1\n",
    "n_data = 1\n",
    "\n",
    "%load_ext line_profiler\n"
   ]
  },
  {
   "cell_type": "code",
   "execution_count": 2,
   "metadata": {},
   "outputs": [
    {
     "data": {
      "image/png": "[encoded data removed]",
      "text/plain": [
       "<Figure size 640x480 with 1 Axes>"
      ]
     },
     "metadata": {},
     "output_type": "display_data"
    }
   ],
   "source": [
    "plt.imshow(mnist.data[0]);"
   ]
  },
  {
   "cell_type": "code",
   "execution_count": 3,
   "metadata": {},
   "outputs": [],
   "source": [
    "## construct the grid and Initial values\n",
    "batch_size = 32\n",
    "N = 10\n",
    "H = 28\n",
    "W = 28\n",
    "epoch = 5\n",
    "eps = 1e-6\n",
    "\n",
    "channels = 3\n",
    "\n",
    "t = np.linspace(eps, 1, N)\n",
    "dt = 1/N\n",
    "\n",
    "sigma = 25\n",
    "\n",
    "# create model\n",
    "model_score = ScoreNet(H=H, W=W, in_channels=channels)\n",
    "loss_fn = torch.nn.MSELoss()\n",
    "optimizer = Adam(model_score.parameters(), lr=1e-3)\n",
    "mm_scaler = MinMaxScaler()\n",
    "model_score.train();\n",
    "\n",
    "#scores = np.random.rand(N, channels, H, W).astype(np.float64)\n",
    "scores = np.zeros((N,channels, H, W), dtype=np.float32)\n",
    "\n",
    "params = {\"bandwidth\": np.logspace(-1, 1, 20)}\n",
    "kdes = np.full((n_data, channels), None)\n",
    "\n",
    "P = construct_P(int(W), int(H/2))\n",
    "P_block = sp.linalg.block_diag(*([P] * (N-1)))\n",
    "sparse_P_block = sp.sparse.block_diag(([P] * (N-1)))\n",
    "\n",
    "R = construct_R(P)\n",
    "R_block = sp.linalg.block_diag(*([R] * (N-1)))\n",
    "sparse_R_block = sp.sparse.block_diag(([R] * (N-1)))\n"
   ]
  },
  {
   "cell_type": "code",
   "execution_count": 4,
   "metadata": {},
   "outputs": [],
   "source": [
    "def diffuse(data, x, m , del_m, m_c, channel, train_xc_data, train_x_data, train_y_data, random_t, time_, sigma_, data_idx):\n",
    "    data = data[channel]\n",
    "    dx = data.detach().numpy().max()/H\n",
    "    dy = data.detach().numpy().max()/W\n",
    "    x[channel][0] = torch.tensor(mm_scaler.fit_transform(data.ravel()[:, None]).astype(np.float32)).reshape((1, 1, H, W))\n",
    "    \n",
    "    if not kdes[data_idx, channel]:\n",
    "      grid = GridSearchCV(KernelDensity(), params)\n",
    "      kdes[data_idx, channel] = grid.fit(data.ravel()[:, None]) # 0.7 sec\n",
    "    \n",
    "    m[channel][0] = kdes[data_idx, channel].score_samples(data.ravel()[:, None])\n",
    "    del_m[channel][0] = np.diff(m[channel][0].ravel(), axis=0, prepend=m[channel][0,0])\n",
    "    \n",
    "    # we normalize for sigma to ensure the dynamics doesn't blow up\n",
    "    As = []\n",
    "    for i, t_ in enumerate(random_t, 1):\n",
    "      A = construct_A(dx, dy, t_ - time_[i-1], np.sqrt(2) * sigma_[i], scores[i][channel].ravel(), H, W)\n",
    "      As.append(A)\n",
    "\n",
    "    A_block = sp.linalg.block_diag(*As)\n",
    "    for i, t_ in enumerate(random_t, 1):\n",
    "      if i == 1:\n",
    "        continue\n",
    "      A_block[(i-1)*H*W:i*H*W, (i-2)*H*W:(i-1)*H*W] = -np.eye((H*W))/(t_ - time_[i-1])\n",
    "    \n",
    "    \n",
    "    B = construct_B(dx, dy, time_[1] - time_[0], m[channel][0].ravel(), np.zeros((H*W)), sigma_[1], scores[i][channel].ravel())\n",
    "    B_block = np.zeros(A_block.shape[0])\n",
    "    B_block[:H*W] = B\n",
    "    \n",
    "    # update m (pre-smoothing)\n",
    "    \n",
    "    m[channel][1:] = gauss_seidel(A_block, B_block, scores[1:, channel].flatten(), A_block.shape[0]).reshape(((N-1), H*W)) # 0.4\n",
    "    \n",
    "    \n",
    "    ##### 0.5\n",
    "    # we want to perform the coarse grid\n",
    "    # compute residual r = b - Am[1:]\n",
    "    r = B_block - A_block@(m[channel][1:]).flatten()\n",
    "    # coursening step 1: r_c = R_c@r\n",
    "    r_c = R_block@r\n",
    "    # coursening A_c = R_c@A@P_c (Petrov-Galerkin Coursening)\n",
    "\n",
    "    sparse_A_block = sparse.csr_matrix(A_block)\n",
    "    \n",
    "    A_c = (sparse_R_block@sparse_A_block@sparse_P_block) # 0.5\n",
    "    \n",
    "    # compute course err: err_c = solve_pde(A_c,r_c)\n",
    "    err_c = solve_pde(A_c, r_c, mode='sp_sparse')\n",
    "    \n",
    "    # interpolate to fine grid: err = P_c@err_c\n",
    "    #print(P_block.shape)\n",
    "    #print(err_c)\n",
    "    err = P_block@err_c\n",
    "    # we apply fine grid-correction\n",
    "    m[channel][1:] = (m[channel][1:].flatten() + err).reshape((N-1, H*W))\n",
    "    # post smoothing\n",
    "    m[channel][1:] = gauss_seidel(A_block, B_block, m[channel][1:].flatten(), A_block.shape[0]).reshape(((N-1), H*W))\n",
    "\n",
    "    # we want to coarsen the score function to train on coarse data\n",
    "    m_c[channel][1:] = (R_block@m[channel][1:].flatten()).reshape((-1, int(H*W/4)))\n",
    "\n",
    "    # constructing the training data and labels\n",
    "    for i, t_ in enumerate(random_t, 1):\n",
    "      del_m[channel][i] = np.diff(m[channel][i].ravel(), axis=0, prepend=m[channel][i, 0])\n",
    "\n",
    "    x = torch.tensor(mm_scaler.fit_transform(np.exp((-m[channel].ravel() - logsumexp(-m[channel].ravel())))[:, None])).reshape((N, 1, H, W))\n",
    "    perturbed_x = x + torch.randn_like(x) * torch.sqrt(2 * torch.tensor(sigma_)**2)[:, None, None, None]\n",
    "    train_x_data[:, channel] = perturbed_x[:, 0]\n",
    "    train_y_data[:, channel] = torch.tensor(del_m[channel].astype(np.float32)).reshape((N, H, W))\n",
    "\n",
    "    # generate coarse dataset\n",
    "    x_c = torch.tensor(mm_scaler.fit_transform(np.exp((-m_c[channel].ravel() - logsumexp(-m_c[channel].ravel())))[:, None])).reshape((N, int(H/2), int(W/2)))\n",
    "    perturbed_xc = x_c + torch.randn_like(x_c) * torch.sqrt(2 * torch.tensor(sigma_)**2)[:, None, None]\n",
    "    train_xc_data[:, channel] = perturbed_xc"
   ]
  },
  {
   "cell_type": "code",
   "execution_count": 9,
   "metadata": {},
   "outputs": [
    {
     "name": "stdout",
     "output_type": "stream",
     "text": [
      "Timer unit: 0.1 s\n",
      "\n",
      "Total time: 1.38967 s\n",
      "File: /tmp/ipykernel_2472575/3416826710.py\n",
      "Function: diffuse at line 1\n",
      "\n",
      "Line #      Hits         Time  Per Hit   % Time  Line Contents\n",
      "==============================================================\n",
      "     1                                           def diffuse(data, x, m , del_m, m_c, channel, train_xc_data, train_x_data, train_y_data, random_t, time_, sigma_, data_idx):\n",
      "     2         1          0.0      0.0      0.0      data = data[channel]\n",
      "     3         1          0.0      0.0      0.0      dx = data.detach().numpy().max()/H\n",
      "     4         1          0.0      0.0      0.0      dy = data.detach().numpy().max()/W\n",
      "     5         1          0.0      0.0      0.1      x[channel][0] = torch.tensor(mm_scaler.fit_transform(data.ravel()[:, None]).astype(np.float32)).reshape((1, 1, H, W))\n",
      "     6                                               \n",
      "     7         1          0.0      0.0      0.0      if not kdes[data_idx, channel]:\n",
      "     8                                                 grid = GridSearchCV(KernelDensity(), params)\n",
      "     9                                                 kdes[data_idx, channel] = grid.fit(data.ravel()[:, None]) # 0.7 sec\n",
      "    10                                               \n",
      "    11         1          0.6      0.6      4.4      m[channel][0] = kdes[data_idx, channel].score_samples(data.ravel()[:, None])\n",
      "    12         1          0.0      0.0      0.0      del_m[channel][0] = np.diff(m[channel][0].ravel(), axis=0, prepend=m[channel][0,0])\n",
      "    13                                               \n",
      "    14                                               # we normalize for sigma to ensure the dynamics doesn't blow up\n",
      "    15         1          0.0      0.0      0.0      As = []\n",
      "    16        10          0.0      0.0      0.0      for i, t_ in enumerate(random_t, 1):\n",
      "    17         9          1.2      0.1      8.8        A = construct_A(dx, dy, t_ - time_[i-1], np.sqrt(2) * sigma_[i], scores[i][channel].ravel(), H, W)\n",
      "    18         9          0.0      0.0      0.0        As.append(A)\n",
      "    19                                           \n",
      "    20         1          0.3      0.3      2.5      A_block = sp.linalg.block_diag(*As)\n",
      "    21        10          0.0      0.0      0.0      for i, t_ in enumerate(random_t, 1):\n",
      "    22         9          0.0      0.0      0.0        if i == 1:\n",
      "    23         1          0.0      0.0      0.0          continue\n",
      "    24         8          0.3      0.0      1.9        A_block[(i-1)*H*W:i*H*W, (i-2)*H*W:(i-1)*H*W] = -np.eye((H*W))/(t_ - time_[i-1])\n",
      "    25                                               \n",
      "    26                                               \n",
      "    27         1          0.0      0.0      0.0      B = construct_B(dx, dy, time_[1] - time_[0], m[channel][0].ravel(), np.zeros((H*W)), sigma_[1], scores[i][channel].ravel())\n",
      "    28         1          0.0      0.0      0.0      B_block = np.zeros(A_block.shape[0])\n",
      "    29         1          0.0      0.0      0.0      B_block[:H*W] = B\n",
      "    30                                               \n",
      "    31                                               # update m (pre-smoothing)\n",
      "    32                                               \n",
      "    33         1          3.7      3.7     26.4      m[channel][1:] = gauss_seidel(A_block, B_block, scores[1:, channel].flatten(), A_block.shape[0]).reshape(((N-1), H*W)) # 0.4\n",
      "    34                                               \n",
      "    35                                               \n",
      "    36                                               ##### 0.5\n",
      "    37                                               # we want to perform the coarse grid\n",
      "    38                                               # compute residual r = b - Am[1:]\n",
      "    39         1          0.1      0.1      0.4      r = B_block - A_block@(m[channel][1:]).flatten()\n",
      "    40                                               # coursening step 1: r_c = R_c@r\n",
      "    41         1          0.0      0.0      0.1      r_c = R_block@r\n",
      "    42                                               # coursening A_c = R_c@A@P_c (Petrov-Galerkin Coursening)\n",
      "    43                                           \n",
      "    44         1          2.8      2.8     20.2      sparse_A_block = sparse.csr_matrix(A_block)\n",
      "    45                                               \n",
      "    46         1          1.3      1.3      9.2      A_c = (sparse_R_block@sparse_A_block@sparse_P_block) # 0.5\n",
      "    47                                               \n",
      "    48                                               # compute course err: err_c = solve_pde(A_c,r_c)\n",
      "    49         1          0.3      0.3      2.2      err_c = solve_pde(A_c, r_c, mode='sp_sparse')\n",
      "    50                                               \n",
      "    51                                               # interpolate to fine grid: err = P_c@err_c\n",
      "    52                                               #print(P_block.shape)\n",
      "    53                                               #print(err_c)\n",
      "    54         1          0.0      0.0      0.1      err = P_block@err_c\n",
      "    55                                               # we apply fine grid-correction\n",
      "    56         1          0.0      0.0      0.0      m[channel][1:] = (m[channel][1:].flatten() + err).reshape((N-1, H*W))\n",
      "    57                                               # post smoothing\n",
      "    58         1          3.3      3.3     23.5      m[channel][1:] = gauss_seidel(A_block, B_block, m[channel][1:].flatten(), A_block.shape[0]).reshape(((N-1), H*W))\n",
      "    59                                           \n",
      "    60                                               # we want to coarsen the score function to train on coarse data\n",
      "    61         1          0.0      0.0      0.1      m_c[channel][1:] = (R_block@m[channel][1:].flatten()).reshape((-1, int(H*W/4)))\n",
      "    62                                           \n",
      "    63                                               # constructing the training data and labels\n",
      "    64        10          0.0      0.0      0.0      for i, t_ in enumerate(random_t, 1):\n",
      "    65         9          0.0      0.0      0.0        del_m[channel][i] = np.diff(m[channel][i].ravel(), axis=0, prepend=m[channel][i, 0])\n",
      "    66                                           \n",
      "    67         1          0.0      0.0      0.1      x = torch.tensor(mm_scaler.fit_transform(np.exp((-m[channel].ravel() - logsumexp(-m[channel].ravel())))[:, None])).reshape((N, 1, H, W))\n",
      "    68         1          0.0      0.0      0.0      perturbed_x = x + torch.randn_like(x) * torch.sqrt(2 * torch.tensor(sigma_)**2)[:, None, None, None]\n",
      "    69         1          0.0      0.0      0.0      train_x_data[:, channel] = perturbed_x[:, 0]\n",
      "    70         1          0.0      0.0      0.0      train_y_data[:, channel] = torch.tensor(del_m[channel].astype(np.float32)).reshape((N, H, W))\n",
      "    71                                           \n",
      "    72                                               # generate coarse dataset\n",
      "    73         1          0.0      0.0      0.0      x_c = torch.tensor(mm_scaler.fit_transform(np.exp((-m_c[channel].ravel() - logsumexp(-m_c[channel].ravel())))[:, None])).reshape((N, int(H/2), int(W/2)))\n",
      "    74         1          0.0      0.0      0.0      perturbed_xc = x_c + torch.randn_like(x_c) * torch.sqrt(2 * torch.tensor(sigma_)**2)[:, None, None]\n",
      "    75         1          0.0      0.0      0.0      train_xc_data[:, channel] = perturbed_xc"
     ]
    }
   ],
   "source": [
    "\n",
    "x = torch.zeros((channels, N, H, W))\n",
    "m = np.zeros((channels, N, H*W), dtype=np.float32)\n",
    "del_m = np.zeros_like(m, dtype=np.float32)\n",
    "m_c = np.zeros((channels, N, int((H*W/4))), dtype=np.float32)\n",
    "# we want to sample from random time steps to construct training samples\n",
    "random_t = np.linspace([dt + eps] * n_data, [1] * n_data, N-1, axis=1).astype(np.float64)\n",
    "random_t += np.random.uniform(-dt/2, dt/2, random_t.shape)\n",
    "random_t[:, -1] = 1\n",
    "time_ = np.sort(np.insert(random_t, 0, eps, axis=1), axis=1).astype(np.float32)\n",
    "sigma_ = diffusion_coeff(torch.tensor(time_), sigma).detach().cpu().numpy()\n",
    "\n",
    "data = mnist.data[0].reshape(1, 28, 28)\n",
    "train_xc_data = torch.zeros((N, channels, int(H/2), int(W/2)))\n",
    "train_x_data = torch.zeros((N, channels, H, W))\n",
    "train_y_data = torch.zeros_like(train_x_data)\n",
    "\n",
    "#%lprun -u 0.1 -f construct_A_test construct_A_test(0.01, 0.01, random_t[0] - time_[0][:N-1],  np.zeros((N-1, H, W)), sigma_[0][1:], scores[1:, 0], H, W)\n",
    "%lprun -u 0.1 -f diffuse diffuse(data, x, m, del_m, m_c, 0, train_xc_data, train_x_data, train_y_data, random_t[0], time_[0], sigma_[0], 0)"
   ]
  },
  {
   "cell_type": "code",
   "execution_count": 6,
   "metadata": {},
   "outputs": [
    {
     "data": {
      "text/plain": [
       "(2, 3)"
      ]
     },
     "execution_count": 6,
     "metadata": {},
     "output_type": "execute_result"
    }
   ],
   "source": [
    "a = np.array([[1, 2, 3], [3, 4, 5]])\n",
    "b = np.array([1, 2, 3])\n",
    "(a + b).shape"
   ]
  },
  {
   "cell_type": "code",
   "execution_count": 7,
   "metadata": {},
   "outputs": [
    {
     "data": {
      "text/plain": [
       "(2, 3)"
      ]
     },
     "execution_count": 7,
     "metadata": {},
     "output_type": "execute_result"
    }
   ],
   "source": [
    "a.shape"
   ]
  },
  {
   "cell_type": "code",
   "execution_count": 8,
   "metadata": {},
   "outputs": [
    {
     "data": {
      "text/plain": [
       "(2, 3)"
      ]
     },
     "execution_count": 8,
     "metadata": {},
     "output_type": "execute_result"
    }
   ],
   "source": [
    "a.shape"
   ]
  }
 ],
 "metadata": {
  "kernelspec": {
   "display_name": ".venv",
   "language": "python",
   "name": "python3"
  },
  "language_info": {
   "codemirror_mode": {
    "name": "ipython",
    "version": 3
   },
   "file_extension": ".py",
   "mimetype": "text/x-python",
   "name": "python",
   "nbconvert_exporter": "python",
   "pygments_lexer": "ipython3",
   "version": "3.11.4"
  }
 },
 "nbformat": 4,
 "nbformat_minor": 2
}
