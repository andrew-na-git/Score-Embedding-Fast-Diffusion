{
 "cells": [
  {
   "cell_type": "code",
   "execution_count": 136,
   "metadata": {},
   "outputs": [],
   "source": [
    "import numpy as np\n",
    "import matplotlib.pyplot as plt\n",
    "import sys\n",
    "sys.path.insert(0, \"../..\")\n",
    "import matplotlib.animation as animation\n",
    "from data.Dataset import CIFARDataset, CelebDataset\n",
    "from skimage.metrics import structural_similarity\n"
   ]
  },
  {
   "cell_type": "markdown",
   "metadata": {},
   "source": [
    "# Load data"
   ]
  },
  {
   "cell_type": "code",
   "execution_count": 137,
   "metadata": {},
   "outputs": [],
   "source": [
    "H = W = 32\n",
    "\n",
    "# pick dataset\n",
    "#dataset = CelebDataset(H=H, W=W, n=1, repeat=batch_size)\n",
    "#dataset = ImageNetDataset(H=H, W=W, n=1, repeat=batch_size)\n",
    "dataset = CIFARDataset(H=H, W=W, n=1, seed=9, repeat=batch_size)\n",
    "samples = np.load(\"samples.npy\")\n",
    "ground_truth = [x.numpy() for x in ds.data]"
   ]
  },
  {
   "cell_type": "markdown",
   "metadata": {},
   "source": [
    "# SSIM"
   ]
  },
  {
   "cell_type": "code",
   "execution_count": 138,
   "metadata": {},
   "outputs": [],
   "source": [
    "def ssim_metric(ground_truths, diffused):\n",
    "    losses = []\n",
    "    for ground, diffuse in zip(ground_truths, diffused):\n",
    "        norm_diffuse = (diffuse - diffuse.min()) / (diffuse.max() - diffuse.min())\n",
    "        losses.append(structural_similarity(ground, norm_diffuse, channel_axis=0, data_range=1))\n",
    "\n",
    "    return losses"
   ]
  },
  {
   "cell_type": "code",
   "execution_count": 139,
   "metadata": {},
   "outputs": [
    {
     "data": {
      "text/plain": [
       "[0.9908428]"
      ]
     },
     "execution_count": 139,
     "metadata": {},
     "output_type": "execute_result"
    }
   ],
   "source": [
    "ssim_metric(ground_truth, samples[-1])"
   ]
  },
  {
   "cell_type": "markdown",
   "metadata": {},
   "source": [
    "# MSE"
   ]
  },
  {
   "cell_type": "code",
   "execution_count": 140,
   "metadata": {},
   "outputs": [],
   "source": [
    "def mse_metric(ground_truths, diffused):\n",
    "    losses = []\n",
    "    for ground, diffuse in zip(ground_truths, diffused):\n",
    "        norm_diffuse = (diffuse - diffuse.min()) / (diffuse.max() - diffuse.min())\n",
    "        losses.append(np.mean((ground - norm_diffuse) ** 2))\n",
    "\n",
    "    return losses"
   ]
  },
  {
   "cell_type": "code",
   "execution_count": 141,
   "metadata": {},
   "outputs": [
    {
     "data": {
      "text/plain": [
       "[0.00045312595]"
      ]
     },
     "execution_count": 141,
     "metadata": {},
     "output_type": "execute_result"
    }
   ],
   "source": [
    "mse_metric(ground_truth, samples[-1])"
   ]
  },
  {
   "cell_type": "markdown",
   "metadata": {},
   "source": [
    "# Ground truth"
   ]
  },
  {
   "cell_type": "code",
   "execution_count": 142,
   "metadata": {},
   "outputs": [
    {
     "data": {
      "image/png": "[encoded data removed]",
      "text/plain": [
       "<Figure size 640x480 with 1 Axes>"
      ]
     },
     "metadata": {},
     "output_type": "display_data"
    }
   ],
   "source": [
    "plt.imshow(np.moveaxis(ground_truth[0], 0, 2));"
   ]
  },
  {
   "cell_type": "markdown",
   "metadata": {},
   "source": [
    "# Sample"
   ]
  },
  {
   "cell_type": "code",
   "execution_count": 143,
   "metadata": {},
   "outputs": [
    {
     "data": {
      "image/png": "[encoded data removed]",
      "text/plain": [
       "<Figure size 640x480 with 1 Axes>"
      ]
     },
     "metadata": {},
     "output_type": "display_data"
    }
   ],
   "source": [
    "sample = samples[-1][0]\n",
    "sample = (sample - sample.min()) / (sample.max() - sample.min())\n",
    "plt.imshow(np.moveaxis(sample, 0, 2));"
   ]
  },
  {
   "cell_type": "markdown",
   "metadata": {},
   "source": [
    "# Generate GIF (Saved to animation.gif)"
   ]
  },
  {
   "cell_type": "code",
   "execution_count": 144,
   "metadata": {},
   "outputs": [],
   "source": [
    "def generate_gif(sample, sample_idx):\n",
    "\n",
    "    def get_frame(i):\n",
    "        return ((samples[i, sample_idx] - samples[i, sample_idx].min())/(samples[i, sample_idx].max() - samples[i, sample_idx].min())).transpose(1, 2, 0)\n",
    "\n",
    "    fig = plt.figure(figsize=(8,8));\n",
    "\n",
    "    im = plt.imshow(get_frame(0), animated=True)\n",
    "\n",
    "    def frame(i):\n",
    "        if i >= len(samples):\n",
    "            im.set_data(get_frame(-1));\n",
    "        else:\n",
    "            im.set_data(get_frame(i));\n",
    "\n",
    "        return [im]\n",
    "\n",
    "    animation_fig = animation.FuncAnimation(fig, frame, frames=samples.shape[0] + 20, blit=False);\n",
    "\n",
    "    animation_fig.save(\"animation.gif\", writer=animation.PillowWriter(fps=10));"
   ]
  },
  {
   "cell_type": "code",
   "execution_count": 145,
   "metadata": {},
   "outputs": [],
   "source": [
    "#generate_gif(samples, 0)"
   ]
  },
  {
   "cell_type": "code",
   "execution_count": null,
   "metadata": {},
   "outputs": [],
   "source": []
  }
 ],
 "metadata": {
  "kernelspec": {
   "display_name": ".venv",
   "language": "python",
   "name": "python3"
  },
  "language_info": {
   "codemirror_mode": {
    "name": "ipython",
    "version": 3
   },
   "file_extension": ".py",
   "mimetype": "text/x-python",
   "name": "python",
   "nbconvert_exporter": "python",
   "pygments_lexer": "ipython3",
   "version": "3.9.6"
  }
 },
 "nbformat": 4,
 "nbformat_minor": 2
}
