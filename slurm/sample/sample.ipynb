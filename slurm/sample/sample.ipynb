{
 "cells": [
  {
   "cell_type": "code",
   "execution_count": 29,
   "metadata": {},
   "outputs": [],
   "source": [
    "import sys\n",
    "sys.path.insert(0, '..')\n",
    "import torch\n",
    "from scipy import integrate\n",
    "import matplotlib.pyplot as plt\n",
    "import matplotlib.animation as animation\n",
    "import numpy as np\n",
    "import functools\n",
    "\n",
    "sigma = 2\n",
    "\n",
    "from utils.kfp import diffusion_coeff, marginal_prob_std\n",
    "from network.network import ScoreNet\n",
    "\n",
    "marginal_prob_std_fn = functools.partial(marginal_prob_std, sigma=sigma)\n",
    "diffusion_coeff_fn = functools.partial(diffusion_coeff, sigma=sigma)\n",
    "\n",
    "\n",
    "error_tolerance = 1e-5\n",
    "\n",
    "channels = 3\n",
    "N = 50\n",
    "H = 28\n",
    "W = 28"
   ]
  },
  {
   "cell_type": "code",
   "execution_count": 53,
   "metadata": {},
   "outputs": [],
   "source": [
    "## The error tolerance for the black-box ODE solver\n",
    "error_tolerance = 1e-5\n",
    "def ode_sampler(score_model,\n",
    "                marginal_prob_std,\n",
    "                diffusion_coeff,\n",
    "                batch_size=64,\n",
    "                atol=error_tolerance,\n",
    "                rtol=error_tolerance,\n",
    "                device='cpu',\n",
    "                input_channels=3,\n",
    "                z=None,\n",
    "                idx=0,\n",
    "                eps=1e-3):\n",
    "  \"\"\"Generate samples from score-based models with black-box ODE solvers.\n",
    "\n",
    "  Args:\n",
    "    score_model: A PyTorch model that represents the time-dependent score-based model.\n",
    "    marginal_prob_std: A function that returns the standard deviation\n",
    "      of the perturbation kernel.\n",
    "    diffusion_coeff: A function that returns the diffusion coefficient of the SDE.\n",
    "    batch_size: The number of samplers to generate by calling this function once.\n",
    "    atol: Tolerance of absolute errors.\n",
    "    rtol: Tolerance of relative errors.\n",
    "    device: 'cuda' for running on GPUs, and 'cpu' for running on CPUs.\n",
    "    z: The latent code that governs the final sample. If None, we start from p_1;\n",
    "      otherwise, we start from the given z.\n",
    "    eps: The smallest time step for numerical stability.\n",
    "  \"\"\"\n",
    "  t = torch.ones(batch_size, device=device) * eps\n",
    "  #t = torch.tensor(np.linspace(1., eps, N))\n",
    "  # Create the latent code\n",
    "  if z is None:\n",
    "    initial_x = torch.randn(batch_size, input_channels, H, W, device=device) \\\n",
    "      * marginal_prob_std(t)[:, None, None, None]\n",
    "  else:\n",
    "    initial_x = z + torch.randn(batch_size, input_channels, H, W, device=device) \\\n",
    "      * marginal_prob_std(t)[:, None, None, None]\n",
    "\n",
    "  shape = initial_x.shape\n",
    "\n",
    "  def score_eval_wrapper(sample, time_steps):\n",
    "    \"\"\"A wrapper of the score-based model for use by the ODE solver.\"\"\"\n",
    "    sample = torch.tensor(sample, device=device, dtype=torch.float32).reshape(shape)\n",
    "    time_steps = torch.tensor(time_steps, device=device, dtype=torch.float32).reshape((sample.shape[0], ))\n",
    "    time_steps += torch.tensor(list(range(sample.shape[0])))\n",
    "    with torch.no_grad():\n",
    "      score = score_model(sample, time_steps)\n",
    "    return score.cpu().numpy().reshape((-1,)).astype(np.float64)\n",
    "\n",
    "  def ode_func(t, x):\n",
    "    \"\"\"The ODE function for use by the ODE solver.\"\"\"\n",
    "    time_steps = np.ones((shape[0],)) * t\n",
    "    g = diffusion_coeff(torch.tensor(t)).cpu().numpy()\n",
    "    result = -0.5 * (g**2) * score_eval_wrapper(x, time_steps)\n",
    "    return result\n",
    "\n",
    "  # Run the black-box ODE solver.\n",
    "  res = integrate.solve_ivp(ode_func, (1., eps), initial_x.reshape(-1).cpu().numpy(), rtol=rtol, atol=atol, method='RK45')\n",
    "  print(f\"\\nNumber of function evaluations: {res.nfev}\")\n",
    "  x = []\n",
    "  for i in range(res.y.shape[1]):\n",
    "    x.append(res.y[:, i].reshape(shape))\n",
    "  return np.array(x)"
   ]
  },
  {
   "cell_type": "code",
   "execution_count": 54,
   "metadata": {},
   "outputs": [],
   "source": [
    "# function for sampling on a thread\n",
    "def diffuse_sample(samples, diffusion_coeff, marginal_prob_std):\n",
    "\n",
    "  model_score = ScoreNet(marginal_prob_std=marginal_prob_std)\n",
    "  file = f'../model_cifar_thread_all.pth'\n",
    "  ckpt = torch.load(file, map_location=\"cpu\")\n",
    "  model_score.load_state_dict(ckpt)\n",
    "  model_score.eval();\n",
    "\n",
    "  sample_batch_size = 2\n",
    "  sampler = ode_sampler\n",
    "\n",
    "  # Generate samples using the specified sampler.\n",
    "  output = sampler(model_score,\n",
    "                  marginal_prob_std,\n",
    "                  diffusion_coeff,\n",
    "                  sample_batch_size,\n",
    "                  input_channels=3\n",
    "                  )\n",
    "\n",
    "  samples.append(output)"
   ]
  },
  {
   "cell_type": "code",
   "execution_count": 56,
   "metadata": {},
   "outputs": [
    {
     "name": "stdout",
     "output_type": "stream",
     "text": [
      "\n",
      "Number of function evaluations: 380\n"
     ]
    },
    {
     "data": {
      "text/plain": [
       "(55, 2, 3, 28, 28)"
      ]
     },
     "execution_count": 56,
     "metadata": {},
     "output_type": "execute_result"
    }
   ],
   "source": [
    "#@title Sample each channel on a thread\n",
    "#threads = [None] * channels\n",
    "samples = []\n",
    "\n",
    "diffuse_sample(samples, diffusion_coeff_fn, marginal_prob_std_fn)\n",
    "# # diffuse all three channels concurrently\n",
    "# for ch in range(channels):\n",
    "#   threads[ch] = threading.Thread(target=diffuse_sample, args=[ch, samples, diffusion_coeff_fn, marginal_prob_std_fn])\n",
    "#   threads[ch].start()\n",
    "\n",
    "# for thread in threads:\n",
    "#   thread.join()\n",
    "\n",
    "samples = np.concatenate(samples, axis = 1)\n",
    "# for i in range(samples.shape[0]):\n",
    "#   print(f'{samples[i].mean(), samples[i].std()}')\n",
    "#   plt.imshow(((samples[i] - samples[i].min())/(samples[i].max() - samples[i].min())).transpose(1, 2, 0))\n",
    "#   plt.show()\n",
    "\n"
   ]
  },
  {
   "cell_type": "code",
   "execution_count": 59,
   "metadata": {},
   "outputs": [
    {
     "data": {
      "image/png": "[encoded data removed]",
      "text/plain": [
       "<Figure size 800x800 with 1 Axes>"
      ]
     },
     "metadata": {},
     "output_type": "display_data"
    }
   ],
   "source": [
    "sample_idx = 1\n",
    "\n",
    "def get_frame(i):\n",
    "  #return samples[i].transpose(1, 2, 0)\n",
    "  return ((samples[i, sample_idx] - samples[i, sample_idx].min())/(samples[i, sample_idx].max() - samples[i, sample_idx].min())).transpose(1, 2, 0)\n",
    "\n",
    "fig = plt.figure(figsize=(8,8));\n",
    "\n",
    "im = plt.imshow(get_frame(0), animated=True)\n",
    "\n",
    "def frame(i):\n",
    "  if i >= len(samples):\n",
    "    im.set_data(get_frame(-1));\n",
    "  else:\n",
    "    im.set_data(get_frame(i));\n",
    "\n",
    "  return [im]\n",
    "\n",
    "animation_fig = animation.FuncAnimation(fig, frame, frames=samples.shape[0] + 20, blit=False);\n",
    "\n",
    "animation_fig.save(\"animation.gif\", writer=animation.PillowWriter(fps=10));"
   ]
  },
  {
   "cell_type": "code",
   "execution_count": 60,
   "metadata": {},
   "outputs": [
    {
     "data": {
      "text/plain": [
       "<matplotlib.image.AxesImage at 0x2b0f196279a0>"
      ]
     },
     "execution_count": 60,
     "metadata": {},
     "output_type": "execute_result"
    },
    {
     "data": {
      "image/png": "[encoded data removed]",
      "text/plain": [
       "<Figure size 640x480 with 1 Axes>"
      ]
     },
     "metadata": {},
     "output_type": "display_data"
    }
   ],
   "source": [
    "plt.imshow(get_frame(-1))"
   ]
  },
  {
   "cell_type": "code",
   "execution_count": 35,
   "metadata": {},
   "outputs": [
    {
     "data": {
      "text/plain": [
       "array([[[0.62288746, 0.60045753, 0.53062612],\n",
       "        [0.72946536, 0.70139532, 0.73755887],\n",
       "        [0.83086192, 0.82629006, 0.84042403],\n",
       "        ...,\n",
       "        [0.78647693, 0.75317703, 0.69645838],\n",
       "        [0.80335158, 0.67645673, 0.62440778],\n",
       "        [0.58175596, 0.56146764, 0.51212593]],\n",
       "\n",
       "       [[0.79389611, 0.76017459, 0.78458929],\n",
       "        [0.80574805, 0.86169663, 0.88729157],\n",
       "        [0.84359897, 0.85093068, 0.91518903],\n",
       "        ...,\n",
       "        [0.64822188, 0.69954178, 0.63780849],\n",
       "        [0.65041979, 0.58135351, 0.62291032],\n",
       "        [0.63168225, 0.5947048 , 0.55536929]],\n",
       "\n",
       "       [[0.76454692, 0.76875626, 0.75247488],\n",
       "        [0.76885233, 0.81493792, 0.81400594],\n",
       "        [0.84122728, 0.8288579 , 0.87416062],\n",
       "        ...,\n",
       "        [0.72808451, 0.69109933, 0.63817638],\n",
       "        [0.65042802, 0.63075702, 0.56041378],\n",
       "        [0.66296607, 0.58499043, 0.54924876]],\n",
       "\n",
       "       ...,\n",
       "\n",
       "       [[0.16923488, 0.08375093, 0.15272728],\n",
       "        [0.11313758, 0.10187594, 0.11957195],\n",
       "        [0.17635965, 0.18213855, 0.24708573],\n",
       "        ...,\n",
       "        [0.54390766, 0.46075115, 0.36789556],\n",
       "        [0.52790456, 0.48528235, 0.37423552],\n",
       "        [0.54398246, 0.48025243, 0.44173787]],\n",
       "\n",
       "       [[0.26858929, 0.28080534, 0.28343057],\n",
       "        [0.23715249, 0.26012929, 0.36754442],\n",
       "        [0.13735032, 0.1750579 , 0.27730396],\n",
       "        ...,\n",
       "        [0.39551472, 0.37706253, 0.32502853],\n",
       "        [0.37044552, 0.36681795, 0.2653982 ],\n",
       "        [0.41718272, 0.34902581, 0.32045179]],\n",
       "\n",
       "       [[0.33657324, 0.34444537, 0.34330939],\n",
       "        [0.31529275, 0.40641995, 0.40744181],\n",
       "        [0.33730601, 0.32716452, 0.36642742],\n",
       "        ...,\n",
       "        [0.41571253, 0.36667192, 0.38655691],\n",
       "        [0.3740438 , 0.3905367 , 0.35739207],\n",
       "        [0.35118965, 0.30649132, 0.30288282]]])"
      ]
     },
     "execution_count": 35,
     "metadata": {},
     "output_type": "execute_result"
    }
   ],
   "source": [
    "get_frame(-1)"
   ]
  }
 ],
 "metadata": {
  "kernelspec": {
   "display_name": ".venv",
   "language": "python",
   "name": "python3"
  },
  "language_info": {
   "codemirror_mode": {
    "name": "ipython",
    "version": 3
   },
   "file_extension": ".py",
   "mimetype": "text/x-python",
   "name": "python",
   "nbconvert_exporter": "python",
   "pygments_lexer": "ipython3",
   "version": "3.9.6"
  }
 },
 "nbformat": 4,
 "nbformat_minor": 2
}
