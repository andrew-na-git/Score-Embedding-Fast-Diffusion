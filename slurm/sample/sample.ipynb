{
 "cells": [
  {
   "cell_type": "code",
   "execution_count": 9,
   "metadata": {},
   "outputs": [],
   "source": [
    "import sys\n",
    "sys.path.insert(0, '..')\n",
    "import torch\n",
    "from scipy import integrate\n",
    "import matplotlib.pyplot as plt\n",
    "import matplotlib.animation as animation\n",
    "import numpy as np\n",
    "import functools\n",
    "\n",
    "sigma = 2\n",
    "\n",
    "from utils.kfp import diffusion_coeff, marginal_prob_std\n",
    "from network.network import ScoreNet\n",
    "from network.ddim_network import Model\n",
    "\n",
    "marginal_prob_std_fn = functools.partial(marginal_prob_std, sigma=sigma)\n",
    "diffusion_coeff_fn = functools.partial(diffusion_coeff, sigma=sigma)\n",
    "\n",
    "\n",
    "error_tolerance = 1e-5\n",
    "\n",
    "channels = 3\n",
    "N = 50\n",
    "H = 32\n",
    "W = 32"
   ]
  },
  {
   "cell_type": "code",
   "execution_count": 10,
   "metadata": {},
   "outputs": [],
   "source": [
    "## The error tolerance for the black-box ODE solver\n",
    "error_tolerance = 1e-5\n",
    "def ode_sampler(score_model,\n",
    "                marginal_prob_std,\n",
    "                diffusion_coeff,\n",
    "                batch_size=64,\n",
    "                atol=error_tolerance,\n",
    "                rtol=error_tolerance,\n",
    "                device='cpu',\n",
    "                input_channels=3,\n",
    "                z=None,\n",
    "                idx=0,\n",
    "                eps=1e-3):\n",
    "  \"\"\"Generate samples from score-based models with black-box ODE solvers.\n",
    "\n",
    "  Args:\n",
    "    score_model: A PyTorch model that represents the time-dependent score-based model.\n",
    "    marginal_prob_std: A function that returns the standard deviation\n",
    "      of the perturbation kernel.\n",
    "    diffusion_coeff: A function that returns the diffusion coefficient of the SDE.\n",
    "    batch_size: The number of samplers to generate by calling this function once.\n",
    "    atol: Tolerance of absolute errors.\n",
    "    rtol: Tolerance of relative errors.\n",
    "    device: 'cuda' for running on GPUs, and 'cpu' for running on CPUs.\n",
    "    z: The latent code that governs the final sample. If None, we start from p_1;\n",
    "      otherwise, we start from the given z.\n",
    "    eps: The smallest time step for numerical stability.\n",
    "  \"\"\"\n",
    "  t = torch.ones(batch_size, device=device) * eps\n",
    "  #t = torch.tensor(np.linspace(1., eps, N))\n",
    "  # Create the latent code\n",
    "  if z is None:\n",
    "    initial_x = torch.randn(batch_size, input_channels, H, W, device=device) \\\n",
    "      * marginal_prob_std(t)[:, None, None, None]\n",
    "  else:\n",
    "    initial_x = z + torch.randn(batch_size, input_channels, H, W, device=device) \\\n",
    "      * marginal_prob_std(t)[:, None, None, None]\n",
    "\n",
    "  shape = initial_x.shape\n",
    "\n",
    "  def score_eval_wrapper(sample, time_steps):\n",
    "    \"\"\"A wrapper of the score-based model for use by the ODE solver.\"\"\"\n",
    "    sample = torch.tensor(sample, device=device, dtype=torch.float32).reshape(shape)\n",
    "    time_steps = torch.tensor(time_steps, device=device, dtype=torch.float32).reshape((sample.shape[0], ))\n",
    "    time_steps += torch.tensor(list(range(sample.shape[0])))\n",
    "    with torch.no_grad():\n",
    "      score = score_model(sample, time_steps)\n",
    "    return score.cpu().numpy().reshape((-1,)).astype(np.float64)\n",
    "\n",
    "  def ode_func(t, x):\n",
    "    \"\"\"The ODE function for use by the ODE solver.\"\"\"\n",
    "    time_steps = np.ones((shape[0],)) * t\n",
    "    g = diffusion_coeff(torch.tensor(t)).cpu().numpy()\n",
    "    result = -0.5 * (g**2) * score_eval_wrapper(x, time_steps)\n",
    "    return result\n",
    "\n",
    "  # Run the black-box ODE solver.\n",
    "  res = integrate.solve_ivp(ode_func, (1., eps), initial_x.reshape(-1).cpu().numpy(), rtol=rtol, atol=atol, method='RK45')\n",
    "  print(f\"\\nNumber of function evaluations: {res.nfev}\")\n",
    "  x = []\n",
    "  for i in range(res.y.shape[1]):\n",
    "    x.append(res.y[:, i].reshape(shape))\n",
    "  return np.array(x)"
   ]
  },
  {
   "cell_type": "code",
   "execution_count": 11,
   "metadata": {},
   "outputs": [],
   "source": [
    "# function for sampling on a thread\n",
    "def diffuse_sample(samples, diffusion_coeff, marginal_prob_std):\n",
    "\n",
    "  model_score = Model()\n",
    "  file = f'../model_cifar_thread_all.pth'\n",
    "  ckpt = torch.load(file, map_location=\"cpu\")\n",
    "  model_score.load_state_dict(ckpt)\n",
    "  model_score.eval();\n",
    "\n",
    "  sample_batch_size = 2\n",
    "  sampler = ode_sampler\n",
    "\n",
    "  # Generate samples using the specified sampler.\n",
    "  output = sampler(model_score,\n",
    "                  marginal_prob_std,\n",
    "                  diffusion_coeff,\n",
    "                  sample_batch_size,\n",
    "                  input_channels=3\n",
    "                  )\n",
    "\n",
    "  samples.append(output)"
   ]
  },
  {
   "cell_type": "code",
   "execution_count": 12,
   "metadata": {},
   "outputs": [
    {
     "name": "stdout",
     "output_type": "stream",
     "text": [
      "\n",
      "Number of function evaluations: 1436\n"
     ]
    }
   ],
   "source": [
    "#@title Sample each channel on a thread\n",
    "#threads = [None] * channels\n",
    "samples = []\n",
    "\n",
    "diffuse_sample(samples, diffusion_coeff_fn, marginal_prob_std_fn)\n",
    "# # diffuse all three channels concurrently\n",
    "# for ch in range(channels):\n",
    "#   threads[ch] = threading.Thread(target=diffuse_sample, args=[ch, samples, diffusion_coeff_fn, marginal_prob_std_fn])\n",
    "#   threads[ch].start()\n",
    "\n",
    "# for thread in threads:\n",
    "#   thread.join()\n",
    "\n",
    "samples = np.concatenate(samples, axis = 1)\n",
    "# for i in range(samples.shape[0]):\n",
    "#   print(f'{samples[i].mean(), samples[i].std()}')\n",
    "#   plt.imshow(((samples[i] - samples[i].min())/(samples[i].max() - samples[i].min())).transpose(1, 2, 0))\n",
    "#   plt.show()\n",
    "\n"
   ]
  },
  {
   "cell_type": "code",
   "execution_count": 13,
   "metadata": {},
   "outputs": [
    {
     "data": {
      "image/png": "[encoded data removed]",
      "text/plain": [
       "<Figure size 800x800 with 1 Axes>"
      ]
     },
     "metadata": {},
     "output_type": "display_data"
    }
   ],
   "source": [
    "sample_idx = 1\n",
    "\n",
    "def get_frame(i):\n",
    "  #return samples[i].transpose(1, 2, 0)\n",
    "  return ((samples[i, sample_idx] - samples[i, sample_idx].min())/(samples[i, sample_idx].max() - samples[i, sample_idx].min())).transpose(1, 2, 0)\n",
    "\n",
    "fig = plt.figure(figsize=(8,8));\n",
    "\n",
    "im = plt.imshow(get_frame(0), animated=True)\n",
    "\n",
    "def frame(i):\n",
    "  if i >= len(samples):\n",
    "    im.set_data(get_frame(-1));\n",
    "  else:\n",
    "    im.set_data(get_frame(i));\n",
    "\n",
    "  return [im]\n",
    "\n",
    "animation_fig = animation.FuncAnimation(fig, frame, frames=samples.shape[0] + 20, blit=False);\n",
    "\n",
    "animation_fig.save(\"animation.gif\", writer=animation.PillowWriter(fps=10));"
   ]
  },
  {
   "cell_type": "code",
   "execution_count": 14,
   "metadata": {},
   "outputs": [
    {
     "data": {
      "text/plain": [
       "<matplotlib.image.AxesImage at 0x2b5d841e40d0>"
      ]
     },
     "execution_count": 14,
     "metadata": {},
     "output_type": "execute_result"
    },
    {
     "data": {
      "image/png": "[encoded data removed]",
      "text/plain": [
       "<Figure size 640x480 with 1 Axes>"
      ]
     },
     "metadata": {},
     "output_type": "display_data"
    }
   ],
   "source": [
    "plt.imshow(get_frame(-1))"
   ]
  },
  {
   "cell_type": "code",
   "execution_count": 15,
   "metadata": {},
   "outputs": [
    {
     "data": {
      "text/plain": [
       "array([[[0.10847176, 0.15152799, 0.23548844],\n",
       "        [0.1002295 , 0.15060142, 0.2309414 ],\n",
       "        [0.09779306, 0.15294584, 0.23758386],\n",
       "        ...,\n",
       "        [0.08910868, 0.16508814, 0.30070391],\n",
       "        [0.07759463, 0.16727104, 0.29268003],\n",
       "        [0.07565042, 0.16372728, 0.30433593]],\n",
       "\n",
       "       [[0.104771  , 0.15862078, 0.24600776],\n",
       "        [0.09517135, 0.1595475 , 0.25361734],\n",
       "        [0.09740131, 0.16509578, 0.26657372],\n",
       "        ...,\n",
       "        [0.07890253, 0.1650281 , 0.3261223 ],\n",
       "        [0.07317472, 0.16636842, 0.3193057 ],\n",
       "        [0.08314142, 0.16862804, 0.31649235]],\n",
       "\n",
       "       [[0.1055462 , 0.15886569, 0.25532286],\n",
       "        [0.09402947, 0.16255959, 0.26408241],\n",
       "        [0.09087542, 0.16395669, 0.2748159 ],\n",
       "        ...,\n",
       "        [0.07871089, 0.17000152, 0.33808987],\n",
       "        [0.07004575, 0.16658201, 0.326648  ],\n",
       "        [0.07592664, 0.16749218, 0.31901822]],\n",
       "\n",
       "       ...,\n",
       "\n",
       "       [[0.12349485, 0.20119414, 0.3528726 ],\n",
       "        [0.11095828, 0.20058472, 0.36023546],\n",
       "        [0.11223567, 0.19741101, 0.3613842 ],\n",
       "        ...,\n",
       "        [0.10999037, 0.2287505 , 0.42596341],\n",
       "        [0.11280885, 0.23194452, 0.42419941],\n",
       "        [0.12065613, 0.22796735, 0.40838992]],\n",
       "\n",
       "       [[0.13325572, 0.2093074 , 0.35760776],\n",
       "        [0.1147759 , 0.20761284, 0.36523444],\n",
       "        [0.11774372, 0.20416221, 0.36211754],\n",
       "        ...,\n",
       "        [0.11845514, 0.23597823, 0.42660398],\n",
       "        [0.11848346, 0.23545947, 0.42027857],\n",
       "        [0.12410729, 0.22034845, 0.39537016]],\n",
       "\n",
       "       [[0.13280378, 0.21123715, 0.35549715],\n",
       "        [0.12681879, 0.21198632, 0.34763914],\n",
       "        [0.12285827, 0.20947641, 0.34601433],\n",
       "        ...,\n",
       "        [0.12459425, 0.23577583, 0.40215045],\n",
       "        [0.12487731, 0.23460482, 0.39580476],\n",
       "        [0.12496102, 0.22738242, 0.37318125]]])"
      ]
     },
     "execution_count": 15,
     "metadata": {},
     "output_type": "execute_result"
    }
   ],
   "source": [
    "get_frame(-1)"
   ]
  }
 ],
 "metadata": {
  "kernelspec": {
   "display_name": ".venv",
   "language": "python",
   "name": "python3"
  },
  "language_info": {
   "codemirror_mode": {
    "name": "ipython",
    "version": 3
   },
   "file_extension": ".py",
   "mimetype": "text/x-python",
   "name": "python",
   "nbconvert_exporter": "python",
   "pygments_lexer": "ipython3",
   "version": "3.9.6"
  }
 },
 "nbformat": 4,
 "nbformat_minor": 2
}
