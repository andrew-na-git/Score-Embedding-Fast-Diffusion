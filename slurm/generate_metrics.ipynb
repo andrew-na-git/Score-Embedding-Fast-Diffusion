{
 "cells": [
  {
   "cell_type": "code",
   "execution_count": 14,
   "metadata": {},
   "outputs": [],
   "source": [
    "import os\n",
    "import matplotlib.pyplot as plt\n",
    "from utils.metrics import mse_metric, ssim_metric\n",
    "import numpy as np"
   ]
  },
  {
   "cell_type": "code",
   "execution_count": 35,
   "metadata": {},
   "outputs": [],
   "source": [
    "d = \"/u1/w56gao/src/Stable-Diffusion/slurm/reports/DDPM_March-06-04:14_cifar1/models\"\n",
    "files = [os.path.join(d, x) for x in os.listdir(d) if \"sample\" in x]\n",
    "\n",
    "data = \"/u1/w56gao/src/Stable-Diffusion/slurm/reports/DDPM_March-06-04:14_cifar1/models/data.npy\"\n",
    "\n",
    "dataset = np.load(data)"
   ]
  },
  {
   "cell_type": "code",
   "execution_count": null,
   "metadata": {},
   "outputs": [],
   "source": [
    "def plot_losses(model_folder):\n",
    "    files = [os.path.join(model_folder, x) for x in os.listdir(d) if \"sample\" in x]\n",
    "    dataset = np.load(os.path.join(model_folder, \"data.npy\"))\n",
    "\n",
    "    mses = []\n",
    "    ssims = []\n",
    "\n",
    "    for file in files: \n",
    "        file_name = file.split(os.sep)[-1]\n",
    "\n",
    "        time = float(file_name.split(\"_\", maxsplit=1)[1].replace(\".npy\", \"\"))\n",
    "\n",
    "        samples = np.load(file)\n",
    "\n",
    "        avg_mse = np.mean(mse_metric(dataset, samples[-1]))\n",
    "        avg_ssim = np.mean(ssim_metric(dataset, samples[-1]))\n",
    "\n",
    "        mses.append((avg_mse, time))\n",
    "        ssims.append((avg_ssim, time))\n",
    "    \n",
    "    mse_plot_data_y = [x[0] for x in sorted(mses, key=lambda x: x[1])]\n",
    "    mse_plot_data_x = [x[1] for x in sorted(mses, key=lambda x: x[1])]\n",
    "\n",
    "    ssim_plot_data_y = [x[0] for x in sorted(ssims, key=lambda x: x[1])]\n",
    "    ssim_plot_data_x = [x[1] for x in sorted(ssims, key=lambda x: x[1])]\n",
    "\n",
    "    fig, ax = plt.subplots( nrows=1, ncols=1 );  # create figure & 1 axis\n",
    "    ax.plot(mse_plot_data_x, mse_plot_data_y);\n",
    "    fig.suptitle(\"MSE Per Epoch\")\n",
    "\n",
    "    fig.savefig(os.path.join(os.path.dirname(model_folder), \"mse_losses.png\"))\n",
    "\n",
    "    fig, ax = plt.subplots( nrows=1, ncols=1 );  # create figure & 1 axis\n",
    "    ax.plot(ssim_plot_data_x, ssim_plot_data_y);\n",
    "    fig.title(\"SSIM Per Epoch\")\n",
    "    fig.savefig(os.path.join(os.path.dirname(model_folder), \"ssim_losses.png\"))\n"
   ]
  }
 ],
 "metadata": {
  "kernelspec": {
   "display_name": ".venv",
   "language": "python",
   "name": "python3"
  },
  "language_info": {
   "codemirror_mode": {
    "name": "ipython",
    "version": 3
   },
   "file_extension": ".py",
   "mimetype": "text/x-python",
   "name": "python",
   "nbconvert_exporter": "python",
   "pygments_lexer": "ipython3",
   "version": "3.10.12"
  }
 },
 "nbformat": 4,
 "nbformat_minor": 2
}
