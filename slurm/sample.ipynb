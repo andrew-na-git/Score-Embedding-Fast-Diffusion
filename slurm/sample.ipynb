{
 "cells": [
  {
   "cell_type": "code",
   "execution_count": 1,
   "metadata": {},
   "outputs": [],
   "source": [
    "import torch\n",
    "from scipy import integrate\n",
    "import matplotlib.pyplot as plt\n",
    "import matplotlib.animation as animation\n",
    "import numpy as np\n",
    "from network import ScoreNet\n",
    "from kfp import diffusion_coeff\n",
    "\n",
    "channels = 3\n",
    "sigma = 25\n",
    "eps = 1e-6\n",
    "H = 28\n",
    "W = 28\n",
    "N = 20\n",
    "\n",
    "model_score = ScoreNet(H=H, W=W, in_channels=channels)\n",
    "ckpt = torch.load('model_cifar.pth', map_location=torch.device('cpu'))\n",
    "model_score.load_state_dict(ckpt)\n",
    "model_score.eval();\n",
    "\n"
   ]
  },
  {
   "cell_type": "code",
   "execution_count": 2,
   "metadata": {},
   "outputs": [],
   "source": [
    "\n",
    "## The error tolerance for the black-box ODE solver\n",
    "def ode_sampler(score_model,\n",
    "                diffusion_coeff,\n",
    "                batch_size=64,\n",
    "                z=None,\n",
    "                eps=eps):\n",
    "  \"\"\"Generate samples from score-based models with black-box ODE solvers.\n",
    "\n",
    "  Args:\n",
    "    score_model: A PyTorch model that represents the time-dependent score-based model.\n",
    "    marginal_prob_std: A function that returns the standard deviation\n",
    "      of the perturbation kernel.\n",
    "    diffusion_coeff: A function that returns the diffusion coefficient of the SDE.\n",
    "    batch_size: The number of samplers to generate by calling this function once.\n",
    "    device: 'cuda' for running on GPUs, and 'cpu' for running on CPUs.\n",
    "    z: The latent code that governs the final sample. If None, we start from p_1;\n",
    "      otherwise, we start from the given z.\n",
    "    eps: The smallest time step for numerical stability.\n",
    "  \"\"\"\n",
    "  # Create the latent code\n",
    "  if z is None:\n",
    "    init_x = torch.randn(batch_size, channels, H, W) * torch.sqrt(2 * diffusion_coeff(torch.ones(batch_size, channels, H, W), sigma)**2)\n",
    "  else:\n",
    "    init_x = z\n",
    "\n",
    "  shape = init_x.shape\n",
    "\n",
    "  def score_eval_wrapper(sample, time_steps):\n",
    "    \"\"\"A wrapper of the score-based model for use by the ODE solver.\"\"\"\n",
    "    sample = torch.tensor(sample, dtype=torch.float32).reshape(shape)\n",
    "\n",
    "    time_steps = torch.tensor(time_steps, dtype=torch.float32).reshape((sample.shape[0],))\n",
    "    with torch.no_grad():\n",
    "      score_ = score_model(sample, time_steps)\n",
    "    return score_.cpu().numpy().reshape((-1))\n",
    "\n",
    "  def ode_func(t, x):\n",
    "    \"\"\"The ODE function for use by the ODE solver.\"\"\"\n",
    "    # time_steps = np.ones((shape[0],)) * t\n",
    "    g = diffusion_coeff(torch.tensor(t), sigma)\n",
    "    return  -0.5 * (g**2) * score_eval_wrapper(x, t)\n",
    "\n",
    "  # Run the black-box ODE solver.\n",
    "  res = integrate.solve_ivp(ode_func, (1, eps), init_x.reshape(-1))\n",
    "  print(f\"Number of function evaluations: {res.nfev}\")\n",
    "  sol = res.y #[:, -1].reshape(shape)\n",
    "  return sol"
   ]
  },
  {
   "cell_type": "code",
   "execution_count": 3,
   "metadata": {},
   "outputs": [
    {
     "name": "stdout",
     "output_type": "stream",
     "text": [
      "Number of function evaluations: 218\n"
     ]
    }
   ],
   "source": [
    "sample_batch_size = 1\n",
    "sampler = ode_sampler\n",
    "\n",
    "#init_x = np.load(\"../init.npy\")[-1].reshape((sample_batch_size, 1, H, W))\n",
    "init_x = torch.rand(sample_batch_size, channels, H, W)\n",
    "\n",
    "## Generate samples using the specified sampler.\n",
    "samples = sampler(model_score,\n",
    "                  diffusion_coeff,\n",
    "                  sample_batch_size)\n",
    "\n",
    "# for i in range(N):\n",
    "#   plt.imshow(samples[:, i].reshape(H, W), cmap = 'gray')\n",
    "#   plt.show()"
   ]
  },
  {
   "cell_type": "code",
   "execution_count": 4,
   "metadata": {},
   "outputs": [
    {
     "name": "stderr",
     "output_type": "stream",
     "text": [
      "MovieWriter ffmpeg unavailable; using Pillow instead.\n"
     ]
    },
    {
     "data": {
      "text/plain": [
       "<matplotlib.image.AxesImage at 0x7fe567e9ab50>"
      ]
     },
     "execution_count": 4,
     "metadata": {},
     "output_type": "execute_result"
    },
    {
     "data": {
      "image/png": "[encoded data removed]",
      "text/plain": [
       "<Figure size 800x800 with 1 Axes>"
      ]
     },
     "metadata": {},
     "output_type": "display_data"
    }
   ],
   "source": [
    "fig = plt.figure(figsize=(8,8));\n",
    "\n",
    "im = plt.imshow(np.moveaxis(np.clip((samples[:, 0] + abs(np.min(samples[:, 0]))) / (np.max(samples[:, 0]) + abs(np.min(samples[:, 0]))), 0, 1).reshape((channels, H, W)), 0, 2), animated=True)\n",
    "\n",
    "#ax.imshow(samples[:, 0].reshape(H, W), cmap=\"gray\");\n",
    "\n",
    "def frame(i):\n",
    "  im.set_data(np.moveaxis(np.clip((samples[:, i] + abs(np.min(samples[:, i]))) / (np.max(samples[:, i]) + abs(np.min(samples[:, i]))), 0, 1).reshape((channels, H, W)), 0, 2));\n",
    "\n",
    "  return [im]\n",
    "\n",
    "animation_fig = animation.FuncAnimation(fig, frame, frames=samples.shape[-1], interval=10, blit=False,repeat_delay=2);\n",
    "\n",
    "animation_fig.save(\"animation.gif\");\n",
    "plt.imshow(np.moveaxis(np.clip((samples[:, -1] + abs(np.min(samples[:, -1]))) / (np.max(samples[:, -1]) + abs(np.min(samples[:, -1]))), 0, 1).reshape((channels, H, W)), 0, 2))"
   ]
  }
 ],
 "metadata": {
  "kernelspec": {
   "display_name": ".venv",
   "language": "python",
   "name": "python3"
  },
  "language_info": {
   "codemirror_mode": {
    "name": "ipython",
    "version": 3
   },
   "file_extension": ".py",
   "mimetype": "text/x-python",
   "name": "python",
   "nbconvert_exporter": "python",
   "pygments_lexer": "ipython3",
   "version": "3.11.4"
  }
 },
 "nbformat": 4,
 "nbformat_minor": 2
}
