{
  "cells": [
    {
      "cell_type": "markdown",
      "metadata": {
        "id": "view-in-github",
        "colab_type": "text"
      },
      "source": [
        "<a href=\"https://colab.research.google.com/github/andrew-na-git/Stable-Diffusion/blob/William_branch/Colour_Main.ipynb\" target=\"_parent\"><img src=\"https://colab.research.google.com/assets/colab-badge.svg\" alt=\"Open In Colab\"/></a>"
      ]
    },
    {
      "cell_type": "code",
      "execution_count": 8,
      "metadata": {
        "id": "MybHkbZidop-"
      },
      "outputs": [],
      "source": [
        "# !make -C sparse_gaussian_elimination a.so"
      ]
    },
    {
      "cell_type": "code",
      "execution_count": 9,
      "metadata": {
        "colab": {
          "base_uri": "https://localhost:8080/"
        },
        "id": "01LTXK91cPQ5",
        "outputId": "41e84b30-830e-4094-d260-fdb2b642bb64",
        "cellView": "form"
      },
      "outputs": [
        {
          "output_type": "stream",
          "name": "stdout",
          "text": [
            "Files already downloaded and verified\n"
          ]
        }
      ],
      "source": [
        "#@title Preamble\n",
        "import os\n",
        "import threading\n",
        "import torch.multiprocessing as multiprocessing\n",
        "import functools\n",
        "import random\n",
        "from math import log, sqrt, exp\n",
        "\n",
        "import matplotlib.pyplot as plt\n",
        "import scipy.stats as stats\n",
        "\n",
        "import numpy as np\n",
        "import scipy as sp\n",
        "from tqdm import tqdm\n",
        "from scipy import sparse\n",
        "from scipy.special import logsumexp, softmax, log_softmax\n",
        "from sklearn.preprocessing import MinMaxScaler\n",
        "from sklearn.neighbors import KernelDensity\n",
        "from sklearn.model_selection import GridSearchCV\n",
        "\n",
        "import torch\n",
        "from torchvision.datasets import CIFAR10\n",
        "import torchvision.transforms as transforms\n",
        "from torch.optim import Adam, AdamW, SGD\n",
        "\n",
        "from kfp import construct_A, construct_B, diffusion_coeff, marginal_prob_std, construct_R, construct_P, construct_P_block, construct_R_block, gauss_seidel, jacobi #  solve_pde\n",
        "from network2 import Model\n",
        "\n",
        "import PIL\n",
        "\n",
        "np.random.seed(2)\n",
        "torch.manual_seed(2)\n",
        "\n",
        "#torch.set_default_device('cuda')\n",
        "\n",
        "# create a.so if doesnt exists\n",
        "# if not os.path.isfile(\"../sparse_gaussian_elimination/a.so\"):\n",
        "#     os.system(\"make -C ../sparse_gaussian_elimination a.so\")\n",
        "cifar = CIFAR10('.', download=True)"
      ]
    },
    {
      "cell_type": "code",
      "execution_count": 10,
      "metadata": {
        "id": "eFK-vpS8cPQ8",
        "cellView": "form"
      },
      "outputs": [],
      "source": [
        "#@title Construct the grid and Initial values\n",
        "batch_size = 1 #@param\n",
        "N = 20 #@param\n",
        "H = 32 #@param\n",
        "W = 32 #@param\n",
        "epoch = 300 #@param\n",
        "eps = 1e-6 #@param\n",
        "lr = 1e-3 #@param\n",
        "\n",
        "channels = 3\n",
        "dt = 1/N\n",
        "sigma = 25 #@param\n",
        "marginal_prob_std_fn = functools.partial(marginal_prob_std, sigma=sigma)\n",
        "diffusion_coeff_fn = functools.partial(diffusion_coeff, sigma=sigma)"
      ]
    },
    {
      "cell_type": "code",
      "source": [
        "#@title Download mnist dataset\n",
        "#data_loader = DataLoader(list(filter(lambda i: i[1] == 5, mnist))[:1], shuffle=True, generator=torch.Generator(device='cuda'))\n",
        "cifar_data = cifar.data[np.array(cifar.targets) == 5] # grab the fives\n",
        "\n",
        "# sample 5 images for training\n",
        "cifar_data = cifar_data[np.random.choice(list(range(len(cifar_data))), 3, replace=False)]"
      ],
      "metadata": {
        "cellView": "form",
        "id": "YZP97C6o2mqC"
      },
      "execution_count": 11,
      "outputs": []
    },
    {
      "cell_type": "code",
      "execution_count": 12,
      "metadata": {
        "colab": {
          "base_uri": "https://localhost:8080/",
          "height": 1000
        },
        "id": "1obYiwBkcPQ8",
        "outputId": "0080ecb1-b95f-4c5f-97f0-e884f30f6ba2",
        "cellView": "form"
      },
      "outputs": [
        {
          "output_type": "stream",
          "name": "stdout",
          "text": [
            "218 0\n"
          ]
        },
        {
          "output_type": "display_data",
          "data": {
            "text/plain": [
              "<Figure size 640x480 with 1 Axes>"
            ],
            "image/png": "[encoded data removed]"
          },
          "metadata": {}
        },
        {
          "output_type": "stream",
          "name": "stdout",
          "text": [
            "1.0 0.0\n"
          ]
        },
        {
          "output_type": "display_data",
          "data": {
            "text/plain": [
              "<Figure size 640x480 with 1 Axes>"
            ],
            "image/png": "[encoded data removed]"
          },
          "metadata": {}
        },
        {
          "output_type": "stream",
          "name": "stdout",
          "text": [
            "237 7\n"
          ]
        },
        {
          "output_type": "display_data",
          "data": {
            "text/plain": [
              "<Figure size 640x480 with 1 Axes>"
            ],
            "image/png": "[encoded data removed]"
          },
          "metadata": {}
        },
        {
          "output_type": "stream",
          "name": "stdout",
          "text": [
            "1.0 0.0\n"
          ]
        },
        {
          "output_type": "display_data",
          "data": {
            "text/plain": [
              "<Figure size 640x480 with 1 Axes>"
            ],
            "image/png": "[encoded data removed]"
          },
          "metadata": {}
        },
        {
          "output_type": "stream",
          "name": "stdout",
          "text": [
            "235 10\n"
          ]
        },
        {
          "output_type": "display_data",
          "data": {
            "text/plain": [
              "<Figure size 640x480 with 1 Axes>"
            ],
            "image/png": "[encoded data removed]"
          },
          "metadata": {}
        },
        {
          "output_type": "stream",
          "name": "stdout",
          "text": [
            "1.0 0.0\n"
          ]
        },
        {
          "output_type": "display_data",
          "data": {
            "text/plain": [
              "<Figure size 640x480 with 1 Axes>"
            ],
            "image/png": "[encoded data removed]"
          },
          "metadata": {}
        }
      ],
      "source": [
        "#@title Cropping the image\n",
        "cropped_image_g = np.array(PIL.Image.fromarray(np.array(cifar_data[0])).convert(\"L\").crop((0, 0, 32, 32)))\n",
        "cifar_data_list_grey = [torch.Tensor(cropped_image_g)]\n",
        "\n",
        "cifar_data_list = []\n",
        "cifar_data_list_tensor = []\n",
        "for i in range(3):\n",
        "  cropped_image_rgb = np.array(PIL.Image.fromarray(np.array(cifar_data[i])).convert(\"RGB\").crop((0, 0, 32, 32)))\n",
        "  cifar_data_list.append((cropped_image_rgb - cropped_image_rgb.min())/(cropped_image_rgb.max() - cropped_image_rgb.min())) # normalized to [0, 1]\n",
        "  # cifar_data_list = [cropped_image_rgb]\n",
        "  cifar_data_list_tensor.append(torch.Tensor(cifar_data_list[i].transpose((2, 0, 1))))\n",
        "\n",
        "  print(cifar_data[i].max(), cifar_data[i].min())\n",
        "  plt.imshow(cifar_data[i])\n",
        "  plt.show()\n",
        "\n",
        "  print(cifar_data_list[i].max(), cifar_data_list[i].min())\n",
        "  plt.imshow((cifar_data_list[i] - cifar_data_list[i].min())/(cifar_data_list[i].max() - cifar_data_list[i].min()))\n",
        "  plt.show()"
      ]
    },
    {
      "cell_type": "code",
      "execution_count": 13,
      "metadata": {
        "id": "e0h_bBjUcPQ9",
        "cellView": "form"
      },
      "outputs": [],
      "source": [
        "#@title Defining pde diffusion per thread\n",
        "import cupy as cp\n",
        "from cupyx.scipy.sparse import csr_matrix as cp_csr\n",
        "from cupyx.scipy.sparse import linalg as cp_linalg\n",
        "\n",
        "def diffuse(initial_m, m, dm, channel, time_, g, scores):\n",
        "\n",
        "  m[0, channel] = initial_m[channel]\n",
        "  dh = 1 # 256/(H*W)\n",
        "\n",
        "  A_block = []\n",
        "  for i in range(1, N):\n",
        "    A = construct_A(H, W, dt/(2*dh), dt/(dh**2), 0, 0, g(time_[i]), scores[i, channel])#H,W,dh,dh2,f,g,s\n",
        "    A_block.append(sparse.csr_matrix(A))\n",
        "\n",
        "  A_block = sparse.block_diag(A_block, format='csr')\n",
        "  A_block = A_block.toarray()\n",
        "\n",
        "  for i in range(2, N):\n",
        "    A_block[(i-1)*(H*W):i*(H*W), (i-2)*(H*W):(i-1)*(H*W)] = -np.eye(H*W)\n",
        "\n",
        "  B_block = np.zeros(((N-1)*H*W))\n",
        "  B_block[:H*W] = construct_B(H, W, m[0, channel])\n",
        "\n",
        "  pde_sol = cp_linalg.spsolve(cp_csr(cp.array(A_block)), cp.array(B_block))\n",
        "  m[1:, channel] = cp.asnumpy(pde_sol).reshape((-1, H*W))\n",
        "\n",
        "  del pde_sol\n",
        "  cp._default_memory_pool.free_all_blocks()\n",
        "\n",
        "  img_log_prob = m[:, channel]\n",
        "  dm[:, channel, 1:-1] = (img_log_prob[:, 2:] - img_log_prob[:, :-2])/(2*dh) # (img_log_prob[:, 1:-1, 2:] - img_log_prob[:, 1:-1, :-2])/(2*dy)\n",
        "  dm[:, channel, 0] = (img_log_prob[:, 1] - 0)/(2*dh) #+ (img_log_prob[:, 1:-1, 0] - img_log_prob[:, 1:-1, -1])/dy\n",
        "  dm[:, channel, -1] = (0 - img_log_prob[:, -2])/(2*dh) #+ (img_log_prob[:, 1:-1, -1] - img_log_prob[:, 1:-1, 0])/dy\n",
        "  # dm[:, channel, 0 , 1:-1] = (img_log_prob[:, 0, 2:] - img_log_prob[:, 0, :-2])/(2*dy) + (img_log_prob[:, 0, 1:-1] - img_log_prob[:, -1, 1:-1])/dx\n",
        "  # dm[:, channel, -1 , 1:-1] = (img_log_prob[:, -1, 2:] - img_log_prob[:, -1, :-2])/(2*dy) + (img_log_prob[:, -1, 1:-1] - img_log_prob[:, 0, 1:-1])/dx"
      ]
    },
    {
      "cell_type": "code",
      "source": [
        "#@title Precompute score labels by solving the PDE\n",
        "tol = 1e-3 #@param\n",
        "max_iter = 1000 #@param\n",
        "\n",
        "if not os.path.exists('scores_label'):\n",
        "  scores_label = []\n",
        "  init_m_batch = []\n",
        "  for idx, data in tqdm(enumerate(cifar_data_list_tensor)):\n",
        "    y_train = []\n",
        "    for j in range(H):\n",
        "      y_train.append(data[:, j, :])\n",
        "    y_train = np.concatenate(y_train, axis=-1)\n",
        "\n",
        "    x_train = []\n",
        "    for l in range(W):\n",
        "      x_train.append(data[:, :, l])\n",
        "    x_train = np.concatenate(x_train, axis=1)\n",
        "\n",
        "    init_m = []\n",
        "    for ch in range(channels):\n",
        "      xy_train = np.vstack([x_train[ch], y_train[ch]])\n",
        "      kde_kernel = stats.gaussian_kde(xy_train)\n",
        "      init_m.append(kde_kernel.logpdf(xy_train)[None])\n",
        "\n",
        "    init_m = np.concatenate(init_m)\n",
        "    init_m_batch.append(init_m[None])\n",
        "  init_m_batch = np.concatenate(init_m_batch)\n",
        "\n",
        "  for idx, data in enumerate(cifar_data_list_tensor):\n",
        "\n",
        "    m = np.zeros((N, channels, H*W), dtype=np.float32)\n",
        "    m_prev = np.zeros((N, channels, H*W), dtype=np.float32)\n",
        "    scores = np.zeros((N, channels, H*W), dtype=np.float32) # initial scores guess\n",
        "    dm = np.zeros_like(scores, dtype=np.float32)\n",
        "\n",
        "    res = 1\n",
        "    e = 0\n",
        "    while res > tol:\n",
        "      res_prev = res\n",
        "      # we want to sample from random time steps to construct training samples\n",
        "      time_ = np.linspace(eps, 1., N) + idx\n",
        "      print(time_.max(), time_.min())\n",
        "      # diffuse all three channels concurrently\n",
        "      for ch in tqdm(range(channels)):\n",
        "        diffuse(init_m_batch[idx], m, dm, ch, time_, diffusion_coeff_fn, scores)\n",
        "\n",
        "      scores = dm.copy()\n",
        "\n",
        "      if e == max_iter:\n",
        "        print(f'No convergence')\n",
        "        break\n",
        "\n",
        "      res = np.linalg.norm(m - m_prev)\n",
        "      print(f'residual at iteration {e}: {res}')\n",
        "\n",
        "      m_prev = m.copy()\n",
        "      e += 1\n",
        "\n",
        "      if abs(res_prev - res) < 1e-6:\n",
        "        break\n",
        "\n",
        "    scores_label.append(scores.copy().reshape((1, -1, channels, H, W)))\n",
        "  scores_label = np.concatenate(scores_label)\n",
        "  print(scores_label.shape)"
      ],
      "metadata": {
        "colab": {
          "base_uri": "https://localhost:8080/"
        },
        "id": "f7nCC3Bui5tR",
        "outputId": "e2cdcb3e-0279-4f74-a7b0-e488ab5d6e69",
        "cellView": "form"
      },
      "execution_count": 14,
      "outputs": [
        {
          "output_type": "stream",
          "name": "stderr",
          "text": [
            "3it [00:00,  6.34it/s]\n"
          ]
        },
        {
          "output_type": "stream",
          "name": "stdout",
          "text": [
            "1.0 1e-06\n"
          ]
        },
        {
          "output_type": "stream",
          "name": "stderr",
          "text": [
            "100%|██████████| 3/3 [00:12<00:00,  4.22s/it]\n"
          ]
        },
        {
          "output_type": "stream",
          "name": "stdout",
          "text": [
            "residual at iteration 0: 81.05345916748047\n",
            "1.0 1e-06\n"
          ]
        },
        {
          "output_type": "stream",
          "name": "stderr",
          "text": [
            "100%|██████████| 3/3 [00:12<00:00,  4.16s/it]\n"
          ]
        },
        {
          "output_type": "stream",
          "name": "stdout",
          "text": [
            "residual at iteration 1: 1.4085259437561035\n",
            "1.0 1e-06\n"
          ]
        },
        {
          "output_type": "stream",
          "name": "stderr",
          "text": [
            "100%|██████████| 3/3 [00:12<00:00,  4.30s/it]\n"
          ]
        },
        {
          "output_type": "stream",
          "name": "stdout",
          "text": [
            "residual at iteration 2: 0.08602911978960037\n",
            "1.0 1e-06\n"
          ]
        },
        {
          "output_type": "stream",
          "name": "stderr",
          "text": [
            "100%|██████████| 3/3 [00:12<00:00,  4.13s/it]\n"
          ]
        },
        {
          "output_type": "stream",
          "name": "stdout",
          "text": [
            "residual at iteration 3: 0.004769359715282917\n",
            "1.0 1e-06\n"
          ]
        },
        {
          "output_type": "stream",
          "name": "stderr",
          "text": [
            "100%|██████████| 3/3 [00:12<00:00,  4.08s/it]\n"
          ]
        },
        {
          "output_type": "stream",
          "name": "stdout",
          "text": [
            "residual at iteration 4: 0.00031962268985807896\n",
            "2.0 1.000001\n"
          ]
        },
        {
          "output_type": "stream",
          "name": "stderr",
          "text": [
            "100%|██████████| 3/3 [00:12<00:00,  4.26s/it]\n"
          ]
        },
        {
          "output_type": "stream",
          "name": "stdout",
          "text": [
            "residual at iteration 0: 32.59004592895508\n",
            "2.0 1.000001\n"
          ]
        },
        {
          "output_type": "stream",
          "name": "stderr",
          "text": [
            "100%|██████████| 3/3 [00:12<00:00,  4.20s/it]\n"
          ]
        },
        {
          "output_type": "stream",
          "name": "stdout",
          "text": [
            "residual at iteration 1: 0.00019466991943772882\n",
            "3.0 2.000001\n"
          ]
        },
        {
          "output_type": "stream",
          "name": "stderr",
          "text": [
            "100%|██████████| 3/3 [00:12<00:00,  4.19s/it]\n"
          ]
        },
        {
          "output_type": "stream",
          "name": "stdout",
          "text": [
            "residual at iteration 0: 125.98403930664062\n",
            "3.0 2.000001\n"
          ]
        },
        {
          "output_type": "stream",
          "name": "stderr",
          "text": [
            "100%|██████████| 3/3 [00:12<00:00,  4.18s/it]"
          ]
        },
        {
          "output_type": "stream",
          "name": "stdout",
          "text": [
            "residual at iteration 1: 4.755137172907098e-09\n",
            "(3, 20, 3, 32, 32)\n"
          ]
        },
        {
          "output_type": "stream",
          "name": "stderr",
          "text": [
            "\n"
          ]
        }
      ]
    },
    {
      "cell_type": "code",
      "source": [
        "#@title Show the score labels\n",
        "import pickle\n",
        "if os.path.exists(f'scores_label'):\n",
        "  with open('/content/scores_label', 'rb') as file:\n",
        "    scores_label = pickle.load(file)\n",
        "\n",
        "for idx in range(3):\n",
        "  print(scores_label[idx][0].max(), scores_label[idx][0].min())\n",
        "  plt.imshow(((scores_label[idx][0] - scores_label[idx][0].min())/(scores_label[idx][0].max() - scores_label[idx][0].min())).transpose(1, 2, 0))\n",
        "  plt.show()\n",
        "  print(scores_label[idx][-1].max(), scores_label[idx][-1].min())\n",
        "  plt.imshow(((scores_label[idx][-1] - scores_label[idx][-1].min())/(scores_label[idx][-1].max() - scores_label[idx][-1].min())).transpose(1, 2, 0))\n",
        "  plt.show()"
      ],
      "metadata": {
        "cellView": "form",
        "id": "jKChj3hSxR5_"
      },
      "execution_count": null,
      "outputs": []
    },
    {
      "cell_type": "code",
      "source": [
        "import pickle\n",
        "if not os.path.exists('scores_label'):\n",
        "  with open('/content/scores_label', 'wb') as file:\n",
        "    pickle.dump(scores_label, file)"
      ],
      "metadata": {
        "id": "u4JGF3m_hc9K"
      },
      "execution_count": 16,
      "outputs": []
    },
    {
      "cell_type": "code",
      "source": [
        "#@title Denoising network training\n",
        "def loss_fn(model, x, label, diffusion_coeff, marginal_prob_std, idx=1, eps=1e-5):\n",
        "  \"\"\"The loss function for training score-based generative models.\n",
        "\n",
        "  Args:\n",
        "    model: A PyTorch model instance that represents a\n",
        "      time-dependent score-based model.\n",
        "    x: A mini-batch of training data.\n",
        "    marginal_prob_std: A function that gives the standard deviation of\n",
        "      the perturbation kernel.\n",
        "    eps: A tolerance value for numerical stability.\n",
        "  \"\"\"\n",
        "  random_t = torch.tensor(np.sort(np.random.uniform(eps + idx, 1. + idx, N)).astype(np.float32))\n",
        "  # we encode the label into the initial data using the reverse ODE\n",
        "  diff_std2 = diffusion_coeff(2 * random_t)\n",
        "  for i in range(1, N):\n",
        "    x[i] = x[i-1] - 0.5 * ((label[i-1] + label[i])/2) * ((diff_std2[i-1] + diff_std2[i])/2) * dt\n",
        "  std = marginal_prob_std(random_t)\n",
        "  z = torch.randn_like(x)\n",
        "  # we perturb the image by the forward SDE conditional distribution\n",
        "  perturbed_x = x + z * std[:, None, None, None]\n",
        "  score = model(perturbed_x, random_t)\n",
        "  # loss = torch.mean((diff_std2) * torch.sum((score * std[:, None, None, None] - label)**2, dim=(1, 2, 3)) / (2 * diff_std2))\n",
        "  loss = torch.mean(torch.sum((score * std[:, None, None, None] + z)**2, dim=(1, 2, 3))) # original loss from tutorial\n",
        "  return loss"
      ],
      "metadata": {
        "id": "hXDIdajHVlFH",
        "cellView": "form"
      },
      "execution_count": 17,
      "outputs": []
    },
    {
      "cell_type": "code",
      "execution_count": 18,
      "metadata": {
        "id": "4mmD36ENcPQ-",
        "cellView": "form"
      },
      "outputs": [],
      "source": [
        "#@title Function for training on a thread\n",
        "def diffuse_train(init_x, epoch, diffusion_coeff, marginal_prob_std, label, losses, model_score, optimizer, idx=1):\n",
        "  scores_label = torch.tensor(label)\n",
        "\n",
        "  loss = loss_fn(model_score, init_x, scores_label, diffusion_coeff, marginal_prob_std, idx)\n",
        "  optimizer.zero_grad()\n",
        "  loss.backward()\n",
        "  optimizer.step()\n",
        "\n",
        "  losses.append(loss)"
      ]
    },
    {
      "cell_type": "code",
      "source": [
        "#@title Training the score-network\n",
        "if os.path.exists(f'model_cifar.pth'):\n",
        "  print(f'removing saved weights\\n')\n",
        "  os.remove(f'model_cifar.pth')\n",
        "\n",
        "init_x = torch.zeros((N, channels, H, W))\n",
        "\n",
        "model_score = Model()\n",
        "optimizer = Adam(model_score.parameters(), lr=lr)\n",
        "model_score.train();\n",
        "\n",
        "for e in tqdm(range(epoch)):\n",
        "  losses = []\n",
        "  for idx, data in enumerate(cifar_data_list_tensor):\n",
        "\n",
        "    for i in range(N):\n",
        "      init_x[i] = data\n",
        "\n",
        "    diffuse_train(init_x, epoch, diffusion_coeff_fn, marginal_prob_std_fn, scores_label[idx], losses, model_score, optimizer, idx)\n",
        "\n",
        "    print(f'\\nloss: {losses[idx]}')\n",
        "\n",
        "file = f'model_cifar.pth'\n",
        "torch.save(model_score.state_dict(), file)\n",
        "print(f\"model has been saved\\n\")"
      ],
      "metadata": {
        "colab": {
          "base_uri": "https://localhost:8080/"
        },
        "cellView": "form",
        "id": "rpBI-Ocq4sSX",
        "outputId": "b884daa3-c210-498a-ce61-9d6ca3618e13"
      },
      "execution_count": null,
      "outputs": [
        {
          "output_type": "stream",
          "name": "stderr",
          "text": [
            "\r  0%|          | 0/300 [00:00<?, ?it/s]"
          ]
        },
        {
          "output_type": "stream",
          "name": "stdout",
          "text": [
            "\n",
            "loss: 6953.4111328125\n",
            "\n",
            "loss: 1977401.75\n"
          ]
        },
        {
          "output_type": "stream",
          "name": "stderr",
          "text": [
            "\r  0%|          | 1/300 [00:06<34:00,  6.82s/it]"
          ]
        },
        {
          "output_type": "stream",
          "name": "stdout",
          "text": [
            "\n",
            "loss: 1394463872.0\n",
            "\n",
            "loss: 9348.783203125\n",
            "\n",
            "loss: 1558213.75\n"
          ]
        },
        {
          "output_type": "stream",
          "name": "stderr",
          "text": [
            "\r  1%|          | 2/300 [00:13<34:12,  6.89s/it]"
          ]
        },
        {
          "output_type": "stream",
          "name": "stdout",
          "text": [
            "\n",
            "loss: 1111273984.0\n",
            "\n",
            "loss: 8071.7451171875\n",
            "\n",
            "loss: 989565.6875\n"
          ]
        },
        {
          "output_type": "stream",
          "name": "stderr",
          "text": [
            "\r  1%|          | 3/300 [00:19<32:14,  6.51s/it]"
          ]
        },
        {
          "output_type": "stream",
          "name": "stdout",
          "text": [
            "\n",
            "loss: 437438144.0\n",
            "\n",
            "loss: 7071.08349609375\n",
            "\n",
            "loss: 629748.1875\n"
          ]
        },
        {
          "output_type": "stream",
          "name": "stderr",
          "text": [
            "\r  1%|▏         | 4/300 [00:27<33:51,  6.86s/it]"
          ]
        },
        {
          "output_type": "stream",
          "name": "stdout",
          "text": [
            "\n",
            "loss: 373207552.0\n",
            "\n",
            "loss: 5605.9853515625\n",
            "\n",
            "loss: 1004829.0\n"
          ]
        },
        {
          "output_type": "stream",
          "name": "stderr",
          "text": [
            "\r  2%|▏         | 5/300 [00:33<32:34,  6.63s/it]"
          ]
        },
        {
          "output_type": "stream",
          "name": "stdout",
          "text": [
            "\n",
            "loss: 430097600.0\n",
            "\n",
            "loss: 6195.7841796875\n",
            "\n",
            "loss: 406912.25\n"
          ]
        },
        {
          "output_type": "stream",
          "name": "stderr",
          "text": [
            "\r  2%|▏         | 6/300 [00:40<33:05,  6.75s/it]"
          ]
        },
        {
          "output_type": "stream",
          "name": "stdout",
          "text": [
            "\n",
            "loss: 349141056.0\n",
            "\n",
            "loss: 4198.763671875\n",
            "\n",
            "loss: 522163.3125\n"
          ]
        },
        {
          "output_type": "stream",
          "name": "stderr",
          "text": [
            "\r  2%|▏         | 7/300 [00:46<32:01,  6.56s/it]"
          ]
        },
        {
          "output_type": "stream",
          "name": "stdout",
          "text": [
            "\n",
            "loss: 319566880.0\n",
            "\n",
            "loss: 5355.0234375\n",
            "\n",
            "loss: 634364.25\n"
          ]
        },
        {
          "output_type": "stream",
          "name": "stderr",
          "text": [
            "\r  3%|▎         | 8/300 [00:53<32:37,  6.70s/it]"
          ]
        },
        {
          "output_type": "stream",
          "name": "stdout",
          "text": [
            "\n",
            "loss: 381069760.0\n",
            "\n",
            "loss: 5080.8837890625\n",
            "\n",
            "loss: 574791.625\n"
          ]
        },
        {
          "output_type": "stream",
          "name": "stderr",
          "text": [
            "\r  3%|▎         | 9/300 [00:59<31:34,  6.51s/it]"
          ]
        },
        {
          "output_type": "stream",
          "name": "stdout",
          "text": [
            "\n",
            "loss: 185384368.0\n",
            "\n",
            "loss: 4401.7490234375\n",
            "\n",
            "loss: 390004.75\n"
          ]
        },
        {
          "output_type": "stream",
          "name": "stderr",
          "text": [
            "\r  3%|▎         | 10/300 [01:07<32:55,  6.81s/it]"
          ]
        },
        {
          "output_type": "stream",
          "name": "stdout",
          "text": [
            "\n",
            "loss: 229437904.0\n",
            "\n",
            "loss: 5947.4755859375\n",
            "\n",
            "loss: 310203.0625\n"
          ]
        },
        {
          "output_type": "stream",
          "name": "stderr",
          "text": [
            "\r  4%|▎         | 11/300 [01:13<32:18,  6.71s/it]"
          ]
        },
        {
          "output_type": "stream",
          "name": "stdout",
          "text": [
            "\n",
            "loss: 162236608.0\n",
            "\n",
            "loss: 4702.3486328125\n",
            "\n",
            "loss: 624343.0625\n"
          ]
        },
        {
          "output_type": "stream",
          "name": "stderr",
          "text": [
            "\r  4%|▍         | 12/300 [01:20<32:11,  6.71s/it]"
          ]
        },
        {
          "output_type": "stream",
          "name": "stdout",
          "text": [
            "\n",
            "loss: 152849584.0\n",
            "\n",
            "loss: 4459.71875\n",
            "\n",
            "loss: 380740.4375\n"
          ]
        },
        {
          "output_type": "stream",
          "name": "stderr",
          "text": [
            "\r  4%|▍         | 13/300 [01:27<32:11,  6.73s/it]"
          ]
        },
        {
          "output_type": "stream",
          "name": "stdout",
          "text": [
            "\n",
            "loss: 128564864.0\n",
            "\n",
            "loss: 4469.421875\n",
            "\n",
            "loss: 449665.0625\n"
          ]
        },
        {
          "output_type": "stream",
          "name": "stderr",
          "text": [
            "\r  5%|▍         | 14/300 [01:34<32:20,  6.79s/it]"
          ]
        },
        {
          "output_type": "stream",
          "name": "stdout",
          "text": [
            "\n",
            "loss: 108030888.0\n",
            "\n",
            "loss: 4183.7900390625\n",
            "\n",
            "loss: 417004.6875\n"
          ]
        },
        {
          "output_type": "stream",
          "name": "stderr",
          "text": [
            "\r  5%|▌         | 15/300 [01:41<33:09,  6.98s/it]"
          ]
        },
        {
          "output_type": "stream",
          "name": "stdout",
          "text": [
            "\n",
            "loss: 127518032.0\n",
            "\n",
            "loss: 3490.25390625\n",
            "\n",
            "loss: 278355.5\n"
          ]
        },
        {
          "output_type": "stream",
          "name": "stderr",
          "text": [
            "\r  5%|▌         | 16/300 [01:48<33:05,  6.99s/it]"
          ]
        },
        {
          "output_type": "stream",
          "name": "stdout",
          "text": [
            "\n",
            "loss: 217398064.0\n",
            "\n",
            "loss: 3511.623779296875\n",
            "\n",
            "loss: 451208.5\n"
          ]
        },
        {
          "output_type": "stream",
          "name": "stderr",
          "text": [
            "\r  6%|▌         | 17/300 [01:55<33:19,  7.06s/it]"
          ]
        },
        {
          "output_type": "stream",
          "name": "stdout",
          "text": [
            "\n",
            "loss: 552563904.0\n",
            "\n",
            "loss: 4224.8701171875\n",
            "\n",
            "loss: 401454.84375\n"
          ]
        },
        {
          "output_type": "stream",
          "name": "stderr",
          "text": [
            "\r  6%|▌         | 18/300 [02:01<31:58,  6.80s/it]"
          ]
        },
        {
          "output_type": "stream",
          "name": "stdout",
          "text": [
            "\n",
            "loss: 58345912.0\n",
            "\n",
            "loss: 4464.36279296875\n",
            "\n",
            "loss: 272179.5\n"
          ]
        },
        {
          "output_type": "stream",
          "name": "stderr",
          "text": [
            "\r  6%|▋         | 19/300 [02:09<33:29,  7.15s/it]"
          ]
        },
        {
          "output_type": "stream",
          "name": "stdout",
          "text": [
            "\n",
            "loss: 137678912.0\n",
            "\n",
            "loss: 4939.1513671875\n",
            "\n",
            "loss: 349210.375\n"
          ]
        },
        {
          "output_type": "stream",
          "name": "stderr",
          "text": [
            "\r  7%|▋         | 20/300 [02:16<32:29,  6.96s/it]"
          ]
        },
        {
          "output_type": "stream",
          "name": "stdout",
          "text": [
            "\n",
            "loss: 100576496.0\n",
            "\n",
            "loss: 5099.66455078125\n",
            "\n",
            "loss: 232382.203125\n"
          ]
        },
        {
          "output_type": "stream",
          "name": "stderr",
          "text": [
            "\r  7%|▋         | 21/300 [02:23<32:29,  6.99s/it]"
          ]
        },
        {
          "output_type": "stream",
          "name": "stdout",
          "text": [
            "\n",
            "loss: 125082304.0\n",
            "\n",
            "loss: 4515.30517578125\n",
            "\n",
            "loss: 115276.484375\n"
          ]
        },
        {
          "output_type": "stream",
          "name": "stderr",
          "text": [
            "\r  7%|▋         | 22/300 [02:29<31:29,  6.80s/it]"
          ]
        },
        {
          "output_type": "stream",
          "name": "stdout",
          "text": [
            "\n",
            "loss: 31929804.0\n",
            "\n",
            "loss: 4767.28125\n",
            "\n",
            "loss: 98446.1953125\n"
          ]
        },
        {
          "output_type": "stream",
          "name": "stderr",
          "text": [
            "\r  8%|▊         | 23/300 [02:36<31:13,  6.76s/it]"
          ]
        },
        {
          "output_type": "stream",
          "name": "stdout",
          "text": [
            "\n",
            "loss: 435362816.0\n",
            "\n",
            "loss: 4494.51416015625\n",
            "\n",
            "loss: 425220.1875\n"
          ]
        },
        {
          "output_type": "stream",
          "name": "stderr",
          "text": [
            "\r  8%|▊         | 24/300 [02:43<31:16,  6.80s/it]"
          ]
        },
        {
          "output_type": "stream",
          "name": "stdout",
          "text": [
            "\n",
            "loss: 232707664.0\n",
            "\n",
            "loss: 4120.3603515625\n",
            "\n",
            "loss: 370852.46875\n"
          ]
        },
        {
          "output_type": "stream",
          "name": "stderr",
          "text": [
            "\r  8%|▊         | 25/300 [02:50<31:11,  6.81s/it]"
          ]
        },
        {
          "output_type": "stream",
          "name": "stdout",
          "text": [
            "\n",
            "loss: 226768864.0\n",
            "\n",
            "loss: 4773.0498046875\n",
            "\n",
            "loss: 231379.453125\n"
          ]
        },
        {
          "output_type": "stream",
          "name": "stderr",
          "text": [
            "\r  9%|▊         | 26/300 [02:57<31:32,  6.91s/it]"
          ]
        },
        {
          "output_type": "stream",
          "name": "stdout",
          "text": [
            "\n",
            "loss: 136312816.0\n",
            "\n",
            "loss: 3903.30078125\n",
            "\n",
            "loss: 193217.578125\n"
          ]
        },
        {
          "output_type": "stream",
          "name": "stderr",
          "text": [
            "\r  9%|▉         | 27/300 [03:03<30:38,  6.74s/it]"
          ]
        },
        {
          "output_type": "stream",
          "name": "stdout",
          "text": [
            "\n",
            "loss: 86608056.0\n",
            "\n",
            "loss: 4245.55810546875\n",
            "\n",
            "loss: 283276.4375\n"
          ]
        },
        {
          "output_type": "stream",
          "name": "stderr",
          "text": [
            "\r  9%|▉         | 28/300 [03:10<30:57,  6.83s/it]"
          ]
        },
        {
          "output_type": "stream",
          "name": "stdout",
          "text": [
            "\n",
            "loss: 264559824.0\n",
            "\n",
            "loss: 5100.75927734375\n",
            "\n",
            "loss: 1117653.25\n"
          ]
        },
        {
          "output_type": "stream",
          "name": "stderr",
          "text": [
            "\r 10%|▉         | 29/300 [03:17<30:11,  6.69s/it]"
          ]
        },
        {
          "output_type": "stream",
          "name": "stdout",
          "text": [
            "\n",
            "loss: 578562368.0\n",
            "\n",
            "loss: 3521.08056640625\n",
            "\n",
            "loss: 219838.34375\n"
          ]
        },
        {
          "output_type": "stream",
          "name": "stderr",
          "text": [
            "\r 10%|█         | 30/300 [03:24<30:38,  6.81s/it]"
          ]
        },
        {
          "output_type": "stream",
          "name": "stdout",
          "text": [
            "\n",
            "loss: 314072992.0\n",
            "\n",
            "loss: 4182.70068359375\n",
            "\n",
            "loss: 167424.0\n"
          ]
        },
        {
          "output_type": "stream",
          "name": "stderr",
          "text": [
            "\r 10%|█         | 31/300 [03:31<30:38,  6.84s/it]"
          ]
        },
        {
          "output_type": "stream",
          "name": "stdout",
          "text": [
            "\n",
            "loss: 329199328.0\n",
            "\n",
            "loss: 4240.2314453125\n",
            "\n",
            "loss: 344781.03125\n"
          ]
        },
        {
          "output_type": "stream",
          "name": "stderr",
          "text": [
            "\r 11%|█         | 32/300 [03:38<31:17,  7.01s/it]"
          ]
        },
        {
          "output_type": "stream",
          "name": "stdout",
          "text": [
            "\n",
            "loss: 117093480.0\n",
            "\n",
            "loss: 4498.3681640625\n",
            "\n",
            "loss: 307912.4375\n"
          ]
        },
        {
          "output_type": "stream",
          "name": "stderr",
          "text": [
            "\r 11%|█         | 33/300 [03:44<30:21,  6.82s/it]"
          ]
        },
        {
          "output_type": "stream",
          "name": "stdout",
          "text": [
            "\n",
            "loss: 257776672.0\n",
            "\n",
            "loss: 3944.7890625\n",
            "\n",
            "loss: 154354.984375\n"
          ]
        },
        {
          "output_type": "stream",
          "name": "stderr",
          "text": [
            "\r 11%|█▏        | 34/300 [03:52<31:08,  7.02s/it]"
          ]
        },
        {
          "output_type": "stream",
          "name": "stdout",
          "text": [
            "\n",
            "loss: 480079616.0\n",
            "\n",
            "loss: 3664.957763671875\n",
            "\n",
            "loss: 363499.71875\n"
          ]
        },
        {
          "output_type": "stream",
          "name": "stderr",
          "text": [
            "\r 12%|█▏        | 35/300 [03:59<31:24,  7.11s/it]"
          ]
        },
        {
          "output_type": "stream",
          "name": "stdout",
          "text": [
            "\n",
            "loss: 493148736.0\n",
            "\n",
            "loss: 3680.341064453125\n",
            "\n",
            "loss: 630273.625\n"
          ]
        },
        {
          "output_type": "stream",
          "name": "stderr",
          "text": [
            "\r 12%|█▏        | 36/300 [04:07<31:39,  7.20s/it]"
          ]
        },
        {
          "output_type": "stream",
          "name": "stdout",
          "text": [
            "\n",
            "loss: 748720320.0\n",
            "\n",
            "loss: 3829.4765625\n",
            "\n",
            "loss: 554056.5625\n"
          ]
        },
        {
          "output_type": "stream",
          "name": "stderr",
          "text": [
            "\r 12%|█▏        | 37/300 [04:14<32:01,  7.30s/it]"
          ]
        },
        {
          "output_type": "stream",
          "name": "stdout",
          "text": [
            "\n",
            "loss: 479321664.0\n",
            "\n",
            "loss: 4974.82666015625\n",
            "\n",
            "loss: 1345959.625\n"
          ]
        },
        {
          "output_type": "stream",
          "name": "stderr",
          "text": [
            "\r 13%|█▎        | 38/300 [04:21<30:56,  7.09s/it]"
          ]
        },
        {
          "output_type": "stream",
          "name": "stdout",
          "text": [
            "\n",
            "loss: 1736690048.0\n",
            "\n",
            "loss: 3496.259765625\n",
            "\n",
            "loss: 423895.09375\n"
          ]
        },
        {
          "output_type": "stream",
          "name": "stderr",
          "text": [
            "\r 13%|█▎        | 39/300 [04:29<32:11,  7.40s/it]"
          ]
        },
        {
          "output_type": "stream",
          "name": "stdout",
          "text": [
            "\n",
            "loss: 1249083648.0\n",
            "\n",
            "loss: 4034.960205078125\n",
            "\n",
            "loss: 404685.8125\n"
          ]
        },
        {
          "output_type": "stream",
          "name": "stderr",
          "text": [
            "\r 13%|█▎        | 40/300 [04:36<31:30,  7.27s/it]"
          ]
        },
        {
          "output_type": "stream",
          "name": "stdout",
          "text": [
            "\n",
            "loss: 479521696.0\n",
            "\n",
            "loss: 3558.983642578125\n",
            "\n",
            "loss: 506599.84375\n"
          ]
        },
        {
          "output_type": "stream",
          "name": "stderr",
          "text": [
            "\r 14%|█▎        | 41/300 [04:43<31:52,  7.38s/it]"
          ]
        },
        {
          "output_type": "stream",
          "name": "stdout",
          "text": [
            "\n",
            "loss: 292653888.0\n",
            "\n",
            "loss: 3851.93896484375\n",
            "\n",
            "loss: 526374.0\n"
          ]
        },
        {
          "output_type": "stream",
          "name": "stderr",
          "text": [
            "\r 14%|█▍        | 42/300 [04:51<31:37,  7.35s/it]"
          ]
        },
        {
          "output_type": "stream",
          "name": "stdout",
          "text": [
            "\n",
            "loss: 675206208.0\n",
            "\n",
            "loss: 3379.07421875\n",
            "\n",
            "loss: 153616.203125\n"
          ]
        },
        {
          "output_type": "stream",
          "name": "stderr",
          "text": [
            "\r 14%|█▍        | 43/300 [04:58<31:19,  7.31s/it]"
          ]
        },
        {
          "output_type": "stream",
          "name": "stdout",
          "text": [
            "\n",
            "loss: 357670848.0\n",
            "\n",
            "loss: 3579.02734375\n",
            "\n",
            "loss: 293305.5625\n"
          ]
        },
        {
          "output_type": "stream",
          "name": "stderr",
          "text": [
            "\r 15%|█▍        | 44/300 [05:06<31:37,  7.41s/it]"
          ]
        },
        {
          "output_type": "stream",
          "name": "stdout",
          "text": [
            "\n",
            "loss: 549715264.0\n",
            "\n",
            "loss: 3603.581298828125\n",
            "\n",
            "loss: 290032.1875\n"
          ]
        },
        {
          "output_type": "stream",
          "name": "stderr",
          "text": [
            "\r 15%|█▌        | 45/300 [05:12<30:39,  7.21s/it]"
          ]
        },
        {
          "output_type": "stream",
          "name": "stdout",
          "text": [
            "\n",
            "loss: 79104664.0\n",
            "\n",
            "loss: 3125.56591796875\n",
            "\n",
            "loss: 246767.171875\n"
          ]
        },
        {
          "output_type": "stream",
          "name": "stderr",
          "text": [
            "\r 15%|█▌        | 46/300 [05:20<30:29,  7.20s/it]"
          ]
        },
        {
          "output_type": "stream",
          "name": "stdout",
          "text": [
            "\n",
            "loss: 165646048.0\n",
            "\n",
            "loss: 3710.576904296875\n",
            "\n",
            "loss: 630450.1875\n"
          ]
        },
        {
          "output_type": "stream",
          "name": "stderr",
          "text": [
            "\r 16%|█▌        | 47/300 [05:26<29:19,  6.95s/it]"
          ]
        },
        {
          "output_type": "stream",
          "name": "stdout",
          "text": [
            "\n",
            "loss: 225322448.0\n",
            "\n",
            "loss: 3484.809326171875\n",
            "\n",
            "loss: 456184.25\n"
          ]
        },
        {
          "output_type": "stream",
          "name": "stderr",
          "text": [
            "\r 16%|█▌        | 48/300 [05:33<29:17,  6.97s/it]"
          ]
        },
        {
          "output_type": "stream",
          "name": "stdout",
          "text": [
            "\n",
            "loss: 214300384.0\n",
            "\n",
            "loss: 3213.671142578125\n",
            "\n",
            "loss: 42734.13671875\n"
          ]
        },
        {
          "output_type": "stream",
          "name": "stderr",
          "text": [
            "\r 16%|█▋        | 49/300 [05:40<28:46,  6.88s/it]"
          ]
        },
        {
          "output_type": "stream",
          "name": "stdout",
          "text": [
            "\n",
            "loss: 47902308.0\n",
            "\n",
            "loss: 3281.93505859375\n",
            "\n",
            "loss: 653791.3125\n"
          ]
        },
        {
          "output_type": "stream",
          "name": "stderr",
          "text": [
            "\r 17%|█▋        | 50/300 [05:47<29:15,  7.02s/it]"
          ]
        },
        {
          "output_type": "stream",
          "name": "stdout",
          "text": [
            "\n",
            "loss: 254872832.0\n",
            "\n",
            "loss: 3463.06494140625\n",
            "\n",
            "loss: 345993.125\n"
          ]
        },
        {
          "output_type": "stream",
          "name": "stderr",
          "text": [
            "\r 17%|█▋        | 51/300 [05:53<28:04,  6.76s/it]"
          ]
        },
        {
          "output_type": "stream",
          "name": "stdout",
          "text": [
            "\n",
            "loss: 234650672.0\n",
            "\n",
            "loss: 3224.043701171875\n",
            "\n",
            "loss: 32036.01953125\n"
          ]
        },
        {
          "output_type": "stream",
          "name": "stderr",
          "text": [
            "\r 17%|█▋        | 52/300 [06:00<28:35,  6.92s/it]"
          ]
        },
        {
          "output_type": "stream",
          "name": "stdout",
          "text": [
            "\n",
            "loss: 16620165.0\n",
            "\n",
            "loss: 3194.417236328125\n",
            "\n",
            "loss: 150732.09375\n"
          ]
        },
        {
          "output_type": "stream",
          "name": "stderr",
          "text": [
            "\r 18%|█▊        | 53/300 [06:07<28:22,  6.89s/it]"
          ]
        },
        {
          "output_type": "stream",
          "name": "stdout",
          "text": [
            "\n",
            "loss: 196571376.0\n",
            "\n",
            "loss: 3225.040283203125\n",
            "\n",
            "loss: 91530.015625\n"
          ]
        },
        {
          "output_type": "stream",
          "name": "stderr",
          "text": [
            "\r 18%|█▊        | 54/300 [06:14<28:30,  6.95s/it]"
          ]
        },
        {
          "output_type": "stream",
          "name": "stdout",
          "text": [
            "\n",
            "loss: 69009584.0\n",
            "\n",
            "loss: 3215.42626953125\n",
            "\n",
            "loss: 29713.384765625\n"
          ]
        },
        {
          "output_type": "stream",
          "name": "stderr",
          "text": [
            "\r 18%|█▊        | 55/300 [06:21<28:33,  6.99s/it]"
          ]
        },
        {
          "output_type": "stream",
          "name": "stdout",
          "text": [
            "\n",
            "loss: 29156772.0\n",
            "\n",
            "loss: 3122.19091796875\n",
            "\n",
            "loss: 16870.17578125\n"
          ]
        },
        {
          "output_type": "stream",
          "name": "stderr",
          "text": [
            "\r 19%|█▊        | 56/300 [06:28<27:58,  6.88s/it]"
          ]
        },
        {
          "output_type": "stream",
          "name": "stdout",
          "text": [
            "\n",
            "loss: 105750264.0\n",
            "\n",
            "loss: 3107.92431640625\n",
            "\n",
            "loss: 51498.8984375\n"
          ]
        },
        {
          "output_type": "stream",
          "name": "stderr",
          "text": [
            "\r 19%|█▉        | 57/300 [06:35<28:06,  6.94s/it]"
          ]
        },
        {
          "output_type": "stream",
          "name": "stdout",
          "text": [
            "\n",
            "loss: 7937651.0\n",
            "\n",
            "loss: 3218.053466796875\n",
            "\n",
            "loss: 91881.421875\n"
          ]
        },
        {
          "output_type": "stream",
          "name": "stderr",
          "text": [
            "\r 19%|█▉        | 58/300 [06:41<27:11,  6.74s/it]"
          ]
        },
        {
          "output_type": "stream",
          "name": "stdout",
          "text": [
            "\n",
            "loss: 44717368.0\n",
            "\n",
            "loss: 3180.795654296875\n",
            "\n",
            "loss: 101060.359375\n"
          ]
        },
        {
          "output_type": "stream",
          "name": "stderr",
          "text": [
            "\r 20%|█▉        | 59/300 [06:49<27:47,  6.92s/it]"
          ]
        },
        {
          "output_type": "stream",
          "name": "stdout",
          "text": [
            "\n",
            "loss: 25437468.0\n",
            "\n",
            "loss: 3124.768798828125\n",
            "\n",
            "loss: 25103.087890625\n"
          ]
        },
        {
          "output_type": "stream",
          "name": "stderr",
          "text": [
            "\r 20%|██        | 60/300 [06:55<27:22,  6.84s/it]"
          ]
        },
        {
          "output_type": "stream",
          "name": "stdout",
          "text": [
            "\n",
            "loss: 9525679.0\n",
            "\n",
            "loss: 3107.624755859375\n",
            "\n",
            "loss: 32265.09375\n"
          ]
        },
        {
          "output_type": "stream",
          "name": "stderr",
          "text": [
            "\r 20%|██        | 61/300 [07:03<27:40,  6.95s/it]"
          ]
        },
        {
          "output_type": "stream",
          "name": "stdout",
          "text": [
            "\n",
            "loss: 31133984.0\n",
            "\n",
            "loss: 3136.020751953125\n",
            "\n",
            "loss: 47722.5390625\n"
          ]
        },
        {
          "output_type": "stream",
          "name": "stderr",
          "text": [
            "\r 21%|██        | 62/300 [07:09<27:06,  6.83s/it]"
          ]
        },
        {
          "output_type": "stream",
          "name": "stdout",
          "text": [
            "\n",
            "loss: 1158545.25\n",
            "\n",
            "loss: 3153.125\n",
            "\n",
            "loss: 50615.3203125\n"
          ]
        },
        {
          "output_type": "stream",
          "name": "stderr",
          "text": [
            "\r 21%|██        | 63/300 [07:17<28:10,  7.13s/it]"
          ]
        },
        {
          "output_type": "stream",
          "name": "stdout",
          "text": [
            "\n",
            "loss: 12144946.0\n",
            "\n",
            "loss: 3198.814208984375\n",
            "\n",
            "loss: 43424.41015625\n"
          ]
        },
        {
          "output_type": "stream",
          "name": "stderr",
          "text": [
            "\r 21%|██▏       | 64/300 [07:24<27:49,  7.08s/it]"
          ]
        },
        {
          "output_type": "stream",
          "name": "stdout",
          "text": [
            "\n",
            "loss: 6834044.0\n",
            "\n",
            "loss: 3174.479736328125\n",
            "\n",
            "loss: 52767.48046875\n"
          ]
        },
        {
          "output_type": "stream",
          "name": "stderr",
          "text": [
            "\r 22%|██▏       | 65/300 [07:31<27:58,  7.14s/it]"
          ]
        },
        {
          "output_type": "stream",
          "name": "stdout",
          "text": [
            "\n",
            "loss: 4116302.5\n",
            "\n",
            "loss: 3102.02587890625\n",
            "\n",
            "loss: 24553.70703125\n"
          ]
        },
        {
          "output_type": "stream",
          "name": "stderr",
          "text": [
            "\r 22%|██▏       | 66/300 [07:39<28:03,  7.20s/it]"
          ]
        },
        {
          "output_type": "stream",
          "name": "stdout",
          "text": [
            "\n",
            "loss: 3167664.25\n",
            "\n",
            "loss: 3083.21826171875\n",
            "\n",
            "loss: 34876.84375\n"
          ]
        },
        {
          "output_type": "stream",
          "name": "stderr",
          "text": [
            "\r 22%|██▏       | 67/300 [07:46<28:02,  7.22s/it]"
          ]
        },
        {
          "output_type": "stream",
          "name": "stdout",
          "text": [
            "\n",
            "loss: 3427774.5\n",
            "\n",
            "loss: 3109.367919921875\n",
            "\n",
            "loss: 24275.98828125\n"
          ]
        },
        {
          "output_type": "stream",
          "name": "stderr",
          "text": [
            "\r 23%|██▎       | 68/300 [07:54<28:39,  7.41s/it]"
          ]
        },
        {
          "output_type": "stream",
          "name": "stdout",
          "text": [
            "\n",
            "loss: 2722504.25\n",
            "\n",
            "loss: 3181.912109375\n",
            "\n",
            "loss: 29370.51171875\n"
          ]
        },
        {
          "output_type": "stream",
          "name": "stderr",
          "text": [
            "\r 23%|██▎       | 69/300 [08:01<27:58,  7.27s/it]"
          ]
        },
        {
          "output_type": "stream",
          "name": "stdout",
          "text": [
            "\n",
            "loss: 1490407.125\n",
            "\n",
            "loss: 3113.279296875\n",
            "\n",
            "loss: 31873.12109375\n"
          ]
        },
        {
          "output_type": "stream",
          "name": "stderr",
          "text": [
            "\r 23%|██▎       | 70/300 [08:09<28:45,  7.50s/it]"
          ]
        },
        {
          "output_type": "stream",
          "name": "stdout",
          "text": [
            "\n",
            "loss: 964899.3125\n",
            "\n",
            "loss: 3116.45166015625\n",
            "\n",
            "loss: 39258.42578125\n"
          ]
        },
        {
          "output_type": "stream",
          "name": "stderr",
          "text": [
            "\r 24%|██▎       | 71/300 [08:16<28:31,  7.48s/it]"
          ]
        },
        {
          "output_type": "stream",
          "name": "stdout",
          "text": [
            "\n",
            "loss: 2690282.5\n",
            "\n",
            "loss: 3117.26123046875\n",
            "\n",
            "loss: 35476.2578125\n"
          ]
        },
        {
          "output_type": "stream",
          "name": "stderr",
          "text": [
            "\r 24%|██▍       | 72/300 [08:23<28:00,  7.37s/it]"
          ]
        },
        {
          "output_type": "stream",
          "name": "stdout",
          "text": [
            "\n",
            "loss: 942142.625\n",
            "\n",
            "loss: 3128.673095703125\n",
            "\n",
            "loss: 24108.30078125\n"
          ]
        },
        {
          "output_type": "stream",
          "name": "stderr",
          "text": [
            "\r 24%|██▍       | 73/300 [08:30<27:28,  7.26s/it]"
          ]
        },
        {
          "output_type": "stream",
          "name": "stdout",
          "text": [
            "\n",
            "loss: 2118315.5\n",
            "\n",
            "loss: 3139.05859375\n",
            "\n",
            "loss: 21098.48046875\n"
          ]
        },
        {
          "output_type": "stream",
          "name": "stderr",
          "text": [
            "\r 25%|██▍       | 74/300 [08:37<26:43,  7.10s/it]"
          ]
        },
        {
          "output_type": "stream",
          "name": "stdout",
          "text": [
            "\n",
            "loss: 1893224.25\n",
            "\n",
            "loss: 3109.658447265625\n",
            "\n",
            "loss: 15524.650390625\n"
          ]
        },
        {
          "output_type": "stream",
          "name": "stderr",
          "text": [
            "\r 25%|██▌       | 75/300 [08:44<26:47,  7.15s/it]"
          ]
        },
        {
          "output_type": "stream",
          "name": "stdout",
          "text": [
            "\n",
            "loss: 708984.875\n",
            "\n",
            "loss: 3137.779296875\n",
            "\n",
            "loss: 17183.224609375\n"
          ]
        },
        {
          "output_type": "stream",
          "name": "stderr",
          "text": [
            "\r 25%|██▌       | 76/300 [08:51<26:08,  7.00s/it]"
          ]
        },
        {
          "output_type": "stream",
          "name": "stdout",
          "text": [
            "\n",
            "loss: 648916.9375\n",
            "\n",
            "loss: 3164.25537109375\n",
            "\n",
            "loss: 29118.97265625\n"
          ]
        },
        {
          "output_type": "stream",
          "name": "stderr",
          "text": [
            "\r 26%|██▌       | 77/300 [08:58<26:32,  7.14s/it]"
          ]
        },
        {
          "output_type": "stream",
          "name": "stdout",
          "text": [
            "\n",
            "loss: 2218168.25\n",
            "\n",
            "loss: 3131.20751953125\n",
            "\n",
            "loss: 43887.46875\n"
          ]
        },
        {
          "output_type": "stream",
          "name": "stderr",
          "text": [
            "\r 26%|██▌       | 78/300 [09:04<25:22,  6.86s/it]"
          ]
        },
        {
          "output_type": "stream",
          "name": "stdout",
          "text": [
            "\n",
            "loss: 2301936.25\n",
            "\n",
            "loss: 3143.067138671875\n",
            "\n",
            "loss: 25873.244140625\n"
          ]
        },
        {
          "output_type": "stream",
          "name": "stderr",
          "text": [
            "\r 26%|██▋       | 79/300 [09:11<25:25,  6.90s/it]"
          ]
        },
        {
          "output_type": "stream",
          "name": "stdout",
          "text": [
            "\n",
            "loss: 633915.125\n",
            "\n",
            "loss: 3157.306640625\n",
            "\n",
            "loss: 19280.78515625\n"
          ]
        },
        {
          "output_type": "stream",
          "name": "stderr",
          "text": [
            "\r 27%|██▋       | 80/300 [09:18<24:46,  6.76s/it]"
          ]
        },
        {
          "output_type": "stream",
          "name": "stdout",
          "text": [
            "\n",
            "loss: 1158715.125\n",
            "\n",
            "loss: 3097.672607421875\n",
            "\n",
            "loss: 14557.6767578125\n"
          ]
        },
        {
          "output_type": "stream",
          "name": "stderr",
          "text": [
            "\r 27%|██▋       | 81/300 [09:25<25:03,  6.87s/it]"
          ]
        },
        {
          "output_type": "stream",
          "name": "stdout",
          "text": [
            "\n",
            "loss: 968275.5\n",
            "\n",
            "loss: 3121.12255859375\n",
            "\n",
            "loss: 24733.3515625\n"
          ]
        },
        {
          "output_type": "stream",
          "name": "stderr",
          "text": [
            "\r 27%|██▋       | 82/300 [09:32<24:46,  6.82s/it]"
          ]
        },
        {
          "output_type": "stream",
          "name": "stdout",
          "text": [
            "\n",
            "loss: 1303196.25\n",
            "\n",
            "loss: 3105.025634765625\n",
            "\n",
            "loss: 19573.94140625\n"
          ]
        },
        {
          "output_type": "stream",
          "name": "stderr",
          "text": [
            "\r 28%|██▊       | 83/300 [09:39<24:52,  6.88s/it]"
          ]
        },
        {
          "output_type": "stream",
          "name": "stdout",
          "text": [
            "\n",
            "loss: 1076599.125\n",
            "\n",
            "loss: 3116.76318359375\n",
            "\n",
            "loss: 29415.46484375\n"
          ]
        },
        {
          "output_type": "stream",
          "name": "stderr",
          "text": [
            "\r 28%|██▊       | 84/300 [09:46<24:43,  6.87s/it]"
          ]
        },
        {
          "output_type": "stream",
          "name": "stdout",
          "text": [
            "\n",
            "loss: 909064.625\n",
            "\n",
            "loss: 3111.5908203125\n",
            "\n",
            "loss: 37825.0\n"
          ]
        },
        {
          "output_type": "stream",
          "name": "stderr",
          "text": [
            "\r 28%|██▊       | 85/300 [09:52<24:22,  6.80s/it]"
          ]
        },
        {
          "output_type": "stream",
          "name": "stdout",
          "text": [
            "\n",
            "loss: 1045006.8125\n",
            "\n",
            "loss: 3179.70361328125\n",
            "\n",
            "loss: 18627.41015625\n"
          ]
        },
        {
          "output_type": "stream",
          "name": "stderr",
          "text": [
            "\r 29%|██▊       | 86/300 [10:00<24:52,  6.97s/it]"
          ]
        },
        {
          "output_type": "stream",
          "name": "stdout",
          "text": [
            "\n",
            "loss: 682805.75\n",
            "\n",
            "loss: 3064.90966796875\n",
            "\n",
            "loss: 22468.51953125\n"
          ]
        },
        {
          "output_type": "stream",
          "name": "stderr",
          "text": [
            "\r 29%|██▉       | 87/300 [10:07<24:44,  6.97s/it]"
          ]
        },
        {
          "output_type": "stream",
          "name": "stdout",
          "text": [
            "\n",
            "loss: 1638806.75\n",
            "\n",
            "loss: 3097.89208984375\n",
            "\n",
            "loss: 32359.41796875\n"
          ]
        },
        {
          "output_type": "stream",
          "name": "stderr",
          "text": [
            "\r 29%|██▉       | 88/300 [10:14<25:10,  7.12s/it]"
          ]
        },
        {
          "output_type": "stream",
          "name": "stdout",
          "text": [
            "\n",
            "loss: 871316.625\n",
            "\n",
            "loss: 3098.56298828125\n",
            "\n",
            "loss: 24483.470703125\n"
          ]
        },
        {
          "output_type": "stream",
          "name": "stderr",
          "text": [
            "\r 30%|██▉       | 89/300 [10:21<24:42,  7.03s/it]"
          ]
        },
        {
          "output_type": "stream",
          "name": "stdout",
          "text": [
            "\n",
            "loss: 619371.75\n",
            "\n",
            "loss: 3151.025146484375\n",
            "\n",
            "loss: 29299.046875\n"
          ]
        },
        {
          "output_type": "stream",
          "name": "stderr",
          "text": [
            "\r 30%|███       | 90/300 [10:28<25:07,  7.18s/it]"
          ]
        },
        {
          "output_type": "stream",
          "name": "stdout",
          "text": [
            "\n",
            "loss: 763983.875\n",
            "\n",
            "loss: 3112.43798828125\n",
            "\n",
            "loss: 20182.99609375\n"
          ]
        },
        {
          "output_type": "stream",
          "name": "stderr",
          "text": [
            "\r 30%|███       | 91/300 [10:35<24:31,  7.04s/it]"
          ]
        },
        {
          "output_type": "stream",
          "name": "stdout",
          "text": [
            "\n",
            "loss: 515565.09375\n",
            "\n",
            "loss: 3146.659912109375\n",
            "\n",
            "loss: 22992.474609375\n"
          ]
        },
        {
          "output_type": "stream",
          "name": "stderr",
          "text": [
            "\r 31%|███       | 92/300 [10:43<25:02,  7.23s/it]"
          ]
        },
        {
          "output_type": "stream",
          "name": "stdout",
          "text": [
            "\n",
            "loss: 471276.15625\n",
            "\n",
            "loss: 3140.90771484375\n",
            "\n",
            "loss: 13704.0498046875\n"
          ]
        },
        {
          "output_type": "stream",
          "name": "stderr",
          "text": [
            "\r 31%|███       | 93/300 [10:50<24:47,  7.19s/it]"
          ]
        },
        {
          "output_type": "stream",
          "name": "stdout",
          "text": [
            "\n",
            "loss: 951585.375\n",
            "\n",
            "loss: 3118.147705078125\n",
            "\n",
            "loss: 32506.212890625\n"
          ]
        },
        {
          "output_type": "stream",
          "name": "stderr",
          "text": [
            "\r 31%|███▏      | 94/300 [10:57<24:37,  7.17s/it]"
          ]
        },
        {
          "output_type": "stream",
          "name": "stdout",
          "text": [
            "\n",
            "loss: 769088.5\n",
            "\n",
            "loss: 3172.32666015625\n",
            "\n",
            "loss: 16108.7109375\n"
          ]
        },
        {
          "output_type": "stream",
          "name": "stderr",
          "text": [
            "\r 32%|███▏      | 95/300 [11:05<24:54,  7.29s/it]"
          ]
        },
        {
          "output_type": "stream",
          "name": "stdout",
          "text": [
            "\n",
            "loss: 539988.0625\n",
            "\n",
            "loss: 3093.642822265625\n",
            "\n",
            "loss: 27021.90625\n"
          ]
        },
        {
          "output_type": "stream",
          "name": "stderr",
          "text": [
            "\r 32%|███▏      | 96/300 [11:11<24:00,  7.06s/it]"
          ]
        },
        {
          "output_type": "stream",
          "name": "stdout",
          "text": [
            "\n",
            "loss: 672487.25\n",
            "\n",
            "loss: 3116.980224609375\n",
            "\n",
            "loss: 22407.373046875\n"
          ]
        },
        {
          "output_type": "stream",
          "name": "stderr",
          "text": [
            "\r 32%|███▏      | 97/300 [11:18<24:03,  7.11s/it]"
          ]
        },
        {
          "output_type": "stream",
          "name": "stdout",
          "text": [
            "\n",
            "loss: 436467.40625\n",
            "\n",
            "loss: 3145.906494140625\n",
            "\n",
            "loss: 24810.75390625\n"
          ]
        },
        {
          "output_type": "stream",
          "name": "stderr",
          "text": [
            "\r 33%|███▎      | 98/300 [11:25<23:12,  6.89s/it]"
          ]
        },
        {
          "output_type": "stream",
          "name": "stdout",
          "text": [
            "\n",
            "loss: 880999.5\n",
            "\n",
            "loss: 3203.925537109375\n",
            "\n",
            "loss: 31228.978515625\n"
          ]
        },
        {
          "output_type": "stream",
          "name": "stderr",
          "text": [
            "\r 33%|███▎      | 99/300 [11:32<23:19,  6.96s/it]"
          ]
        },
        {
          "output_type": "stream",
          "name": "stdout",
          "text": [
            "\n",
            "loss: 573328.0625\n",
            "\n",
            "loss: 3134.99853515625\n",
            "\n",
            "loss: 19397.990234375\n"
          ]
        },
        {
          "output_type": "stream",
          "name": "stderr",
          "text": [
            "\r 33%|███▎      | 100/300 [11:38<22:38,  6.79s/it]"
          ]
        },
        {
          "output_type": "stream",
          "name": "stdout",
          "text": [
            "\n",
            "loss: 418422.40625\n",
            "\n",
            "loss: 3144.74951171875\n",
            "\n",
            "loss: 16583.974609375\n"
          ]
        },
        {
          "output_type": "stream",
          "name": "stderr",
          "text": [
            "\r 34%|███▎      | 101/300 [11:45<22:54,  6.91s/it]"
          ]
        },
        {
          "output_type": "stream",
          "name": "stdout",
          "text": [
            "\n",
            "loss: 491265.90625\n",
            "\n",
            "loss: 3115.823974609375\n",
            "\n",
            "loss: 33137.33984375\n"
          ]
        },
        {
          "output_type": "stream",
          "name": "stderr",
          "text": [
            "\r 34%|███▍      | 102/300 [11:52<22:12,  6.73s/it]"
          ]
        },
        {
          "output_type": "stream",
          "name": "stdout",
          "text": [
            "\n",
            "loss: 140374.28125\n",
            "\n",
            "loss: 3130.0537109375\n",
            "\n",
            "loss: 15762.212890625\n"
          ]
        },
        {
          "output_type": "stream",
          "name": "stderr",
          "text": [
            "\r 34%|███▍      | 103/300 [11:59<22:30,  6.86s/it]"
          ]
        },
        {
          "output_type": "stream",
          "name": "stdout",
          "text": [
            "\n",
            "loss: 583790.75\n",
            "\n",
            "loss: 3109.6181640625\n",
            "\n",
            "loss: 21591.23046875\n"
          ]
        },
        {
          "output_type": "stream",
          "name": "stderr",
          "text": [
            "\r 35%|███▍      | 104/300 [12:05<22:08,  6.78s/it]"
          ]
        },
        {
          "output_type": "stream",
          "name": "stdout",
          "text": [
            "\n",
            "loss: 317207.09375\n",
            "\n",
            "loss: 3122.337646484375\n",
            "\n",
            "loss: 28347.974609375\n"
          ]
        },
        {
          "output_type": "stream",
          "name": "stderr",
          "text": [
            "\r 35%|███▌      | 105/300 [12:12<21:58,  6.76s/it]"
          ]
        },
        {
          "output_type": "stream",
          "name": "stdout",
          "text": [
            "\n",
            "loss: 336479.40625\n",
            "\n",
            "loss: 3177.849365234375\n",
            "\n",
            "loss: 19637.73828125\n"
          ]
        },
        {
          "output_type": "stream",
          "name": "stderr",
          "text": [
            "\r 35%|███▌      | 106/300 [12:19<22:05,  6.83s/it]"
          ]
        },
        {
          "output_type": "stream",
          "name": "stdout",
          "text": [
            "\n",
            "loss: 565798.875\n",
            "\n",
            "loss: 3155.667236328125\n",
            "\n",
            "loss: 21933.458984375\n"
          ]
        },
        {
          "output_type": "stream",
          "name": "stderr",
          "text": [
            "\r 36%|███▌      | 107/300 [12:26<21:40,  6.74s/it]"
          ]
        },
        {
          "output_type": "stream",
          "name": "stdout",
          "text": [
            "\n",
            "loss: 470998.90625\n",
            "\n",
            "loss: 3117.4501953125\n",
            "\n",
            "loss: 22227.212890625\n"
          ]
        },
        {
          "output_type": "stream",
          "name": "stderr",
          "text": [
            "\r 36%|███▌      | 108/300 [12:33<21:58,  6.87s/it]"
          ]
        },
        {
          "output_type": "stream",
          "name": "stdout",
          "text": [
            "\n",
            "loss: 746916.375\n",
            "\n",
            "loss: 3077.811279296875\n",
            "\n",
            "loss: 21703.87890625\n"
          ]
        },
        {
          "output_type": "stream",
          "name": "stderr",
          "text": [
            "\r 36%|███▋      | 109/300 [12:39<21:29,  6.75s/it]"
          ]
        },
        {
          "output_type": "stream",
          "name": "stdout",
          "text": [
            "\n",
            "loss: 407488.78125\n",
            "\n",
            "loss: 3144.8359375\n",
            "\n",
            "loss: 24169.146484375\n"
          ]
        },
        {
          "output_type": "stream",
          "name": "stderr",
          "text": [
            "\r 37%|███▋      | 110/300 [12:47<21:53,  6.91s/it]"
          ]
        },
        {
          "output_type": "stream",
          "name": "stdout",
          "text": [
            "\n",
            "loss: 869160.875\n",
            "\n",
            "loss: 3152.253662109375\n",
            "\n",
            "loss: 25086.78125\n"
          ]
        },
        {
          "output_type": "stream",
          "name": "stderr",
          "text": [
            "\r 37%|███▋      | 111/300 [12:53<21:16,  6.75s/it]"
          ]
        },
        {
          "output_type": "stream",
          "name": "stdout",
          "text": [
            "\n",
            "loss: 854830.6875\n",
            "\n",
            "loss: 3143.87255859375\n",
            "\n",
            "loss: 25662.994140625\n"
          ]
        },
        {
          "output_type": "stream",
          "name": "stderr",
          "text": [
            "\r 37%|███▋      | 112/300 [13:00<21:33,  6.88s/it]"
          ]
        },
        {
          "output_type": "stream",
          "name": "stdout",
          "text": [
            "\n",
            "loss: 550509.9375\n",
            "\n",
            "loss: 3114.33056640625\n",
            "\n",
            "loss: 20344.396484375\n"
          ]
        },
        {
          "output_type": "stream",
          "name": "stderr",
          "text": [
            "\r 38%|███▊      | 113/300 [13:06<20:54,  6.71s/it]"
          ]
        },
        {
          "output_type": "stream",
          "name": "stdout",
          "text": [
            "\n",
            "loss: 387261.90625\n",
            "\n",
            "loss: 3096.916015625\n",
            "\n",
            "loss: 13329.6044921875\n"
          ]
        },
        {
          "output_type": "stream",
          "name": "stderr",
          "text": [
            "\r 38%|███▊      | 114/300 [13:13<21:02,  6.79s/it]"
          ]
        },
        {
          "output_type": "stream",
          "name": "stdout",
          "text": [
            "\n",
            "loss: 810938.3125\n",
            "\n",
            "loss: 3107.119873046875\n",
            "\n",
            "loss: 26191.9140625\n"
          ]
        },
        {
          "output_type": "stream",
          "name": "stderr",
          "text": [
            "\r 38%|███▊      | 115/300 [13:20<20:33,  6.67s/it]"
          ]
        },
        {
          "output_type": "stream",
          "name": "stdout",
          "text": [
            "\n",
            "loss: 633705.125\n",
            "\n",
            "loss: 3161.8798828125\n",
            "\n",
            "loss: 14859.9189453125\n"
          ]
        },
        {
          "output_type": "stream",
          "name": "stderr",
          "text": [
            "\r 39%|███▊      | 116/300 [13:27<20:53,  6.81s/it]"
          ]
        },
        {
          "output_type": "stream",
          "name": "stdout",
          "text": [
            "\n",
            "loss: 596762.625\n",
            "\n",
            "loss: 3110.523681640625\n",
            "\n",
            "loss: 24281.44140625\n"
          ]
        },
        {
          "output_type": "stream",
          "name": "stderr",
          "text": [
            "\r 39%|███▉      | 117/300 [13:34<20:33,  6.74s/it]"
          ]
        },
        {
          "output_type": "stream",
          "name": "stdout",
          "text": [
            "\n",
            "loss: 626723.375\n",
            "\n",
            "loss: 3086.263427734375\n",
            "\n",
            "loss: 13696.970703125\n"
          ]
        },
        {
          "output_type": "stream",
          "name": "stderr",
          "text": [
            "\r 39%|███▉      | 118/300 [13:40<20:28,  6.75s/it]"
          ]
        },
        {
          "output_type": "stream",
          "name": "stdout",
          "text": [
            "\n",
            "loss: 505517.09375\n",
            "\n",
            "loss: 3102.393798828125\n",
            "\n",
            "loss: 17569.99609375\n"
          ]
        },
        {
          "output_type": "stream",
          "name": "stderr",
          "text": [
            "\r 40%|███▉      | 119/300 [13:47<20:30,  6.80s/it]"
          ]
        },
        {
          "output_type": "stream",
          "name": "stdout",
          "text": [
            "\n",
            "loss: 593417.3125\n",
            "\n",
            "loss: 3142.442626953125\n",
            "\n",
            "loss: 20669.470703125\n"
          ]
        },
        {
          "output_type": "stream",
          "name": "stderr",
          "text": [
            "\r 40%|████      | 120/300 [13:54<20:09,  6.72s/it]"
          ]
        },
        {
          "output_type": "stream",
          "name": "stdout",
          "text": [
            "\n",
            "loss: 506460.84375\n",
            "\n",
            "loss: 3130.99169921875\n",
            "\n",
            "loss: 20592.72265625\n"
          ]
        },
        {
          "output_type": "stream",
          "name": "stderr",
          "text": [
            "\r 40%|████      | 121/300 [14:01<20:25,  6.85s/it]"
          ]
        },
        {
          "output_type": "stream",
          "name": "stdout",
          "text": [
            "\n",
            "loss: 474476.75\n",
            "\n",
            "loss: 3109.1298828125\n",
            "\n",
            "loss: 11478.6142578125\n"
          ]
        },
        {
          "output_type": "stream",
          "name": "stderr",
          "text": [
            "\r 41%|████      | 122/300 [14:07<19:44,  6.65s/it]"
          ]
        },
        {
          "output_type": "stream",
          "name": "stdout",
          "text": [
            "\n",
            "loss: 589714.375\n",
            "\n",
            "loss: 3163.58349609375\n",
            "\n",
            "loss: 13346.796875\n"
          ]
        },
        {
          "output_type": "stream",
          "name": "stderr",
          "text": [
            "\r 41%|████      | 123/300 [14:14<20:06,  6.82s/it]"
          ]
        },
        {
          "output_type": "stream",
          "name": "stdout",
          "text": [
            "\n",
            "loss: 622110.875\n",
            "\n",
            "loss: 3197.190673828125\n",
            "\n",
            "loss: 19724.3046875\n"
          ]
        },
        {
          "output_type": "stream",
          "name": "stderr",
          "text": [
            "\r 41%|████▏     | 124/300 [14:21<19:42,  6.72s/it]"
          ]
        },
        {
          "output_type": "stream",
          "name": "stdout",
          "text": [
            "\n",
            "loss: 594054.5625\n",
            "\n",
            "loss: 3162.338623046875\n",
            "\n",
            "loss: 18413.263671875\n"
          ]
        },
        {
          "output_type": "stream",
          "name": "stderr",
          "text": [
            "\r 42%|████▏     | 125/300 [14:28<19:56,  6.84s/it]"
          ]
        },
        {
          "output_type": "stream",
          "name": "stdout",
          "text": [
            "\n",
            "loss: 400690.84375\n",
            "\n",
            "loss: 3142.174560546875\n",
            "\n",
            "loss: 19433.79296875\n"
          ]
        },
        {
          "output_type": "stream",
          "name": "stderr",
          "text": [
            "\r 42%|████▏     | 126/300 [14:34<19:21,  6.68s/it]"
          ]
        },
        {
          "output_type": "stream",
          "name": "stdout",
          "text": [
            "\n",
            "loss: 363111.84375\n",
            "\n",
            "loss: 3112.06787109375\n",
            "\n",
            "loss: 21627.26953125\n"
          ]
        },
        {
          "output_type": "stream",
          "name": "stderr",
          "text": [
            "\r 42%|████▏     | 127/300 [14:41<19:32,  6.78s/it]"
          ]
        },
        {
          "output_type": "stream",
          "name": "stdout",
          "text": [
            "\n",
            "loss: 768072.0625\n",
            "\n",
            "loss: 3149.600830078125\n",
            "\n",
            "loss: 14901.9013671875\n"
          ]
        },
        {
          "output_type": "stream",
          "name": "stderr",
          "text": [
            "\r 43%|████▎     | 128/300 [14:48<19:06,  6.66s/it]"
          ]
        },
        {
          "output_type": "stream",
          "name": "stdout",
          "text": [
            "\n",
            "loss: 413614.40625\n",
            "\n",
            "loss: 3092.57568359375\n",
            "\n",
            "loss: 15959.224609375\n"
          ]
        },
        {
          "output_type": "stream",
          "name": "stderr",
          "text": [
            "\r 43%|████▎     | 129/300 [14:55<19:22,  6.80s/it]"
          ]
        },
        {
          "output_type": "stream",
          "name": "stdout",
          "text": [
            "\n",
            "loss: 486916.90625\n",
            "\n",
            "loss: 3145.83740234375\n",
            "\n",
            "loss: 14164.75\n"
          ]
        },
        {
          "output_type": "stream",
          "name": "stderr",
          "text": [
            "\r 43%|████▎     | 130/300 [15:01<19:00,  6.71s/it]"
          ]
        },
        {
          "output_type": "stream",
          "name": "stdout",
          "text": [
            "\n",
            "loss: 593481.8125\n",
            "\n",
            "loss: 3114.692626953125\n",
            "\n",
            "loss: 22755.255859375\n"
          ]
        },
        {
          "output_type": "stream",
          "name": "stderr",
          "text": [
            "\r 44%|████▎     | 131/300 [15:08<19:07,  6.79s/it]"
          ]
        },
        {
          "output_type": "stream",
          "name": "stdout",
          "text": [
            "\n",
            "loss: 650820.75\n",
            "\n",
            "loss: 3186.153076171875\n",
            "\n",
            "loss: 12619.611328125\n"
          ]
        },
        {
          "output_type": "stream",
          "name": "stderr",
          "text": [
            "\r 44%|████▍     | 132/300 [15:15<19:04,  6.81s/it]"
          ]
        },
        {
          "output_type": "stream",
          "name": "stdout",
          "text": [
            "\n",
            "loss: 265950.75\n",
            "\n",
            "loss: 3137.712890625\n",
            "\n",
            "loss: 26275.25\n"
          ]
        },
        {
          "output_type": "stream",
          "name": "stderr",
          "text": [
            "\r 44%|████▍     | 133/300 [15:22<18:55,  6.80s/it]"
          ]
        },
        {
          "output_type": "stream",
          "name": "stdout",
          "text": [
            "\n",
            "loss: 340531.8125\n",
            "\n",
            "loss: 3118.9833984375\n",
            "\n",
            "loss: 10250.427734375\n"
          ]
        },
        {
          "output_type": "stream",
          "name": "stderr",
          "text": [
            "\r 45%|████▍     | 134/300 [15:29<19:06,  6.91s/it]"
          ]
        },
        {
          "output_type": "stream",
          "name": "stdout",
          "text": [
            "\n",
            "loss: 382466.78125\n",
            "\n",
            "loss: 3168.99609375\n",
            "\n",
            "loss: 19044.30859375\n"
          ]
        },
        {
          "output_type": "stream",
          "name": "stderr",
          "text": [
            "\r 45%|████▌     | 135/300 [15:35<18:31,  6.74s/it]"
          ]
        },
        {
          "output_type": "stream",
          "name": "stdout",
          "text": [
            "\n",
            "loss: 1161912.0\n",
            "\n",
            "loss: 3098.08837890625\n",
            "\n",
            "loss: 17123.15234375\n"
          ]
        },
        {
          "output_type": "stream",
          "name": "stderr",
          "text": [
            "\r 45%|████▌     | 136/300 [15:42<18:41,  6.84s/it]"
          ]
        },
        {
          "output_type": "stream",
          "name": "stdout",
          "text": [
            "\n",
            "loss: 421247.9375\n",
            "\n",
            "loss: 3071.87548828125\n",
            "\n",
            "loss: 15354.46875\n"
          ]
        },
        {
          "output_type": "stream",
          "name": "stderr",
          "text": [
            "\r 46%|████▌     | 137/300 [15:49<18:08,  6.68s/it]"
          ]
        },
        {
          "output_type": "stream",
          "name": "stdout",
          "text": [
            "\n",
            "loss: 575064.625\n",
            "\n",
            "loss: 3115.74169921875\n",
            "\n",
            "loss: 10912.9013671875\n"
          ]
        },
        {
          "output_type": "stream",
          "name": "stderr",
          "text": [
            "\r 46%|████▌     | 138/300 [15:56<18:26,  6.83s/it]"
          ]
        },
        {
          "output_type": "stream",
          "name": "stdout",
          "text": [
            "\n",
            "loss: 692931.5\n",
            "\n",
            "loss: 3156.839599609375\n",
            "\n",
            "loss: 15779.921875\n"
          ]
        },
        {
          "output_type": "stream",
          "name": "stderr",
          "text": [
            "\r 46%|████▋     | 139/300 [16:02<18:00,  6.71s/it]"
          ]
        },
        {
          "output_type": "stream",
          "name": "stdout",
          "text": [
            "\n",
            "loss: 539536.375\n",
            "\n",
            "loss: 3086.376953125\n",
            "\n",
            "loss: 19741.072265625\n"
          ]
        },
        {
          "output_type": "stream",
          "name": "stderr",
          "text": [
            "\r 47%|████▋     | 140/300 [16:10<18:13,  6.84s/it]"
          ]
        },
        {
          "output_type": "stream",
          "name": "stdout",
          "text": [
            "\n",
            "loss: 291524.75\n",
            "\n",
            "loss: 3150.731201171875\n",
            "\n",
            "loss: 9363.162109375\n"
          ]
        },
        {
          "output_type": "stream",
          "name": "stderr",
          "text": [
            "\r 47%|████▋     | 141/300 [16:16<17:50,  6.73s/it]"
          ]
        },
        {
          "output_type": "stream",
          "name": "stdout",
          "text": [
            "\n",
            "loss: 691845.4375\n",
            "\n",
            "loss: 3149.01220703125\n",
            "\n",
            "loss: 15522.693359375\n"
          ]
        },
        {
          "output_type": "stream",
          "name": "stderr",
          "text": [
            "\r 47%|████▋     | 142/300 [16:23<18:11,  6.91s/it]"
          ]
        },
        {
          "output_type": "stream",
          "name": "stdout",
          "text": [
            "\n",
            "loss: 619906.75\n",
            "\n",
            "loss: 3098.80908203125\n",
            "\n",
            "loss: 12100.2744140625\n"
          ]
        },
        {
          "output_type": "stream",
          "name": "stderr",
          "text": [
            "\r 48%|████▊     | 143/300 [16:30<17:55,  6.85s/it]"
          ]
        },
        {
          "output_type": "stream",
          "name": "stdout",
          "text": [
            "\n",
            "loss: 300093.9375\n",
            "\n",
            "loss: 3138.018310546875\n",
            "\n",
            "loss: 14109.650390625\n"
          ]
        },
        {
          "output_type": "stream",
          "name": "stderr",
          "text": [
            "\r 48%|████▊     | 144/300 [16:37<18:05,  6.96s/it]"
          ]
        },
        {
          "output_type": "stream",
          "name": "stdout",
          "text": [
            "\n",
            "loss: 262650.5625\n",
            "\n",
            "loss: 3079.72607421875\n",
            "\n",
            "loss: 11143.3837890625\n"
          ]
        },
        {
          "output_type": "stream",
          "name": "stderr",
          "text": [
            "\r 48%|████▊     | 145/300 [16:44<18:04,  7.00s/it]"
          ]
        },
        {
          "output_type": "stream",
          "name": "stdout",
          "text": [
            "\n",
            "loss: 401034.0625\n",
            "\n",
            "loss: 3124.451904296875\n",
            "\n",
            "loss: 10398.3046875\n"
          ]
        },
        {
          "output_type": "stream",
          "name": "stderr",
          "text": [
            "\r 49%|████▊     | 146/300 [16:51<17:39,  6.88s/it]"
          ]
        },
        {
          "output_type": "stream",
          "name": "stdout",
          "text": [
            "\n",
            "loss: 597727.25\n",
            "\n",
            "loss: 3071.403076171875\n",
            "\n",
            "loss: 11306.8251953125\n"
          ]
        },
        {
          "output_type": "stream",
          "name": "stderr",
          "text": [
            "\r 49%|████▉     | 147/300 [16:58<17:54,  7.02s/it]"
          ]
        },
        {
          "output_type": "stream",
          "name": "stdout",
          "text": [
            "\n",
            "loss: 312686.90625\n",
            "\n",
            "loss: 3097.251220703125\n",
            "\n",
            "loss: 9317.220703125\n"
          ]
        },
        {
          "output_type": "stream",
          "name": "stderr",
          "text": [
            "\r 49%|████▉     | 148/300 [17:05<17:23,  6.87s/it]"
          ]
        },
        {
          "output_type": "stream",
          "name": "stdout",
          "text": [
            "\n",
            "loss: 364987.5\n",
            "\n",
            "loss: 3138.767822265625\n",
            "\n",
            "loss: 6845.80224609375\n"
          ]
        },
        {
          "output_type": "stream",
          "name": "stderr",
          "text": [
            "\r 50%|████▉     | 149/300 [17:12<17:32,  6.97s/it]"
          ]
        },
        {
          "output_type": "stream",
          "name": "stdout",
          "text": [
            "\n",
            "loss: 323577.8125\n",
            "\n",
            "loss: 3118.567138671875\n",
            "\n",
            "loss: 9425.798828125\n"
          ]
        },
        {
          "output_type": "stream",
          "name": "stderr",
          "text": [
            "\r 50%|█████     | 150/300 [17:18<17:01,  6.81s/it]"
          ]
        },
        {
          "output_type": "stream",
          "name": "stdout",
          "text": [
            "\n",
            "loss: 352599.53125\n",
            "\n",
            "loss: 3091.2490234375\n",
            "\n",
            "loss: 15844.986328125\n"
          ]
        },
        {
          "output_type": "stream",
          "name": "stderr",
          "text": [
            "\r 50%|█████     | 151/300 [17:26<17:18,  6.97s/it]"
          ]
        },
        {
          "output_type": "stream",
          "name": "stdout",
          "text": [
            "\n",
            "loss: 338494.53125\n",
            "\n",
            "loss: 3069.691650390625\n",
            "\n",
            "loss: 10409.1435546875\n"
          ]
        },
        {
          "output_type": "stream",
          "name": "stderr",
          "text": [
            "\r 51%|█████     | 152/300 [17:32<16:45,  6.79s/it]"
          ]
        },
        {
          "output_type": "stream",
          "name": "stdout",
          "text": [
            "\n",
            "loss: 379169.21875\n",
            "\n",
            "loss: 3151.6328125\n",
            "\n",
            "loss: 22395.09375\n"
          ]
        },
        {
          "output_type": "stream",
          "name": "stderr",
          "text": [
            "\r 51%|█████     | 153/300 [17:39<16:58,  6.93s/it]"
          ]
        },
        {
          "output_type": "stream",
          "name": "stdout",
          "text": [
            "\n",
            "loss: 806348.5\n",
            "\n",
            "loss: 3083.49365234375\n",
            "\n",
            "loss: 15450.556640625\n"
          ]
        },
        {
          "output_type": "stream",
          "name": "stderr",
          "text": [
            "\r 51%|█████▏    | 154/300 [17:46<16:32,  6.80s/it]"
          ]
        },
        {
          "output_type": "stream",
          "name": "stdout",
          "text": [
            "\n",
            "loss: 540254.0625\n",
            "\n",
            "loss: 3070.89306640625\n",
            "\n",
            "loss: 8858.0888671875\n"
          ]
        },
        {
          "output_type": "stream",
          "name": "stderr",
          "text": [
            "\r 52%|█████▏    | 155/300 [17:53<16:42,  6.91s/it]"
          ]
        },
        {
          "output_type": "stream",
          "name": "stdout",
          "text": [
            "\n",
            "loss: 703196.9375\n",
            "\n",
            "loss: 3091.390625\n",
            "\n",
            "loss: 6149.41845703125\n"
          ]
        },
        {
          "output_type": "stream",
          "name": "stderr",
          "text": [
            "\r 52%|█████▏    | 156/300 [18:00<16:37,  6.93s/it]"
          ]
        },
        {
          "output_type": "stream",
          "name": "stdout",
          "text": [
            "\n",
            "loss: 332863.21875\n",
            "\n",
            "loss: 3105.005859375\n",
            "\n",
            "loss: 21790.248046875\n"
          ]
        },
        {
          "output_type": "stream",
          "name": "stderr",
          "text": [
            "\r 52%|█████▏    | 157/300 [18:07<16:19,  6.85s/it]"
          ]
        },
        {
          "output_type": "stream",
          "name": "stdout",
          "text": [
            "\n",
            "loss: 643357.625\n",
            "\n",
            "loss: 3064.8095703125\n",
            "\n",
            "loss: 12143.25\n"
          ]
        },
        {
          "output_type": "stream",
          "name": "stderr",
          "text": [
            "\r 53%|█████▎    | 158/300 [18:14<16:28,  6.96s/it]"
          ]
        },
        {
          "output_type": "stream",
          "name": "stdout",
          "text": [
            "\n",
            "loss: 566321.625\n",
            "\n",
            "loss: 3053.98095703125\n",
            "\n",
            "loss: 7636.39208984375\n"
          ]
        },
        {
          "output_type": "stream",
          "name": "stderr",
          "text": [
            "\r 53%|█████▎    | 159/300 [18:20<16:02,  6.83s/it]"
          ]
        },
        {
          "output_type": "stream",
          "name": "stdout",
          "text": [
            "\n",
            "loss: 618657.875\n",
            "\n",
            "loss: 3074.96533203125\n",
            "\n",
            "loss: 9274.138671875\n"
          ]
        },
        {
          "output_type": "stream",
          "name": "stderr",
          "text": [
            "\r 53%|█████▎    | 160/300 [18:28<16:13,  6.96s/it]"
          ]
        },
        {
          "output_type": "stream",
          "name": "stdout",
          "text": [
            "\n",
            "loss: 472799.15625\n",
            "\n",
            "loss: 3096.436279296875\n",
            "\n",
            "loss: 6426.89013671875\n"
          ]
        },
        {
          "output_type": "stream",
          "name": "stderr",
          "text": [
            "\r 54%|█████▎    | 161/300 [18:34<15:42,  6.78s/it]"
          ]
        },
        {
          "output_type": "stream",
          "name": "stdout",
          "text": [
            "\n",
            "loss: 272141.25\n",
            "\n",
            "loss: 3098.865966796875\n",
            "\n",
            "loss: 15438.947265625\n"
          ]
        },
        {
          "output_type": "stream",
          "name": "stderr",
          "text": [
            "\r 54%|█████▍    | 162/300 [18:41<15:57,  6.94s/it]"
          ]
        },
        {
          "output_type": "stream",
          "name": "stdout",
          "text": [
            "\n",
            "loss: 614969.125\n",
            "\n",
            "loss: 3094.947265625\n",
            "\n",
            "loss: 15022.3515625\n"
          ]
        },
        {
          "output_type": "stream",
          "name": "stderr",
          "text": [
            "\r 54%|█████▍    | 163/300 [18:48<15:28,  6.78s/it]"
          ]
        },
        {
          "output_type": "stream",
          "name": "stdout",
          "text": [
            "\n",
            "loss: 535665.6875\n",
            "\n",
            "loss: 3104.908935546875\n",
            "\n",
            "loss: 9852.220703125\n"
          ]
        },
        {
          "output_type": "stream",
          "name": "stderr",
          "text": [
            "\r 55%|█████▍    | 164/300 [18:55<15:44,  6.94s/it]"
          ]
        },
        {
          "output_type": "stream",
          "name": "stdout",
          "text": [
            "\n",
            "loss: 334789.875\n",
            "\n",
            "loss: 3089.04443359375\n",
            "\n",
            "loss: 11590.68359375\n"
          ]
        },
        {
          "output_type": "stream",
          "name": "stderr",
          "text": [
            "\r 55%|█████▌    | 165/300 [19:02<15:15,  6.78s/it]"
          ]
        },
        {
          "output_type": "stream",
          "name": "stdout",
          "text": [
            "\n",
            "loss: 402186.5\n",
            "\n",
            "loss: 3107.44287109375\n",
            "\n",
            "loss: 14508.1123046875\n"
          ]
        },
        {
          "output_type": "stream",
          "name": "stderr",
          "text": [
            "\r 55%|█████▌    | 166/300 [19:09<15:22,  6.89s/it]"
          ]
        },
        {
          "output_type": "stream",
          "name": "stdout",
          "text": [
            "\n",
            "loss: 138328.75\n",
            "\n",
            "loss: 3079.423828125\n",
            "\n",
            "loss: 12870.203125\n"
          ]
        },
        {
          "output_type": "stream",
          "name": "stderr",
          "text": [
            "\r 56%|█████▌    | 167/300 [19:15<15:05,  6.81s/it]"
          ]
        },
        {
          "output_type": "stream",
          "name": "stdout",
          "text": [
            "\n",
            "loss: 809550.875\n",
            "\n",
            "loss: 3141.46240234375\n",
            "\n",
            "loss: 18183.65234375\n"
          ]
        },
        {
          "output_type": "stream",
          "name": "stderr",
          "text": [
            "\r 56%|█████▌    | 168/300 [19:22<15:03,  6.85s/it]"
          ]
        },
        {
          "output_type": "stream",
          "name": "stdout",
          "text": [
            "\n",
            "loss: 1229597.875\n",
            "\n",
            "loss: 3092.349853515625\n",
            "\n",
            "loss: 10751.7802734375\n"
          ]
        },
        {
          "output_type": "stream",
          "name": "stderr",
          "text": [
            "\r 56%|█████▋    | 169/300 [19:29<15:08,  6.93s/it]"
          ]
        },
        {
          "output_type": "stream",
          "name": "stdout",
          "text": [
            "\n",
            "loss: 412959.9375\n",
            "\n",
            "loss: 3138.7900390625\n",
            "\n",
            "loss: 15302.984375\n"
          ]
        },
        {
          "output_type": "stream",
          "name": "stderr",
          "text": [
            "\r 57%|█████▋    | 170/300 [19:36<14:38,  6.76s/it]"
          ]
        },
        {
          "output_type": "stream",
          "name": "stdout",
          "text": [
            "\n",
            "loss: 1701681.625\n",
            "\n",
            "loss: 3168.1201171875\n",
            "\n",
            "loss: 16446.453125\n"
          ]
        },
        {
          "output_type": "stream",
          "name": "stderr",
          "text": [
            "\r 57%|█████▋    | 171/300 [19:43<14:46,  6.87s/it]"
          ]
        },
        {
          "output_type": "stream",
          "name": "stdout",
          "text": [
            "\n",
            "loss: 1127549.625\n",
            "\n",
            "loss: 3089.339599609375\n",
            "\n",
            "loss: 16269.205078125\n"
          ]
        },
        {
          "output_type": "stream",
          "name": "stderr",
          "text": [
            "\r 57%|█████▋    | 172/300 [19:49<14:19,  6.72s/it]"
          ]
        },
        {
          "output_type": "stream",
          "name": "stdout",
          "text": [
            "\n",
            "loss: 300747.9375\n",
            "\n",
            "loss: 3122.37939453125\n",
            "\n",
            "loss: 16034.685546875\n"
          ]
        },
        {
          "output_type": "stream",
          "name": "stderr",
          "text": [
            "\r 58%|█████▊    | 173/300 [19:56<14:31,  6.86s/it]"
          ]
        },
        {
          "output_type": "stream",
          "name": "stdout",
          "text": [
            "\n",
            "loss: 312772.6875\n",
            "\n",
            "loss: 3160.634765625\n",
            "\n",
            "loss: 8474.3271484375\n"
          ]
        },
        {
          "output_type": "stream",
          "name": "stderr",
          "text": [
            "\r 58%|█████▊    | 174/300 [20:03<14:00,  6.67s/it]"
          ]
        },
        {
          "output_type": "stream",
          "name": "stdout",
          "text": [
            "\n",
            "loss: 270009.65625\n",
            "\n",
            "loss: 3105.55712890625\n",
            "\n",
            "loss: 10979.9990234375\n"
          ]
        },
        {
          "output_type": "stream",
          "name": "stderr",
          "text": [
            "\r 58%|█████▊    | 175/300 [20:10<14:11,  6.81s/it]"
          ]
        },
        {
          "output_type": "stream",
          "name": "stdout",
          "text": [
            "\n",
            "loss: 620727.1875\n",
            "\n",
            "loss: 3089.478515625\n",
            "\n",
            "loss: 6955.36865234375\n"
          ]
        },
        {
          "output_type": "stream",
          "name": "stderr",
          "text": [
            "\r 59%|█████▊    | 176/300 [20:16<13:45,  6.66s/it]"
          ]
        },
        {
          "output_type": "stream",
          "name": "stdout",
          "text": [
            "\n",
            "loss: 1174571.875\n",
            "\n",
            "loss: 3092.5654296875\n",
            "\n",
            "loss: 11070.4111328125\n"
          ]
        },
        {
          "output_type": "stream",
          "name": "stderr",
          "text": [
            "\r 59%|█████▉    | 177/300 [20:23<13:59,  6.82s/it]"
          ]
        },
        {
          "output_type": "stream",
          "name": "stdout",
          "text": [
            "\n",
            "loss: 2279061.5\n",
            "\n",
            "loss: 3095.5478515625\n",
            "\n",
            "loss: 9326.37890625\n"
          ]
        },
        {
          "output_type": "stream",
          "name": "stderr",
          "text": [
            "\r 59%|█████▉    | 178/300 [20:30<13:37,  6.70s/it]"
          ]
        },
        {
          "output_type": "stream",
          "name": "stdout",
          "text": [
            "\n",
            "loss: 2041974.375\n",
            "\n",
            "loss: 3090.892822265625\n",
            "\n",
            "loss: 8529.0478515625\n"
          ]
        },
        {
          "output_type": "stream",
          "name": "stderr",
          "text": [
            "\r 60%|█████▉    | 179/300 [20:37<13:45,  6.83s/it]"
          ]
        },
        {
          "output_type": "stream",
          "name": "stdout",
          "text": [
            "\n",
            "loss: 427441.34375\n",
            "\n",
            "loss: 3105.763671875\n",
            "\n",
            "loss: 34042.16015625\n"
          ]
        },
        {
          "output_type": "stream",
          "name": "stderr",
          "text": [
            "\r 60%|██████    | 180/300 [20:43<13:24,  6.70s/it]"
          ]
        },
        {
          "output_type": "stream",
          "name": "stdout",
          "text": [
            "\n",
            "loss: 1920586.25\n",
            "\n",
            "loss: 3079.382080078125\n",
            "\n",
            "loss: 7323.6484375\n"
          ]
        },
        {
          "output_type": "stream",
          "name": "stderr",
          "text": [
            "\r 60%|██████    | 181/300 [20:50<13:32,  6.82s/it]"
          ]
        },
        {
          "output_type": "stream",
          "name": "stdout",
          "text": [
            "\n",
            "loss: 710706.9375\n",
            "\n",
            "loss: 3096.113525390625\n",
            "\n",
            "loss: 6467.1103515625\n"
          ]
        },
        {
          "output_type": "stream",
          "name": "stderr",
          "text": [
            "\r 61%|██████    | 182/300 [20:57<13:26,  6.83s/it]"
          ]
        },
        {
          "output_type": "stream",
          "name": "stdout",
          "text": [
            "\n",
            "loss: 570775.625\n",
            "\n",
            "loss: 3094.930908203125\n",
            "\n",
            "loss: 18779.43359375\n"
          ]
        },
        {
          "output_type": "stream",
          "name": "stderr",
          "text": [
            "\r 61%|██████    | 183/300 [21:04<13:13,  6.79s/it]"
          ]
        },
        {
          "output_type": "stream",
          "name": "stdout",
          "text": [
            "\n",
            "loss: 499888.75\n",
            "\n",
            "loss: 3136.3193359375\n",
            "\n",
            "loss: 9256.3916015625\n"
          ]
        },
        {
          "output_type": "stream",
          "name": "stderr",
          "text": [
            "\r 61%|██████▏   | 184/300 [21:11<13:19,  6.90s/it]"
          ]
        },
        {
          "output_type": "stream",
          "name": "stdout",
          "text": [
            "\n",
            "loss: 2193556.25\n",
            "\n",
            "loss: 3122.26611328125\n",
            "\n",
            "loss: 8945.9482421875\n"
          ]
        },
        {
          "output_type": "stream",
          "name": "stderr",
          "text": [
            "\r 62%|██████▏   | 185/300 [21:17<12:55,  6.75s/it]"
          ]
        },
        {
          "output_type": "stream",
          "name": "stdout",
          "text": [
            "\n",
            "loss: 6514030.5\n",
            "\n",
            "loss: 3127.36669921875\n",
            "\n",
            "loss: 8349.3173828125\n"
          ]
        },
        {
          "output_type": "stream",
          "name": "stderr",
          "text": [
            "\r 62%|██████▏   | 186/300 [21:25<13:06,  6.90s/it]"
          ]
        },
        {
          "output_type": "stream",
          "name": "stdout",
          "text": [
            "\n",
            "loss: 5153587.0\n",
            "\n",
            "loss: 3149.05224609375\n",
            "\n",
            "loss: 30461.98046875\n"
          ]
        },
        {
          "output_type": "stream",
          "name": "stderr",
          "text": [
            "\r 62%|██████▏   | 187/300 [21:31<12:44,  6.77s/it]"
          ]
        },
        {
          "output_type": "stream",
          "name": "stdout",
          "text": [
            "\n",
            "loss: 4915969.0\n",
            "\n",
            "loss: 3118.704345703125\n",
            "\n",
            "loss: 22164.041015625\n"
          ]
        },
        {
          "output_type": "stream",
          "name": "stderr",
          "text": [
            "\r 63%|██████▎   | 188/300 [21:38<12:51,  6.89s/it]"
          ]
        },
        {
          "output_type": "stream",
          "name": "stdout",
          "text": [
            "\n",
            "loss: 9594730.0\n",
            "\n",
            "loss: 3065.550048828125\n",
            "\n",
            "loss: 16937.369140625\n"
          ]
        },
        {
          "output_type": "stream",
          "name": "stderr",
          "text": [
            "\r 63%|██████▎   | 189/300 [21:45<12:25,  6.72s/it]"
          ]
        },
        {
          "output_type": "stream",
          "name": "stdout",
          "text": [
            "\n",
            "loss: 13528507.0\n",
            "\n",
            "loss: 3084.92333984375\n",
            "\n",
            "loss: 85627.9140625\n"
          ]
        },
        {
          "output_type": "stream",
          "name": "stderr",
          "text": [
            "\r 63%|██████▎   | 190/300 [21:52<12:33,  6.85s/it]"
          ]
        },
        {
          "output_type": "stream",
          "name": "stdout",
          "text": [
            "\n",
            "loss: 125610712.0\n",
            "\n",
            "loss: 3119.340576171875\n",
            "\n",
            "loss: 29742.83984375\n"
          ]
        },
        {
          "output_type": "stream",
          "name": "stderr",
          "text": [
            "\r 64%|██████▎   | 191/300 [21:58<12:11,  6.71s/it]"
          ]
        },
        {
          "output_type": "stream",
          "name": "stdout",
          "text": [
            "\n",
            "loss: 198663456.0\n",
            "\n",
            "loss: 3109.737548828125\n",
            "\n",
            "loss: 137524.09375\n"
          ]
        },
        {
          "output_type": "stream",
          "name": "stderr",
          "text": [
            "\r 64%|██████▍   | 192/300 [22:05<12:20,  6.85s/it]"
          ]
        },
        {
          "output_type": "stream",
          "name": "stdout",
          "text": [
            "\n",
            "loss: 205832016.0\n",
            "\n",
            "loss: 3410.985595703125\n",
            "\n",
            "loss: 322207.34375\n"
          ]
        },
        {
          "output_type": "stream",
          "name": "stderr",
          "text": [
            "\r 64%|██████▍   | 193/300 [22:12<12:02,  6.75s/it]"
          ]
        },
        {
          "output_type": "stream",
          "name": "stdout",
          "text": [
            "\n",
            "loss: 89563512.0\n",
            "\n",
            "loss: 3182.516357421875\n",
            "\n",
            "loss: 122428.453125\n"
          ]
        },
        {
          "output_type": "stream",
          "name": "stderr",
          "text": [
            "\r 65%|██████▍   | 194/300 [22:19<12:04,  6.83s/it]"
          ]
        },
        {
          "output_type": "stream",
          "name": "stdout",
          "text": [
            "\n",
            "loss: 222692608.0\n",
            "\n",
            "loss: 3159.85888671875\n",
            "\n",
            "loss: 24383.796875\n"
          ]
        },
        {
          "output_type": "stream",
          "name": "stderr",
          "text": [
            "\r 65%|██████▌   | 195/300 [22:26<11:56,  6.82s/it]"
          ]
        },
        {
          "output_type": "stream",
          "name": "stdout",
          "text": [
            "\n",
            "loss: 18383886.0\n",
            "\n",
            "loss: 3197.8681640625\n",
            "\n",
            "loss: 153283.53125\n"
          ]
        },
        {
          "output_type": "stream",
          "name": "stderr",
          "text": [
            "\r 65%|██████▌   | 196/300 [22:32<11:45,  6.79s/it]"
          ]
        },
        {
          "output_type": "stream",
          "name": "stdout",
          "text": [
            "\n",
            "loss: 81472440.0\n",
            "\n",
            "loss: 3241.11181640625\n",
            "\n",
            "loss: 19862.16796875\n"
          ]
        },
        {
          "output_type": "stream",
          "name": "stderr",
          "text": [
            "\r 66%|██████▌   | 197/300 [22:40<11:49,  6.88s/it]"
          ]
        },
        {
          "output_type": "stream",
          "name": "stdout",
          "text": [
            "\n",
            "loss: 17090700.0\n",
            "\n",
            "loss: 3175.813720703125\n",
            "\n",
            "loss: 52370.0\n"
          ]
        },
        {
          "output_type": "stream",
          "name": "stderr",
          "text": [
            "\r 66%|██████▌   | 198/300 [22:46<11:26,  6.73s/it]"
          ]
        },
        {
          "output_type": "stream",
          "name": "stdout",
          "text": [
            "\n",
            "loss: 46638744.0\n",
            "\n",
            "loss: 3154.699951171875\n",
            "\n",
            "loss: 47848.08203125\n"
          ]
        },
        {
          "output_type": "stream",
          "name": "stderr",
          "text": [
            "\r 66%|██████▋   | 199/300 [22:53<11:31,  6.84s/it]"
          ]
        },
        {
          "output_type": "stream",
          "name": "stdout",
          "text": [
            "\n",
            "loss: 73419464.0\n",
            "\n",
            "loss: 3179.18359375\n",
            "\n",
            "loss: 30432.02734375\n"
          ]
        },
        {
          "output_type": "stream",
          "name": "stderr",
          "text": [
            "\r 67%|██████▋   | 200/300 [22:59<11:12,  6.73s/it]"
          ]
        },
        {
          "output_type": "stream",
          "name": "stdout",
          "text": [
            "\n",
            "loss: 995112.3125\n",
            "\n",
            "loss: 3125.388671875\n",
            "\n",
            "loss: 35733.62890625\n"
          ]
        },
        {
          "output_type": "stream",
          "name": "stderr",
          "text": [
            "\r 67%|██████▋   | 201/300 [23:07<11:17,  6.85s/it]"
          ]
        },
        {
          "output_type": "stream",
          "name": "stdout",
          "text": [
            "\n",
            "loss: 24519388.0\n",
            "\n",
            "loss: 3117.58544921875\n",
            "\n",
            "loss: 14243.8486328125\n"
          ]
        },
        {
          "output_type": "stream",
          "name": "stderr",
          "text": [
            "\r 67%|██████▋   | 202/300 [23:13<10:58,  6.72s/it]"
          ]
        },
        {
          "output_type": "stream",
          "name": "stdout",
          "text": [
            "\n",
            "loss: 3505340.0\n",
            "\n",
            "loss: 3099.71875\n",
            "\n",
            "loss: 34338.8359375\n"
          ]
        },
        {
          "output_type": "stream",
          "name": "stderr",
          "text": [
            "\r 68%|██████▊   | 203/300 [23:20<11:06,  6.88s/it]"
          ]
        },
        {
          "output_type": "stream",
          "name": "stdout",
          "text": [
            "\n",
            "loss: 15696360.0\n",
            "\n",
            "loss: 3142.403564453125\n",
            "\n",
            "loss: 14443.501953125\n"
          ]
        },
        {
          "output_type": "stream",
          "name": "stderr",
          "text": [
            "\r 68%|██████▊   | 204/300 [23:27<10:47,  6.75s/it]"
          ]
        },
        {
          "output_type": "stream",
          "name": "stdout",
          "text": [
            "\n",
            "loss: 1022346.375\n",
            "\n",
            "loss: 3079.156494140625\n",
            "\n",
            "loss: 9149.1630859375\n"
          ]
        },
        {
          "output_type": "stream",
          "name": "stderr",
          "text": [
            "\r 68%|██████▊   | 205/300 [23:34<10:53,  6.88s/it]"
          ]
        },
        {
          "output_type": "stream",
          "name": "stdout",
          "text": [
            "\n",
            "loss: 5950014.5\n",
            "\n",
            "loss: 3142.236328125\n",
            "\n",
            "loss: 19558.255859375\n"
          ]
        },
        {
          "output_type": "stream",
          "name": "stderr",
          "text": [
            "\r 69%|██████▊   | 206/300 [23:40<10:35,  6.76s/it]"
          ]
        },
        {
          "output_type": "stream",
          "name": "stdout",
          "text": [
            "\n",
            "loss: 428012.09375\n",
            "\n",
            "loss: 3108.44482421875\n",
            "\n",
            "loss: 21368.646484375\n"
          ]
        },
        {
          "output_type": "stream",
          "name": "stderr",
          "text": [
            "\r 69%|██████▉   | 207/300 [23:47<10:36,  6.84s/it]"
          ]
        },
        {
          "output_type": "stream",
          "name": "stdout",
          "text": [
            "\n",
            "loss: 2543633.25\n",
            "\n",
            "loss: 3138.393798828125\n",
            "\n",
            "loss: 14667.986328125\n"
          ]
        },
        {
          "output_type": "stream",
          "name": "stderr",
          "text": [
            "\r 69%|██████▉   | 208/300 [23:54<10:32,  6.88s/it]"
          ]
        },
        {
          "output_type": "stream",
          "name": "stdout",
          "text": [
            "\n",
            "loss: 3826815.25\n",
            "\n",
            "loss: 3177.8515625\n",
            "\n",
            "loss: 9197.1376953125\n"
          ]
        },
        {
          "output_type": "stream",
          "name": "stderr",
          "text": [
            "\r 70%|██████▉   | 209/300 [24:01<10:20,  6.82s/it]"
          ]
        },
        {
          "output_type": "stream",
          "name": "stdout",
          "text": [
            "\n",
            "loss: 4647722.5\n",
            "\n",
            "loss: 3101.303466796875\n",
            "\n",
            "loss: 13382.0126953125\n"
          ]
        },
        {
          "output_type": "stream",
          "name": "stderr",
          "text": [
            "\r 70%|███████   | 210/300 [24:08<10:24,  6.94s/it]"
          ]
        },
        {
          "output_type": "stream",
          "name": "stdout",
          "text": [
            "\n",
            "loss: 1939299.625\n",
            "\n",
            "loss: 3137.54296875\n",
            "\n",
            "loss: 12591.8486328125\n"
          ]
        },
        {
          "output_type": "stream",
          "name": "stderr",
          "text": [
            "\r 70%|███████   | 211/300 [24:15<10:01,  6.76s/it]"
          ]
        },
        {
          "output_type": "stream",
          "name": "stdout",
          "text": [
            "\n",
            "loss: 2488171.5\n",
            "\n",
            "loss: 3121.47900390625\n",
            "\n",
            "loss: 11619.021484375\n"
          ]
        },
        {
          "output_type": "stream",
          "name": "stderr",
          "text": [
            "\r 71%|███████   | 212/300 [24:22<10:06,  6.89s/it]"
          ]
        },
        {
          "output_type": "stream",
          "name": "stdout",
          "text": [
            "\n",
            "loss: 634975.875\n",
            "\n",
            "loss: 3099.47119140625\n",
            "\n",
            "loss: 14474.447265625\n"
          ]
        },
        {
          "output_type": "stream",
          "name": "stderr",
          "text": [
            "\r 71%|███████   | 213/300 [24:28<09:47,  6.75s/it]"
          ]
        },
        {
          "output_type": "stream",
          "name": "stdout",
          "text": [
            "\n",
            "loss: 3375820.5\n",
            "\n",
            "loss: 3128.26806640625\n",
            "\n",
            "loss: 7859.5791015625\n"
          ]
        },
        {
          "output_type": "stream",
          "name": "stderr",
          "text": [
            "\r 71%|███████▏  | 214/300 [24:35<09:50,  6.86s/it]"
          ]
        },
        {
          "output_type": "stream",
          "name": "stdout",
          "text": [
            "\n",
            "loss: 4341980.0\n",
            "\n",
            "loss: 3123.182373046875\n",
            "\n",
            "loss: 12050.341796875\n"
          ]
        },
        {
          "output_type": "stream",
          "name": "stderr",
          "text": [
            "\r 72%|███████▏  | 215/300 [24:42<09:31,  6.72s/it]"
          ]
        },
        {
          "output_type": "stream",
          "name": "stdout",
          "text": [
            "\n",
            "loss: 537278.875\n",
            "\n",
            "loss: 3148.36572265625\n",
            "\n",
            "loss: 11553.5859375\n"
          ]
        },
        {
          "output_type": "stream",
          "name": "stderr",
          "text": [
            "\r 72%|███████▏  | 216/300 [24:49<09:37,  6.88s/it]"
          ]
        },
        {
          "output_type": "stream",
          "name": "stdout",
          "text": [
            "\n",
            "loss: 2568082.25\n",
            "\n",
            "loss: 3097.78466796875\n",
            "\n",
            "loss: 11829.837890625\n"
          ]
        },
        {
          "output_type": "stream",
          "name": "stderr",
          "text": [
            "\r 72%|███████▏  | 217/300 [25:01<11:36,  8.39s/it]"
          ]
        },
        {
          "output_type": "stream",
          "name": "stdout",
          "text": [
            "\n",
            "loss: 523292.40625\n",
            "\n",
            "loss: 3119.768310546875\n",
            "\n",
            "loss: 16155.517578125\n"
          ]
        },
        {
          "output_type": "stream",
          "name": "stderr",
          "text": [
            "\r 73%|███████▎  | 218/300 [25:07<10:37,  7.77s/it]"
          ]
        },
        {
          "output_type": "stream",
          "name": "stdout",
          "text": [
            "\n",
            "loss: 1300636.375\n",
            "\n",
            "loss: 3108.804931640625\n",
            "\n",
            "loss: 11600.7802734375\n"
          ]
        },
        {
          "output_type": "stream",
          "name": "stderr",
          "text": [
            "\r 73%|███████▎  | 219/300 [25:14<10:13,  7.58s/it]"
          ]
        },
        {
          "output_type": "stream",
          "name": "stdout",
          "text": [
            "\n",
            "loss: 506822.3125\n",
            "\n",
            "loss: 3084.978271484375\n",
            "\n",
            "loss: 17657.3203125\n"
          ]
        },
        {
          "output_type": "stream",
          "name": "stderr",
          "text": [
            "\r 73%|███████▎  | 220/300 [25:21<09:38,  7.23s/it]"
          ]
        },
        {
          "output_type": "stream",
          "name": "stdout",
          "text": [
            "\n",
            "loss: 1792731.375\n",
            "\n",
            "loss: 3146.56201171875\n",
            "\n",
            "loss: 7139.66552734375\n"
          ]
        },
        {
          "output_type": "stream",
          "name": "stderr",
          "text": [
            "\r 74%|███████▎  | 221/300 [25:28<09:30,  7.22s/it]"
          ]
        },
        {
          "output_type": "stream",
          "name": "stdout",
          "text": [
            "\n",
            "loss: 3752344.75\n",
            "\n",
            "loss: 3132.043212890625\n",
            "\n",
            "loss: 14960.478515625\n"
          ]
        },
        {
          "output_type": "stream",
          "name": "stderr",
          "text": [
            "\r 74%|███████▍  | 222/300 [25:34<09:06,  7.01s/it]"
          ]
        },
        {
          "output_type": "stream",
          "name": "stdout",
          "text": [
            "\n",
            "loss: 9774034.0\n",
            "\n",
            "loss: 3133.863037109375\n",
            "\n",
            "loss: 7961.4697265625\n"
          ]
        },
        {
          "output_type": "stream",
          "name": "stderr",
          "text": [
            "\r 74%|███████▍  | 223/300 [25:42<09:00,  7.02s/it]"
          ]
        },
        {
          "output_type": "stream",
          "name": "stdout",
          "text": [
            "\n",
            "loss: 646642.1875\n",
            "\n",
            "loss: 3118.024658203125\n",
            "\n",
            "loss: 19625.642578125\n"
          ]
        },
        {
          "output_type": "stream",
          "name": "stderr",
          "text": [
            "\r 75%|███████▍  | 224/300 [25:48<08:48,  6.95s/it]"
          ]
        },
        {
          "output_type": "stream",
          "name": "stdout",
          "text": [
            "\n",
            "loss: 1904118.0\n",
            "\n",
            "loss: 3128.362060546875\n",
            "\n",
            "loss: 11576.3896484375\n"
          ]
        },
        {
          "output_type": "stream",
          "name": "stderr",
          "text": [
            "\r 75%|███████▌  | 225/300 [25:55<08:39,  6.93s/it]"
          ]
        },
        {
          "output_type": "stream",
          "name": "stdout",
          "text": [
            "\n",
            "loss: 2793478.75\n",
            "\n",
            "loss: 3067.17724609375\n",
            "\n",
            "loss: 17240.16015625\n"
          ]
        },
        {
          "output_type": "stream",
          "name": "stderr",
          "text": [
            "\r 75%|███████▌  | 226/300 [26:02<08:40,  7.04s/it]"
          ]
        },
        {
          "output_type": "stream",
          "name": "stdout",
          "text": [
            "\n",
            "loss: 10698626.0\n",
            "\n",
            "loss: 3109.861572265625\n",
            "\n",
            "loss: 21030.677734375\n"
          ]
        },
        {
          "output_type": "stream",
          "name": "stderr",
          "text": [
            "\r 76%|███████▌  | 227/300 [26:09<08:20,  6.86s/it]"
          ]
        },
        {
          "output_type": "stream",
          "name": "stdout",
          "text": [
            "\n",
            "loss: 7541401.0\n",
            "\n",
            "loss: 3138.694580078125\n",
            "\n",
            "loss: 20864.41015625\n"
          ]
        },
        {
          "output_type": "stream",
          "name": "stderr",
          "text": [
            "\r 76%|███████▌  | 228/300 [26:16<08:21,  6.97s/it]"
          ]
        },
        {
          "output_type": "stream",
          "name": "stdout",
          "text": [
            "\n",
            "loss: 2985721.5\n",
            "\n",
            "loss: 3087.71484375\n",
            "\n",
            "loss: 7078.0\n"
          ]
        },
        {
          "output_type": "stream",
          "name": "stderr",
          "text": [
            "\r 76%|███████▋  | 229/300 [26:23<08:06,  6.85s/it]"
          ]
        },
        {
          "output_type": "stream",
          "name": "stdout",
          "text": [
            "\n",
            "loss: 9172347.0\n",
            "\n",
            "loss: 3096.284912109375\n",
            "\n",
            "loss: 17583.52734375\n"
          ]
        },
        {
          "output_type": "stream",
          "name": "stderr",
          "text": [
            "\r 77%|███████▋  | 230/300 [26:30<08:08,  6.98s/it]"
          ]
        },
        {
          "output_type": "stream",
          "name": "stdout",
          "text": [
            "\n",
            "loss: 12783884.0\n",
            "\n",
            "loss: 3136.65673828125\n",
            "\n",
            "loss: 18190.51953125\n"
          ]
        },
        {
          "output_type": "stream",
          "name": "stderr",
          "text": [
            "\r 77%|███████▋  | 231/300 [26:37<07:52,  6.84s/it]"
          ]
        },
        {
          "output_type": "stream",
          "name": "stdout",
          "text": [
            "\n",
            "loss: 315321.5625\n",
            "\n",
            "loss: 3099.938232421875\n",
            "\n",
            "loss: 13958.6298828125\n"
          ]
        },
        {
          "output_type": "stream",
          "name": "stderr",
          "text": [
            "\r 77%|███████▋  | 232/300 [26:44<07:53,  6.96s/it]"
          ]
        },
        {
          "output_type": "stream",
          "name": "stdout",
          "text": [
            "\n",
            "loss: 3667146.0\n",
            "\n",
            "loss: 3116.256591796875\n",
            "\n",
            "loss: 9549.98046875\n"
          ]
        },
        {
          "output_type": "stream",
          "name": "stderr",
          "text": [
            "\r 78%|███████▊  | 233/300 [26:50<07:35,  6.80s/it]"
          ]
        },
        {
          "output_type": "stream",
          "name": "stdout",
          "text": [
            "\n",
            "loss: 1527638.0\n",
            "\n",
            "loss: 3103.917236328125\n",
            "\n",
            "loss: 15873.1279296875\n"
          ]
        },
        {
          "output_type": "stream",
          "name": "stderr",
          "text": [
            "\r 78%|███████▊  | 234/300 [26:57<07:35,  6.90s/it]"
          ]
        },
        {
          "output_type": "stream",
          "name": "stdout",
          "text": [
            "\n",
            "loss: 10547830.0\n",
            "\n",
            "loss: 3130.390625\n",
            "\n",
            "loss: 10184.412109375\n"
          ]
        },
        {
          "output_type": "stream",
          "name": "stderr",
          "text": [
            "\r 78%|███████▊  | 235/300 [27:04<07:25,  6.85s/it]"
          ]
        },
        {
          "output_type": "stream",
          "name": "stdout",
          "text": [
            "\n",
            "loss: 21159848.0\n",
            "\n",
            "loss: 3100.0751953125\n",
            "\n",
            "loss: 21344.66796875\n"
          ]
        },
        {
          "output_type": "stream",
          "name": "stderr",
          "text": [
            "\r 79%|███████▊  | 236/300 [27:11<07:19,  6.86s/it]"
          ]
        },
        {
          "output_type": "stream",
          "name": "stdout",
          "text": [
            "\n",
            "loss: 41678028.0\n",
            "\n",
            "loss: 3086.10595703125\n",
            "\n",
            "loss: 27040.234375\n"
          ]
        },
        {
          "output_type": "stream",
          "name": "stderr",
          "text": [
            "\r 79%|███████▉  | 237/300 [27:18<07:12,  6.86s/it]"
          ]
        },
        {
          "output_type": "stream",
          "name": "stdout",
          "text": [
            "\n",
            "loss: 38770664.0\n",
            "\n",
            "loss: 3127.88525390625\n",
            "\n",
            "loss: 11741.103515625\n"
          ]
        },
        {
          "output_type": "stream",
          "name": "stderr",
          "text": [
            "\r 79%|███████▉  | 238/300 [27:25<07:03,  6.83s/it]"
          ]
        },
        {
          "output_type": "stream",
          "name": "stdout",
          "text": [
            "\n",
            "loss: 1279214.5\n",
            "\n",
            "loss: 3094.319580078125\n",
            "\n",
            "loss: 35503.05859375\n"
          ]
        },
        {
          "output_type": "stream",
          "name": "stderr",
          "text": [
            "\r 80%|███████▉  | 239/300 [27:32<07:04,  6.96s/it]"
          ]
        },
        {
          "output_type": "stream",
          "name": "stdout",
          "text": [
            "\n",
            "loss: 46149972.0\n",
            "\n",
            "loss: 3069.902587890625\n",
            "\n",
            "loss: 156327.53125\n"
          ]
        },
        {
          "output_type": "stream",
          "name": "stderr",
          "text": [
            "\r 80%|████████  | 240/300 [27:38<06:47,  6.79s/it]"
          ]
        },
        {
          "output_type": "stream",
          "name": "stdout",
          "text": [
            "\n",
            "loss: 245666128.0\n",
            "\n",
            "loss: 3099.71630859375\n",
            "\n",
            "loss: 66104.0390625\n"
          ]
        },
        {
          "output_type": "stream",
          "name": "stderr",
          "text": [
            "\r 80%|████████  | 241/300 [27:45<06:47,  6.91s/it]"
          ]
        },
        {
          "output_type": "stream",
          "name": "stdout",
          "text": [
            "\n",
            "loss: 284273472.0\n",
            "\n",
            "loss: 3191.05419921875\n",
            "\n",
            "loss: 15896.197265625\n"
          ]
        },
        {
          "output_type": "stream",
          "name": "stderr",
          "text": [
            "\r 81%|████████  | 242/300 [27:52<06:32,  6.76s/it]"
          ]
        },
        {
          "output_type": "stream",
          "name": "stdout",
          "text": [
            "\n",
            "loss: 60420204.0\n",
            "\n",
            "loss: 3280.18212890625\n",
            "\n",
            "loss: 283759.9375\n"
          ]
        },
        {
          "output_type": "stream",
          "name": "stderr",
          "text": [
            "\r 81%|████████  | 243/300 [27:59<06:34,  6.92s/it]"
          ]
        },
        {
          "output_type": "stream",
          "name": "stdout",
          "text": [
            "\n",
            "loss: 192852192.0\n",
            "\n",
            "loss: 3124.33154296875\n",
            "\n",
            "loss: 101630.2421875\n"
          ]
        },
        {
          "output_type": "stream",
          "name": "stderr",
          "text": [
            "\r 81%|████████▏ | 244/300 [28:06<06:19,  6.78s/it]"
          ]
        },
        {
          "output_type": "stream",
          "name": "stdout",
          "text": [
            "\n",
            "loss: 167297072.0\n",
            "\n",
            "loss: 3374.140625\n",
            "\n",
            "loss: 76611.8125\n"
          ]
        },
        {
          "output_type": "stream",
          "name": "stderr",
          "text": [
            "\r 82%|████████▏ | 245/300 [28:13<06:19,  6.90s/it]"
          ]
        },
        {
          "output_type": "stream",
          "name": "stdout",
          "text": [
            "\n",
            "loss: 22029340.0\n",
            "\n",
            "loss: 3131.979736328125\n",
            "\n",
            "loss: 78355.921875\n"
          ]
        },
        {
          "output_type": "stream",
          "name": "stderr",
          "text": [
            "\r 82%|████████▏ | 246/300 [28:19<06:04,  6.75s/it]"
          ]
        },
        {
          "output_type": "stream",
          "name": "stdout",
          "text": [
            "\n",
            "loss: 108766704.0\n",
            "\n",
            "loss: 3191.93212890625\n",
            "\n",
            "loss: 25722.11328125\n"
          ]
        },
        {
          "output_type": "stream",
          "name": "stderr",
          "text": [
            "\r 82%|████████▏ | 247/300 [28:26<06:06,  6.92s/it]"
          ]
        },
        {
          "output_type": "stream",
          "name": "stdout",
          "text": [
            "\n",
            "loss: 4497541.5\n",
            "\n",
            "loss: 3246.236572265625\n",
            "\n",
            "loss: 107380.7890625\n"
          ]
        },
        {
          "output_type": "stream",
          "name": "stderr",
          "text": [
            "\r 83%|████████▎ | 248/300 [28:33<05:56,  6.85s/it]"
          ]
        },
        {
          "output_type": "stream",
          "name": "stdout",
          "text": [
            "\n",
            "loss: 46548880.0\n",
            "\n",
            "loss: 3358.057861328125\n",
            "\n",
            "loss: 37537.625\n"
          ]
        },
        {
          "output_type": "stream",
          "name": "stderr",
          "text": [
            "\r 83%|████████▎ | 249/300 [28:40<05:48,  6.84s/it]"
          ]
        },
        {
          "output_type": "stream",
          "name": "stdout",
          "text": [
            "\n",
            "loss: 3511095.5\n",
            "\n",
            "loss: 3160.22802734375\n",
            "\n",
            "loss: 30462.494140625\n"
          ]
        },
        {
          "output_type": "stream",
          "name": "stderr",
          "text": [
            "\r 83%|████████▎ | 250/300 [28:47<05:42,  6.85s/it]"
          ]
        },
        {
          "output_type": "stream",
          "name": "stdout",
          "text": [
            "\n",
            "loss: 7019518.5\n",
            "\n",
            "loss: 3120.431640625\n",
            "\n",
            "loss: 61911.96875\n"
          ]
        },
        {
          "output_type": "stream",
          "name": "stderr",
          "text": [
            "\r 84%|████████▎ | 251/300 [28:53<05:32,  6.79s/it]"
          ]
        },
        {
          "output_type": "stream",
          "name": "stdout",
          "text": [
            "\n",
            "loss: 35964128.0\n",
            "\n",
            "loss: 3105.45458984375\n",
            "\n",
            "loss: 12356.0810546875\n"
          ]
        },
        {
          "output_type": "stream",
          "name": "stderr",
          "text": [
            "\r 84%|████████▍ | 252/300 [29:01<05:30,  6.89s/it]"
          ]
        },
        {
          "output_type": "stream",
          "name": "stdout",
          "text": [
            "\n",
            "loss: 10748526.0\n",
            "\n",
            "loss: 3159.864990234375\n",
            "\n",
            "loss: 96084.546875\n"
          ]
        },
        {
          "output_type": "stream",
          "name": "stderr",
          "text": [
            "\r 84%|████████▍ | 253/300 [29:07<05:21,  6.84s/it]"
          ]
        },
        {
          "output_type": "stream",
          "name": "stdout",
          "text": [
            "\n",
            "loss: 22313450.0\n",
            "\n",
            "loss: 3110.167236328125\n",
            "\n",
            "loss: 20753.224609375\n"
          ]
        },
        {
          "output_type": "stream",
          "name": "stderr",
          "text": [
            "\r 85%|████████▍ | 254/300 [29:17<05:53,  7.69s/it]"
          ]
        },
        {
          "output_type": "stream",
          "name": "stdout",
          "text": [
            "\n",
            "loss: 3172391.0\n",
            "\n",
            "loss: 3085.906982421875\n",
            "\n",
            "loss: 20468.05078125\n"
          ]
        },
        {
          "output_type": "stream",
          "name": "stderr",
          "text": [
            "\r 85%|████████▌ | 255/300 [29:24<05:30,  7.35s/it]"
          ]
        },
        {
          "output_type": "stream",
          "name": "stdout",
          "text": [
            "\n",
            "loss: 9556560.0\n",
            "\n",
            "loss: 3102.914794921875\n",
            "\n",
            "loss: 7939.58837890625\n"
          ]
        },
        {
          "output_type": "stream",
          "name": "stderr",
          "text": [
            "\r 85%|████████▌ | 256/300 [29:31<05:19,  7.26s/it]"
          ]
        },
        {
          "output_type": "stream",
          "name": "stdout",
          "text": [
            "\n",
            "loss: 1401010.25\n",
            "\n",
            "loss: 3116.662841796875\n",
            "\n",
            "loss: 24805.98046875\n"
          ]
        },
        {
          "output_type": "stream",
          "name": "stderr",
          "text": [
            "\r 86%|████████▌ | 257/300 [29:38<05:09,  7.19s/it]"
          ]
        },
        {
          "output_type": "stream",
          "name": "stdout",
          "text": [
            "\n",
            "loss: 11344248.0\n",
            "\n",
            "loss: 3104.47607421875\n",
            "\n",
            "loss: 12328.7197265625\n"
          ]
        },
        {
          "output_type": "stream",
          "name": "stderr",
          "text": [
            "\r 86%|████████▌ | 258/300 [29:44<04:53,  6.98s/it]"
          ]
        },
        {
          "output_type": "stream",
          "name": "stdout",
          "text": [
            "\n",
            "loss: 1339533.875\n",
            "\n",
            "loss: 3119.207763671875\n",
            "\n",
            "loss: 24683.611328125\n"
          ]
        },
        {
          "output_type": "stream",
          "name": "stderr",
          "text": [
            "\r 86%|████████▋ | 259/300 [29:51<04:47,  7.01s/it]"
          ]
        },
        {
          "output_type": "stream",
          "name": "stdout",
          "text": [
            "\n",
            "loss: 7297009.0\n",
            "\n",
            "loss: 3088.492919921875\n",
            "\n",
            "loss: 13162.267578125\n"
          ]
        },
        {
          "output_type": "stream",
          "name": "stderr",
          "text": [
            "\r 87%|████████▋ | 260/300 [29:58<04:32,  6.82s/it]"
          ]
        },
        {
          "output_type": "stream",
          "name": "stdout",
          "text": [
            "\n",
            "loss: 634097.875\n",
            "\n",
            "loss: 3115.24365234375\n",
            "\n",
            "loss: 22276.068359375\n"
          ]
        },
        {
          "output_type": "stream",
          "name": "stderr",
          "text": [
            "\r 87%|████████▋ | 261/300 [30:05<04:29,  6.91s/it]"
          ]
        },
        {
          "output_type": "stream",
          "name": "stdout",
          "text": [
            "\n",
            "loss: 4252549.5\n",
            "\n",
            "loss: 3126.499755859375\n",
            "\n",
            "loss: 17604.119140625\n"
          ]
        },
        {
          "output_type": "stream",
          "name": "stderr",
          "text": [
            "\r 87%|████████▋ | 262/300 [30:11<04:16,  6.75s/it]"
          ]
        },
        {
          "output_type": "stream",
          "name": "stdout",
          "text": [
            "\n",
            "loss: 1924091.75\n",
            "\n",
            "loss: 3148.497314453125\n",
            "\n",
            "loss: 10823.2490234375\n"
          ]
        },
        {
          "output_type": "stream",
          "name": "stderr",
          "text": [
            "\r 88%|████████▊ | 263/300 [30:18<04:14,  6.88s/it]"
          ]
        },
        {
          "output_type": "stream",
          "name": "stdout",
          "text": [
            "\n",
            "loss: 2240891.5\n",
            "\n",
            "loss: 3092.86474609375\n",
            "\n",
            "loss: 12768.24609375\n"
          ]
        },
        {
          "output_type": "stream",
          "name": "stderr",
          "text": [
            "\r 88%|████████▊ | 264/300 [30:25<04:02,  6.73s/it]"
          ]
        },
        {
          "output_type": "stream",
          "name": "stdout",
          "text": [
            "\n",
            "loss: 5872992.0\n",
            "\n",
            "loss: 3093.642822265625\n",
            "\n",
            "loss: 12759.4921875\n"
          ]
        },
        {
          "output_type": "stream",
          "name": "stderr",
          "text": [
            "\r 88%|████████▊ | 265/300 [30:32<03:59,  6.85s/it]"
          ]
        },
        {
          "output_type": "stream",
          "name": "stdout",
          "text": [
            "\n",
            "loss: 2518640.0\n",
            "\n",
            "loss: 3063.76611328125\n",
            "\n",
            "loss: 20095.47265625\n"
          ]
        },
        {
          "output_type": "stream",
          "name": "stderr",
          "text": [
            "\r 89%|████████▊ | 266/300 [30:38<03:48,  6.71s/it]"
          ]
        },
        {
          "output_type": "stream",
          "name": "stdout",
          "text": [
            "\n",
            "loss: 2500952.5\n",
            "\n",
            "loss: 3144.212158203125\n",
            "\n",
            "loss: 10006.341796875\n"
          ]
        },
        {
          "output_type": "stream",
          "name": "stderr",
          "text": [
            "\r 89%|████████▉ | 267/300 [30:45<03:46,  6.86s/it]"
          ]
        },
        {
          "output_type": "stream",
          "name": "stdout",
          "text": [
            "\n",
            "loss: 512646.6875\n",
            "\n",
            "loss: 3112.698486328125\n",
            "\n",
            "loss: 11823.587890625\n"
          ]
        },
        {
          "output_type": "stream",
          "name": "stderr",
          "text": [
            "\r 89%|████████▉ | 268/300 [30:52<03:34,  6.70s/it]"
          ]
        },
        {
          "output_type": "stream",
          "name": "stdout",
          "text": [
            "\n",
            "loss: 2924897.5\n",
            "\n",
            "loss: 3124.945556640625\n"
          ]
        }
      ]
    },
    {
      "cell_type": "code",
      "source": [
        "#@title Define the ODE sampler (double click to expand or collapse)\n",
        "from scipy import integrate\n",
        "## The error tolerance for the black-box ODE solver\n",
        "error_tolerance = 1e-6 #@param\n",
        "def ode_sampler(score_model,\n",
        "                marginal_prob_std,\n",
        "                diffusion_coeff,\n",
        "                batch_size=64,\n",
        "                atol=error_tolerance,\n",
        "                rtol=error_tolerance,\n",
        "                device='cpu',\n",
        "                z=None,\n",
        "                eps=1e-3,\n",
        "                idx = 1):\n",
        "  \"\"\"Generate samples from score-based models with black-box ODE solvers.\n",
        "\n",
        "  Args:\n",
        "    score_model: A PyTorch model that represents the time-dependent score-based model.\n",
        "    marginal_prob_std: A function that returns the standard deviation\n",
        "      of the perturbation kernel.\n",
        "    diffusion_coeff: A function that returns the diffusion coefficient of the SDE.\n",
        "    batch_size: The number of samplers to generate by calling this function once.\n",
        "    atol: Tolerance of absolute errors.\n",
        "    rtol: Tolerance of relative errors.\n",
        "    device: 'cuda' for running on GPUs, and 'cpu' for running on CPUs.\n",
        "    z: The latent code that governs the final sample. If None, we start from p_1;\n",
        "      otherwise, we start from the given z.\n",
        "    eps: The smallest time step for numerical stability.\n",
        "  \"\"\"\n",
        "  t = torch.ones(batch_size, device=device) + idx\n",
        "  # Create the latent code\n",
        "  if z is None:\n",
        "    initial_x = torch.randn(batch_size, channels, H, W, device=device) #* marginal_prob_std(t)[:, None, None, None]\n",
        "  else:\n",
        "    initial_x = z + torch.randn(batch_size, channels, H, W, device=device) #* marginal_prob_std(t)[:, None, None, None]\n",
        "\n",
        "  shape = initial_x.shape\n",
        "  def score_eval_wrapper(sample, time_steps):\n",
        "    \"\"\"A wrapper of the score-based model for use by the ODE solver.\"\"\"\n",
        "    sample = torch.tensor(sample, device=device, dtype=torch.float32).reshape(shape)\n",
        "    time_steps = torch.tensor(time_steps, device=device, dtype=torch.float32).reshape((sample.shape[0], ))\n",
        "    with torch.no_grad():\n",
        "      score = score_model(sample, time_steps)\n",
        "    return score.cpu().numpy().reshape((-1,)).astype(np.float64)\n",
        "\n",
        "  def ode_func(t, x):\n",
        "    \"\"\"The ODE function for use by the ODE solver.\"\"\"\n",
        "    time_steps = np.ones((shape[0],)) * t + ind\n",
        "    g = diffusion_coeff(torch.tensor(t)).cpu().numpy()\n",
        "    return  -0.5 * (g**2) * score_eval_wrapper(x, time_steps)\n",
        "\n",
        "  # Run the black-box ODE solver.\n",
        "  res = integrate.solve_ivp(ode_func, (1., eps), initial_x.reshape(-1).cpu().numpy(), rtol=rtol, atol=atol, method='RK45')\n",
        "\n",
        "  print(f\"\\nNumber of function evaluations: {res.nfev}\")\n",
        "  x = []\n",
        "  for i in range(res.y.shape[-1]):\n",
        "    x.append(res.y[:, i].reshape(shape))\n",
        "  x = np.concatenate(x, axis = 0)\n",
        "  return x"
      ],
      "metadata": {
        "cellView": "form",
        "id": "siZ3zW7NqqP5"
      },
      "execution_count": null,
      "outputs": []
    },
    {
      "cell_type": "code",
      "execution_count": null,
      "metadata": {
        "id": "voaFC9a0nzzT",
        "cellView": "form"
      },
      "outputs": [],
      "source": [
        "#@title Function for threading ODE sampler\n",
        "import torch\n",
        "from scipy import integrate\n",
        "import matplotlib.pyplot as plt\n",
        "import matplotlib.animation as animation\n",
        "import numpy as np\n",
        "\n",
        "# function for sampling on a thread\n",
        "def diffuse_sample(data_x, samples, diffusion_coeff, marginal_prob_std, model, idx=1):\n",
        "\n",
        "  sample_batch_size = batch_size\n",
        "  sampler = ode_sampler\n",
        "\n",
        "  # Generate samples using the specified sampler.\n",
        "  output = sampler(model_score,\n",
        "                  marginal_prob_std,\n",
        "                  diffusion_coeff,\n",
        "                  sample_batch_size,\n",
        "                  ind = idx)\n",
        "\n",
        "  samples.append(output)"
      ]
    },
    {
      "cell_type": "code",
      "source": [
        "#@title Sampling image\n",
        "samples = []\n",
        "\n",
        "model_score = Model()\n",
        "file = f'model_cifar.pth'\n",
        "ckpt = torch.load(file)\n",
        "model_score.load_state_dict(ckpt)\n",
        "model_score.eval();\n",
        "\n",
        "for idx, data in tqdm(enumerate(cifar_data_list_tensor)):\n",
        "  diffuse_sample(data[None], samples, diffusion_coeff_fn, marginal_prob_std_fn, model_score, idx)\n",
        "  # samples = np.concatenate(samples, axis = 1)\n",
        "  for i in range(samples[idx].shape[0]):\n",
        "    print(f'{samples[idx][i].mean(), samples[idx][i].std()}')\n",
        "    plt.imshow(((samples[idx][i] - samples[idx][i].min())/(samples[idx][i].max() - samples[idx][i].min())).transpose(1, 2, 0))\n",
        "    plt.show()"
      ],
      "metadata": {
        "id": "R5T9uhuh7vqH",
        "cellView": "form"
      },
      "execution_count": null,
      "outputs": []
    }
  ],
  "metadata": {
    "colab": {
      "provenance": [],
      "gpuType": "T4",
      "include_colab_link": true
    },
    "kernelspec": {
      "display_name": "Python 3",
      "name": "python3"
    },
    "language_info": {
      "codemirror_mode": {
        "name": "ipython",
        "version": 3
      },
      "file_extension": ".py",
      "mimetype": "text/x-python",
      "name": "python",
      "nbconvert_exporter": "python",
      "pygments_lexer": "ipython3",
      "version": "3.11.4"
    },
    "accelerator": "GPU"
  },
  "nbformat": 4,
  "nbformat_minor": 0
}