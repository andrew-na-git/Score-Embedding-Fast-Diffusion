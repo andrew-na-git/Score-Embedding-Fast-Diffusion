{
  "cells": [
    {
      "cell_type": "markdown",
      "metadata": {
        "id": "view-in-github",
        "colab_type": "text"
      },
      "source": [
        "<a href=\"https://colab.research.google.com/github/andrew-na-git/Stable-Diffusion/blob/William_branch/Colour_Main.ipynb\" target=\"_parent\"><img src=\"https://colab.research.google.com/assets/colab-badge.svg\" alt=\"Open In Colab\"/></a>"
      ]
    },
    {
      "cell_type": "code",
      "execution_count": 1,
      "metadata": {
        "colab": {
          "base_uri": "https://localhost:8080/"
        },
        "id": "MybHkbZidop-",
        "outputId": "510be613-ecce-42eb-f205-f6ab6634e363"
      },
      "outputs": [
        {
          "output_type": "stream",
          "name": "stdout",
          "text": [
            "make: Entering directory '/content/sparse_gaussian_elimination'\n",
            "make: 'a.so' is up to date.\n",
            "make: Leaving directory '/content/sparse_gaussian_elimination'\n"
          ]
        }
      ],
      "source": [
        "!make -C sparse_gaussian_elimination a.so"
      ]
    },
    {
      "cell_type": "code",
      "execution_count": 2,
      "metadata": {
        "colab": {
          "base_uri": "https://localhost:8080/"
        },
        "id": "01LTXK91cPQ5",
        "outputId": "46bc3311-5d49-4802-a941-77bbf4d616e5",
        "cellView": "form"
      },
      "outputs": [
        {
          "output_type": "stream",
          "name": "stdout",
          "text": [
            "Files already downloaded and verified\n"
          ]
        }
      ],
      "source": [
        "#@title Preamble\n",
        "import os\n",
        "import threading\n",
        "import torch.multiprocessing as multiprocessing\n",
        "import functools\n",
        "import random\n",
        "from math import log, sqrt, exp\n",
        "\n",
        "import matplotlib.pyplot as plt\n",
        "import scipy.stats as stats\n",
        "\n",
        "import numpy as np\n",
        "import scipy as sp\n",
        "from tqdm import tqdm\n",
        "from scipy import sparse\n",
        "from scipy.special import logsumexp, softmax, log_softmax\n",
        "from sklearn.preprocessing import MinMaxScaler\n",
        "from sklearn.neighbors import KernelDensity\n",
        "from sklearn.model_selection import GridSearchCV\n",
        "\n",
        "import torch\n",
        "from torchvision.datasets import CIFAR10\n",
        "import torchvision.transforms as transforms\n",
        "from torch.optim import Adam, AdamW, SGD\n",
        "\n",
        "from kfp import construct_A, construct_B, diffusion_coeff, marginal_prob_std, construct_R, construct_P, construct_P_block, construct_R_block, gauss_seidel, solve_pde, jacobi\n",
        "from network import ScoreNet\n",
        "\n",
        "import PIL\n",
        "\n",
        "np.random.seed(2)\n",
        "torch.manual_seed(2)\n",
        "\n",
        "#torch.set_default_device('cuda')\n",
        "\n",
        "# create a.so if doesnt exists\n",
        "# if not os.path.isfile(\"../sparse_gaussian_elimination/a.so\"):\n",
        "#     os.system(\"make -C ../sparse_gaussian_elimination a.so\")\n",
        "cifar = CIFAR10('.', download=True)"
      ]
    },
    {
      "cell_type": "code",
      "execution_count": 3,
      "metadata": {
        "id": "eFK-vpS8cPQ8",
        "cellView": "form"
      },
      "outputs": [],
      "source": [
        "#@title Construct the grid and Initial values\n",
        "batch_size = 1 #@param\n",
        "N = 20\n",
        "H = 28\n",
        "W = 28\n",
        "epoch = 2000 #@param\n",
        "eps = 1e-6 #@param\n",
        "lr = 1e-3 #@param\n",
        "\n",
        "channels = 3\n",
        "dt = 1/N\n",
        "sigma = 25 #@param\n",
        "marginal_prob_std_fn = functools.partial(marginal_prob_std, sigma=sigma)\n",
        "diffusion_coeff_fn = functools.partial(diffusion_coeff, sigma=sigma)"
      ]
    },
    {
      "cell_type": "code",
      "source": [
        "#@title Download mnist dataset\n",
        "#data_loader = DataLoader(list(filter(lambda i: i[1] == 5, mnist))[:1], shuffle=True, generator=torch.Generator(device='cuda'))\n",
        "cifar_data = cifar.data[np.array(cifar.targets) == 5] # grab the fives\n",
        "\n",
        "# sample 5 images for training\n",
        "cifar_data = cifar_data[np.random.choice(list(range(len(cifar_data))), 1, replace=False)]"
      ],
      "metadata": {
        "cellView": "form",
        "id": "YZP97C6o2mqC"
      },
      "execution_count": 4,
      "outputs": []
    },
    {
      "cell_type": "code",
      "execution_count": 5,
      "metadata": {
        "colab": {
          "base_uri": "https://localhost:8080/",
          "height": 879
        },
        "id": "1obYiwBkcPQ8",
        "outputId": "85af28a9-f611-40ac-b951-5d783b2f3a7f",
        "cellView": "form"
      },
      "outputs": [
        {
          "output_type": "stream",
          "name": "stdout",
          "text": [
            "218 0\n"
          ]
        },
        {
          "output_type": "display_data",
          "data": {
            "text/plain": [
              "<Figure size 640x480 with 1 Axes>"
            ],
            "image/png": "[encoded data removed]"
          },
          "metadata": {}
        },
        {
          "output_type": "stream",
          "name": "stdout",
          "text": [
            "1.0 0.0\n"
          ]
        },
        {
          "output_type": "display_data",
          "data": {
            "text/plain": [
              "<Figure size 640x480 with 1 Axes>"
            ],
            "image/png": "[encoded data removed]"
          },
          "metadata": {}
        }
      ],
      "source": [
        "#@title Cropping the image\n",
        "cropped_image_g = np.array(PIL.Image.fromarray(np.array(cifar_data[0])).convert(\"L\").crop((0, 0, 28, 28)))\n",
        "cifar_data_list_grey = [torch.Tensor(cropped_image_g)]\n",
        "\n",
        "cifar_data_list = []\n",
        "cifar_data_list_tensor = []\n",
        "for i in range(batch_size):\n",
        "  cropped_image_rgb = np.array(PIL.Image.fromarray(np.array(cifar_data[i])).convert(\"RGB\").crop((0, 0, 28, 28)))\n",
        "  cifar_data_list.append((cropped_image_rgb - cropped_image_rgb.min())/(cropped_image_rgb.max() - cropped_image_rgb.min())) # normalized to [0, 1]\n",
        "  # cifar_data_list = [cropped_image_rgb]\n",
        "  cifar_data_list_tensor.append(torch.Tensor(cifar_data_list[0].transpose((2, 0, 1))))\n",
        "\n",
        "  print(cifar_data[i].max(), cifar_data[i].min())\n",
        "  plt.imshow(cifar_data[i])\n",
        "  plt.show()\n",
        "\n",
        "  print(cifar_data_list[i].max(), cifar_data_list[i].min())\n",
        "  plt.imshow((cifar_data_list[i] - cifar_data_list[i].min())/(cifar_data_list[i].max() - cifar_data_list[i].min()))\n",
        "  plt.show()"
      ]
    },
    {
      "cell_type": "code",
      "execution_count": 6,
      "metadata": {
        "id": "e0h_bBjUcPQ9",
        "cellView": "form"
      },
      "outputs": [],
      "source": [
        "#@title Defining pde diffusion per thread\n",
        "def diffuse(x, m, dm, channel, time_, g, scores):\n",
        "\n",
        "  y_train = []\n",
        "  for j in range(H):\n",
        "    y_train.append(x[channel][j, :])\n",
        "  y_train = np.concatenate(y_train)\n",
        "  x_train = []\n",
        "  for l in range(W):\n",
        "    x_train.append(x[channel][:, l])\n",
        "  x_train = np.concatenate(x_train)\n",
        "\n",
        "  xy_train = np.vstack([x_train, y_train])\n",
        "  kde_kernel = stats.gaussian_kde(xy_train)\n",
        "  # xy_sample = kde_kernel.resample(seed=0)\n",
        "  m[0, channel] = kde_kernel.logpdf(xy_train)\n",
        "  dh = H*W / (256.*256.)\n",
        "  dx = H / 256.\n",
        "  dy = W / 256.\n",
        "\n",
        "  A_block = []\n",
        "  for i in range(1, N):\n",
        "    f = np.zeros((H*W))\n",
        "    df = np.zeros((H*W))\n",
        "    A = construct_A(dh, dt, f, df, g(time_[i]), scores[i, channel].reshape((H*W)), H, W)#\n",
        "    if i == 1:\n",
        "      A_block = sp.linalg.block_diag(A)\n",
        "    else:\n",
        "      A_block = sp.linalg.block_diag(A_block, A)\n",
        "      A_block[(i-1)*(H*W):i*(H*W), (i-2)*(H*W):(i-1)*(H*W)] = -np.eye((H*W))\n",
        "\n",
        "  B_block = []\n",
        "  for i in range(1, N):\n",
        "    B = construct_B(m[i-1, channel], i, H, W)\n",
        "    B_block.append(B)\n",
        "  B_block = np.concatenate(B_block)\n",
        "  m[1:, channel] = solve_pde(A_block, B_block, mode='sparse').reshape((-1, H*W))\n",
        "\n",
        "  img_log_prob = m[:, channel].reshape((-1, H, W))\n",
        "  dm[:, channel, 1:-1 , 1:-1] = (img_log_prob[:, 2:, 1:-1] - img_log_prob[:, :-2, 1:-1])/(2*dx) + (img_log_prob[:, 1:-1, 2:] - img_log_prob[:, 1:-1, :-2])/(2*dy)\n",
        "  dm[:, channel, 1:-1 , 0] = (img_log_prob[:, 2:, 0] - img_log_prob[:, :-2, 0])/(2*dx) + (img_log_prob[:, 1:-1, 0])/(dy)\n",
        "  dm[:, channel, 1:-1 , -1] = (img_log_prob[:, 2:, -1] - img_log_prob[:, :-2, -1])/(2*dx) + (img_log_prob[:, 1:-1, -1])/(dy)\n",
        "  dm[:, channel, 0 , 1:-1] = (img_log_prob[:, 0, 2:] - img_log_prob[:, 0, :-2])/(2*dy) + (img_log_prob[:, 0, 1:-1])/(dx)\n",
        "  dm[:, channel, -1 , 1:-1] = (img_log_prob[:, -1, 2:] - img_log_prob[:, -1, :-2])/(2*dy) + (img_log_prob[:, -1, 1:-1])/(dx)"
      ]
    },
    {
      "cell_type": "code",
      "source": [
        "#@title Precompute score labels by solving the PDE\n",
        "threads = [None] * channels\n",
        "\n",
        "m = np.zeros((N, channels, H*W), dtype=np.float32)\n",
        "m_prev = np.ones((N, channels, H*W), dtype=np.float32)\n",
        "scores = np.zeros((N, channels, H, W), dtype=np.float32) # initial scores guess\n",
        "dm = np.zeros_like(scores, dtype=np.float32)\n",
        "tol = 1e-3 #@param\n",
        "max_iter = 1000 #@param\n",
        "res = 1\n",
        "e = 0\n",
        "while res > tol:\n",
        "  for idx, data in tqdm(enumerate(cifar_data_list_tensor)):\n",
        "    # we want to sample from random time steps to construct training samples\n",
        "    time_ = np.linspace(eps, 1., N)\n",
        "\n",
        "    # diffuse all three channels concurrently\n",
        "    for ch in range(channels):\n",
        "      diffuse(data, m, dm, ch, time_, diffusion_coeff_fn, scores)\n",
        "\n",
        "    scores = dm.copy()\n",
        "\n",
        "    if e == max_iter:\n",
        "      print(f'No convergence')\n",
        "      break\n",
        "\n",
        "    res = np.linalg.norm(m - m_prev)#/np.linalg.norm(m_prev)\n",
        "    print(f'residual at iteration {e}: {res}')\n",
        "\n",
        "    m_prev = m.copy()\n",
        "    e += 1\n",
        "\n",
        "scores_label = scores.copy()"
      ],
      "metadata": {
        "colab": {
          "base_uri": "https://localhost:8080/"
        },
        "id": "f7nCC3Bui5tR",
        "outputId": "3bb7d0d4-f482-4c1d-c911-ecf8c36baaa5",
        "cellView": "form"
      },
      "execution_count": 7,
      "outputs": [
        {
          "output_type": "stream",
          "name": "stderr",
          "text": [
            "1it [00:46, 46.29s/it]\n"
          ]
        },
        {
          "output_type": "stream",
          "name": "stdout",
          "text": [
            "residual at iteration 0: 184.43231201171875\n"
          ]
        },
        {
          "output_type": "stream",
          "name": "stderr",
          "text": [
            "1it [00:27, 27.09s/it]\n"
          ]
        },
        {
          "output_type": "stream",
          "name": "stdout",
          "text": [
            "residual at iteration 1: 9.550494194030762\n"
          ]
        },
        {
          "output_type": "stream",
          "name": "stderr",
          "text": [
            "1it [00:27, 27.46s/it]\n"
          ]
        },
        {
          "output_type": "stream",
          "name": "stdout",
          "text": [
            "residual at iteration 2: 4.769001483917236\n"
          ]
        },
        {
          "output_type": "stream",
          "name": "stderr",
          "text": [
            "1it [00:27, 27.17s/it]\n"
          ]
        },
        {
          "output_type": "stream",
          "name": "stdout",
          "text": [
            "residual at iteration 3: 2.924910306930542\n"
          ]
        },
        {
          "output_type": "stream",
          "name": "stderr",
          "text": [
            "1it [00:29, 29.22s/it]\n"
          ]
        },
        {
          "output_type": "stream",
          "name": "stdout",
          "text": [
            "residual at iteration 4: 2.0558738708496094\n"
          ]
        },
        {
          "output_type": "stream",
          "name": "stderr",
          "text": [
            "1it [00:27, 27.25s/it]\n"
          ]
        },
        {
          "output_type": "stream",
          "name": "stdout",
          "text": [
            "residual at iteration 5: 1.6483455896377563\n"
          ]
        },
        {
          "output_type": "stream",
          "name": "stderr",
          "text": [
            "1it [00:27, 27.13s/it]\n"
          ]
        },
        {
          "output_type": "stream",
          "name": "stdout",
          "text": [
            "residual at iteration 6: 1.438449740409851\n"
          ]
        },
        {
          "output_type": "stream",
          "name": "stderr",
          "text": [
            "1it [00:27, 27.22s/it]\n"
          ]
        },
        {
          "output_type": "stream",
          "name": "stdout",
          "text": [
            "residual at iteration 7: 1.2999415397644043\n"
          ]
        },
        {
          "output_type": "stream",
          "name": "stderr",
          "text": [
            "1it [00:27, 27.14s/it]\n"
          ]
        },
        {
          "output_type": "stream",
          "name": "stdout",
          "text": [
            "residual at iteration 8: 1.186974287033081\n"
          ]
        },
        {
          "output_type": "stream",
          "name": "stderr",
          "text": [
            "1it [00:27, 27.82s/it]\n"
          ]
        },
        {
          "output_type": "stream",
          "name": "stdout",
          "text": [
            "residual at iteration 9: 1.081495761871338\n"
          ]
        },
        {
          "output_type": "stream",
          "name": "stderr",
          "text": [
            "1it [00:27, 27.03s/it]\n"
          ]
        },
        {
          "output_type": "stream",
          "name": "stdout",
          "text": [
            "residual at iteration 10: 0.9821061491966248\n"
          ]
        },
        {
          "output_type": "stream",
          "name": "stderr",
          "text": [
            "1it [00:27, 27.11s/it]\n"
          ]
        },
        {
          "output_type": "stream",
          "name": "stdout",
          "text": [
            "residual at iteration 11: 0.8852563500404358\n"
          ]
        },
        {
          "output_type": "stream",
          "name": "stderr",
          "text": [
            "1it [00:27, 27.18s/it]\n"
          ]
        },
        {
          "output_type": "stream",
          "name": "stdout",
          "text": [
            "residual at iteration 12: 0.7939031720161438\n"
          ]
        },
        {
          "output_type": "stream",
          "name": "stderr",
          "text": [
            "1it [00:39, 39.50s/it]\n"
          ]
        },
        {
          "output_type": "stream",
          "name": "stdout",
          "text": [
            "residual at iteration 13: 0.7067920565605164\n"
          ]
        },
        {
          "output_type": "stream",
          "name": "stderr",
          "text": [
            "1it [00:27, 27.41s/it]\n"
          ]
        },
        {
          "output_type": "stream",
          "name": "stdout",
          "text": [
            "residual at iteration 14: 0.6259231567382812\n"
          ]
        },
        {
          "output_type": "stream",
          "name": "stderr",
          "text": [
            "1it [00:27, 27.75s/it]\n"
          ]
        },
        {
          "output_type": "stream",
          "name": "stdout",
          "text": [
            "residual at iteration 15: 0.5507906675338745\n"
          ]
        },
        {
          "output_type": "stream",
          "name": "stderr",
          "text": [
            "1it [00:27, 27.10s/it]\n"
          ]
        },
        {
          "output_type": "stream",
          "name": "stdout",
          "text": [
            "residual at iteration 16: 0.48215043544769287\n"
          ]
        },
        {
          "output_type": "stream",
          "name": "stderr",
          "text": [
            "1it [00:27, 27.42s/it]\n"
          ]
        },
        {
          "output_type": "stream",
          "name": "stdout",
          "text": [
            "residual at iteration 17: 0.4197734594345093\n"
          ]
        },
        {
          "output_type": "stream",
          "name": "stderr",
          "text": [
            "1it [00:27, 27.24s/it]\n"
          ]
        },
        {
          "output_type": "stream",
          "name": "stdout",
          "text": [
            "residual at iteration 18: 0.3636155426502228\n"
          ]
        },
        {
          "output_type": "stream",
          "name": "stderr",
          "text": [
            "1it [00:27, 27.09s/it]\n"
          ]
        },
        {
          "output_type": "stream",
          "name": "stdout",
          "text": [
            "residual at iteration 19: 0.31348782777786255\n"
          ]
        },
        {
          "output_type": "stream",
          "name": "stderr",
          "text": [
            "1it [00:27, 27.59s/it]\n"
          ]
        },
        {
          "output_type": "stream",
          "name": "stdout",
          "text": [
            "residual at iteration 20: 0.26896148920059204\n"
          ]
        },
        {
          "output_type": "stream",
          "name": "stderr",
          "text": [
            "1it [00:27, 27.10s/it]\n"
          ]
        },
        {
          "output_type": "stream",
          "name": "stdout",
          "text": [
            "residual at iteration 21: 0.22979481518268585\n"
          ]
        },
        {
          "output_type": "stream",
          "name": "stderr",
          "text": [
            "1it [00:27, 27.44s/it]\n"
          ]
        },
        {
          "output_type": "stream",
          "name": "stdout",
          "text": [
            "residual at iteration 22: 0.19543519616127014\n"
          ]
        },
        {
          "output_type": "stream",
          "name": "stderr",
          "text": [
            "1it [00:27, 27.16s/it]\n"
          ]
        },
        {
          "output_type": "stream",
          "name": "stdout",
          "text": [
            "residual at iteration 23: 0.16558174788951874\n"
          ]
        },
        {
          "output_type": "stream",
          "name": "stderr",
          "text": [
            "1it [00:27, 27.22s/it]\n"
          ]
        },
        {
          "output_type": "stream",
          "name": "stdout",
          "text": [
            "residual at iteration 24: 0.13969193398952484\n"
          ]
        },
        {
          "output_type": "stream",
          "name": "stderr",
          "text": [
            "1it [00:27, 27.60s/it]\n"
          ]
        },
        {
          "output_type": "stream",
          "name": "stdout",
          "text": [
            "residual at iteration 25: 0.11743611097335815\n"
          ]
        },
        {
          "output_type": "stream",
          "name": "stderr",
          "text": [
            "1it [00:27, 27.31s/it]\n"
          ]
        },
        {
          "output_type": "stream",
          "name": "stdout",
          "text": [
            "residual at iteration 26: 0.09833814203739166\n"
          ]
        },
        {
          "output_type": "stream",
          "name": "stderr",
          "text": [
            "1it [00:27, 27.01s/it]\n"
          ]
        },
        {
          "output_type": "stream",
          "name": "stdout",
          "text": [
            "residual at iteration 27: 0.08207545429468155\n"
          ]
        },
        {
          "output_type": "stream",
          "name": "stderr",
          "text": [
            "1it [00:27, 27.15s/it]\n"
          ]
        },
        {
          "output_type": "stream",
          "name": "stdout",
          "text": [
            "residual at iteration 28: 0.0682544931769371\n"
          ]
        },
        {
          "output_type": "stream",
          "name": "stderr",
          "text": [
            "1it [00:27, 27.51s/it]\n"
          ]
        },
        {
          "output_type": "stream",
          "name": "stdout",
          "text": [
            "residual at iteration 29: 0.05658552423119545\n"
          ]
        },
        {
          "output_type": "stream",
          "name": "stderr",
          "text": [
            "1it [00:27, 27.61s/it]\n"
          ]
        },
        {
          "output_type": "stream",
          "name": "stdout",
          "text": [
            "residual at iteration 30: 0.04675561934709549\n"
          ]
        },
        {
          "output_type": "stream",
          "name": "stderr",
          "text": [
            "1it [00:27, 27.60s/it]\n"
          ]
        },
        {
          "output_type": "stream",
          "name": "stdout",
          "text": [
            "residual at iteration 31: 0.03852086514234543\n"
          ]
        },
        {
          "output_type": "stream",
          "name": "stderr",
          "text": [
            "1it [00:27, 27.09s/it]\n"
          ]
        },
        {
          "output_type": "stream",
          "name": "stdout",
          "text": [
            "residual at iteration 32: 0.03163939714431763\n"
          ]
        },
        {
          "output_type": "stream",
          "name": "stderr",
          "text": [
            "1it [00:27, 27.09s/it]\n"
          ]
        },
        {
          "output_type": "stream",
          "name": "stdout",
          "text": [
            "residual at iteration 33: 0.02591591514647007\n"
          ]
        },
        {
          "output_type": "stream",
          "name": "stderr",
          "text": [
            "1it [00:27, 27.74s/it]\n"
          ]
        },
        {
          "output_type": "stream",
          "name": "stdout",
          "text": [
            "residual at iteration 34: 0.0211679395288229\n"
          ]
        },
        {
          "output_type": "stream",
          "name": "stderr",
          "text": [
            "1it [00:39, 39.82s/it]\n"
          ]
        },
        {
          "output_type": "stream",
          "name": "stdout",
          "text": [
            "residual at iteration 35: 0.017245126888155937\n"
          ]
        },
        {
          "output_type": "stream",
          "name": "stderr",
          "text": [
            "1it [00:28, 28.10s/it]\n"
          ]
        },
        {
          "output_type": "stream",
          "name": "stdout",
          "text": [
            "residual at iteration 36: 0.014012660831212997\n"
          ]
        },
        {
          "output_type": "stream",
          "name": "stderr",
          "text": [
            "1it [00:27, 27.08s/it]\n"
          ]
        },
        {
          "output_type": "stream",
          "name": "stdout",
          "text": [
            "residual at iteration 37: 0.011358405463397503\n"
          ]
        },
        {
          "output_type": "stream",
          "name": "stderr",
          "text": [
            "1it [00:27, 27.22s/it]\n"
          ]
        },
        {
          "output_type": "stream",
          "name": "stdout",
          "text": [
            "residual at iteration 38: 0.009184617549180984\n"
          ]
        },
        {
          "output_type": "stream",
          "name": "stderr",
          "text": [
            "1it [00:27, 27.41s/it]\n"
          ]
        },
        {
          "output_type": "stream",
          "name": "stdout",
          "text": [
            "residual at iteration 39: 0.007409894373267889\n"
          ]
        },
        {
          "output_type": "stream",
          "name": "stderr",
          "text": [
            "1it [00:27, 27.17s/it]\n"
          ]
        },
        {
          "output_type": "stream",
          "name": "stdout",
          "text": [
            "residual at iteration 40: 0.005964639130979776\n"
          ]
        },
        {
          "output_type": "stream",
          "name": "stderr",
          "text": [
            "1it [00:27, 27.56s/it]\n"
          ]
        },
        {
          "output_type": "stream",
          "name": "stdout",
          "text": [
            "residual at iteration 41: 0.004790940321981907\n"
          ]
        },
        {
          "output_type": "stream",
          "name": "stderr",
          "text": [
            "1it [00:27, 27.14s/it]\n"
          ]
        },
        {
          "output_type": "stream",
          "name": "stdout",
          "text": [
            "residual at iteration 42: 0.003840082325041294\n"
          ]
        },
        {
          "output_type": "stream",
          "name": "stderr",
          "text": [
            "1it [00:27, 27.37s/it]\n"
          ]
        },
        {
          "output_type": "stream",
          "name": "stdout",
          "text": [
            "residual at iteration 43: 0.0030717619229108095\n"
          ]
        },
        {
          "output_type": "stream",
          "name": "stderr",
          "text": [
            "1it [00:27, 27.21s/it]\n"
          ]
        },
        {
          "output_type": "stream",
          "name": "stdout",
          "text": [
            "residual at iteration 44: 0.0024523581378161907\n"
          ]
        },
        {
          "output_type": "stream",
          "name": "stderr",
          "text": [
            "1it [00:27, 27.48s/it]\n"
          ]
        },
        {
          "output_type": "stream",
          "name": "stdout",
          "text": [
            "residual at iteration 45: 0.0019541243091225624\n"
          ]
        },
        {
          "output_type": "stream",
          "name": "stderr",
          "text": [
            "1it [00:27, 27.42s/it]\n"
          ]
        },
        {
          "output_type": "stream",
          "name": "stdout",
          "text": [
            "residual at iteration 46: 0.0015542292967438698\n"
          ]
        },
        {
          "output_type": "stream",
          "name": "stderr",
          "text": [
            "1it [00:27, 27.21s/it]\n"
          ]
        },
        {
          "output_type": "stream",
          "name": "stdout",
          "text": [
            "residual at iteration 47: 0.0012339898385107517\n"
          ]
        },
        {
          "output_type": "stream",
          "name": "stderr",
          "text": [
            "1it [00:29, 29.86s/it]"
          ]
        },
        {
          "output_type": "stream",
          "name": "stdout",
          "text": [
            "residual at iteration 48: 0.0009780623950064182\n"
          ]
        },
        {
          "output_type": "stream",
          "name": "stderr",
          "text": [
            "\n"
          ]
        }
      ]
    },
    {
      "cell_type": "code",
      "source": [
        "#@title Show the score labels\n",
        "print(scores_label[0].max(), scores_label[0].min())\n",
        "plt.imshow(((scores_label[0] - scores_label[0].min())/(scores_label[0].max() - scores_label[0].min())).transpose(1, 2, 0))\n",
        "plt.show()\n",
        "print(scores_label[-1].max(), scores_label[-1].min())\n",
        "plt.imshow(((scores_label[-1] - scores_label[-1].min())/(scores_label[-1].max() - scores_label[-1].min())).transpose(1, 2, 0))\n",
        "plt.show()"
      ],
      "metadata": {
        "cellView": "form",
        "id": "jKChj3hSxR5_",
        "colab": {
          "base_uri": "https://localhost:8080/",
          "height": 879
        },
        "outputId": "46dd53ec-4544-4743-ec2f-6d5891d37c99"
      },
      "execution_count": 8,
      "outputs": [
        {
          "output_type": "stream",
          "name": "stdout",
          "text": [
            "13.317394 -16.893488\n"
          ]
        },
        {
          "output_type": "display_data",
          "data": {
            "text/plain": [
              "<Figure size 640x480 with 1 Axes>"
            ],
            "image/png": "[encoded data removed]"
          },
          "metadata": {}
        },
        {
          "output_type": "stream",
          "name": "stdout",
          "text": [
            "0.037601896 -0.0042793695\n"
          ]
        },
        {
          "output_type": "display_data",
          "data": {
            "text/plain": [
              "<Figure size 640x480 with 1 Axes>"
            ],
            "image/png": "[encoded data removed]"
          },
          "metadata": {}
        }
      ]
    },
    {
      "cell_type": "code",
      "source": [
        "#@title Denoising network training\n",
        "def loss_fn(model, x, label, diffusion_coeff, marginal_prob_std, eps=1e-5):\n",
        "  \"\"\"The loss function for training score-based generative models.\n",
        "\n",
        "  Args:\n",
        "    model: A PyTorch model instance that represents a\n",
        "      time-dependent score-based model.\n",
        "    x: A mini-batch of training data.\n",
        "    marginal_prob_std: A function that gives the standard deviation of\n",
        "      the perturbation kernel.\n",
        "    eps: A tolerance value for numerical stability.\n",
        "  \"\"\"\n",
        "  random_t = torch.tensor(np.sort(np.random.uniform(eps, 1., N)).astype(np.float32))\n",
        "  # we encode the label into the initial data using the reverse ODE\n",
        "  diff_std2 = diffusion_coeff(2 * random_t)\n",
        "  for i in range(1, N):\n",
        "    x[i] = x[i-1] - 0.5 * label[i-1] * diff_std2[i-1] * dt\n",
        "  std = marginal_prob_std(random_t)\n",
        "  z = torch.randn_like(x)\n",
        "  # we perturb the image by the forward SDE conditional distribution\n",
        "  perturbed_x = x + z * std[:, None, None, None]\n",
        "  score = model(perturbed_x, random_t)\n",
        "  # loss = torch.mean((diff_std2) * torch.sum((score * std[:, None, None, None] - label)**2, dim=(1, 2, 3)) / (2 * diff_std2))\n",
        "  loss = torch.mean(torch.sum((score * std[:, None, None, None] + z)**2, dim=(1, 2, 3))) # original loss from tutorial\n",
        "  return loss"
      ],
      "metadata": {
        "id": "hXDIdajHVlFH",
        "cellView": "form"
      },
      "execution_count": 21,
      "outputs": []
    },
    {
      "cell_type": "code",
      "execution_count": 22,
      "metadata": {
        "id": "4mmD36ENcPQ-",
        "cellView": "form"
      },
      "outputs": [],
      "source": [
        "#@title Function for training on a thread\n",
        "def diffuse_train(init_x, channel, epoch, diffusion_coeff, marginal_prob_std, label):\n",
        "  model_score = ScoreNet(marginal_prob_std=marginal_prob_std)\n",
        "  optimizer = Adam(model_score.parameters(), lr=lr)\n",
        "  model_score.train();\n",
        "\n",
        "  scores_label = torch.tensor(label)[:, channel][:, None]\n",
        "\n",
        "  for e in range(epoch):\n",
        "    loss = loss_fn(model_score, init_x[:, channel][:, None], scores_label, diffusion_coeff, marginal_prob_std)\n",
        "    optimizer.zero_grad()\n",
        "    loss.backward()\n",
        "    optimizer.step()\n",
        "\n",
        "  print(f'\\nloss at channel {channel}: {loss}')\n",
        "  file = f'model_cifar_thread_{channel}.pth'\n",
        "  torch.save(model_score.state_dict(), file)\n",
        "  print(f\"model for thread {channel} has been saved\\n\")"
      ]
    },
    {
      "cell_type": "code",
      "source": [
        "#@title Train each channel on a thread\n",
        "if os.path.exists(f'model_cifar_thread_0.pth'):\n",
        "  print(f'removing saved weights for thread 0\\n')\n",
        "  os.remove(f'model_cifar_thread_0.pth')\n",
        "if os.path.exists(f'model_cifar_thread_1.pth'):\n",
        "  print(f'removing saved weights for thread 1\\n')\n",
        "  os.remove(f'model_cifar_thread_1.pth')\n",
        "if os.path.exists(f'model_cifar_thread_2.pth'):\n",
        "  print(f'removing saved weights for thread 2\\n')\n",
        "  os.remove(f'model_cifar_thread_2.pth')\n",
        "\n",
        "processes = [None] * channels\n",
        "init_x = torch.zeros((N, channels, H, W))\n",
        "\n",
        "for idx, data in tqdm(enumerate(cifar_data_list_tensor)):\n",
        "  for ch in range(channels):\n",
        "    init_x[:, ch] = data[ch]\n",
        "\n",
        "  # train all three channels concurrently\n",
        "  for ch in range(channels):\n",
        "    processes[ch] = multiprocessing.Process(target=diffuse_train, args=[init_x, ch, epoch, diffusion_coeff_fn, marginal_prob_std_fn, scores_label])\n",
        "    processes[ch].start()\n",
        "\n",
        "  for process in processes:\n",
        "    process.join()"
      ],
      "metadata": {
        "colab": {
          "base_uri": "https://localhost:8080/"
        },
        "cellView": "form",
        "id": "rpBI-Ocq4sSX",
        "outputId": "4d005478-ae5b-4377-f921-41628df7dc58"
      },
      "execution_count": 23,
      "outputs": [
        {
          "output_type": "stream",
          "name": "stdout",
          "text": [
            "removing saved weights for thread 0\n",
            "\n",
            "removing saved weights for thread 1\n",
            "\n",
            "removing saved weights for thread 2\n",
            "\n"
          ]
        },
        {
          "output_type": "stream",
          "name": "stderr",
          "text": [
            "\r0it [00:00, ?it/s]"
          ]
        },
        {
          "output_type": "stream",
          "name": "stdout",
          "text": [
            "\n",
            "loss at channel 2: 137.16969299316406\n",
            "model for thread 2 has been saved\n",
            "\n",
            "\n",
            "loss at channel 1: 126.04197692871094\n",
            "model for thread 1 has been saved\n",
            "\n",
            "\n",
            "loss at channel 0: 143.14842224121094\n",
            "model for thread 0 has been saved\n",
            "\n"
          ]
        },
        {
          "output_type": "stream",
          "name": "stderr",
          "text": [
            "1it [08:13, 493.65s/it]\n"
          ]
        }
      ]
    },
    {
      "cell_type": "code",
      "source": [
        "#@title Define the ODE sampler (double click to expand or collapse)\n",
        "from scipy import integrate\n",
        "## The error tolerance for the black-box ODE solver\n",
        "error_tolerance = 1e-6 #@param\n",
        "def ode_sampler(score_model,\n",
        "                marginal_prob_std,\n",
        "                diffusion_coeff,\n",
        "                batch_size=64,\n",
        "                atol=error_tolerance,\n",
        "                rtol=error_tolerance,\n",
        "                device='cpu',\n",
        "                z=None,\n",
        "                eps=1e-3):\n",
        "  \"\"\"Generate samples from score-based models with black-box ODE solvers.\n",
        "\n",
        "  Args:\n",
        "    score_model: A PyTorch model that represents the time-dependent score-based model.\n",
        "    marginal_prob_std: A function that returns the standard deviation\n",
        "      of the perturbation kernel.\n",
        "    diffusion_coeff: A function that returns the diffusion coefficient of the SDE.\n",
        "    batch_size: The number of samplers to generate by calling this function once.\n",
        "    atol: Tolerance of absolute errors.\n",
        "    rtol: Tolerance of relative errors.\n",
        "    device: 'cuda' for running on GPUs, and 'cpu' for running on CPUs.\n",
        "    z: The latent code that governs the final sample. If None, we start from p_1;\n",
        "      otherwise, we start from the given z.\n",
        "    eps: The smallest time step for numerical stability.\n",
        "  \"\"\"\n",
        "  t = torch.ones(batch_size, device=device)\n",
        "  # Create the latent code\n",
        "  if z is None:\n",
        "    initial_x = torch.randn(batch_size, 1, H, W, device=device) \\\n",
        "      * marginal_prob_std(t)[:, None, None, None]\n",
        "  else:\n",
        "    initial_x = z + torch.randn(batch_size, 1, H, W, device=device) \\\n",
        "      * marginal_prob_std(t)[:, None, None, None]\n",
        "\n",
        "  shape = initial_x.shape\n",
        "\n",
        "  def score_eval_wrapper(sample, time_steps):\n",
        "    \"\"\"A wrapper of the score-based model for use by the ODE solver.\"\"\"\n",
        "    sample = torch.tensor(sample, device=device, dtype=torch.float32).reshape(shape)\n",
        "    time_steps = torch.tensor(time_steps, device=device, dtype=torch.float32).reshape((sample.shape[0], ))\n",
        "    with torch.no_grad():\n",
        "      score = score_model(sample, time_steps)\n",
        "    return score.cpu().numpy().reshape((-1,)).astype(np.float64)\n",
        "\n",
        "  def ode_func(t, x):\n",
        "    \"\"\"The ODE function for use by the ODE solver.\"\"\"\n",
        "    time_steps = np.ones((shape[0],)) * t\n",
        "    g = diffusion_coeff(torch.tensor(t)).cpu().numpy()\n",
        "    return  -0.5 * (g**2) * score_eval_wrapper(x, time_steps)\n",
        "\n",
        "  # Run the black-box ODE solver.\n",
        "  res = integrate.solve_ivp(ode_func, (1., eps), initial_x.reshape(-1).cpu().numpy(), rtol=rtol, atol=atol, method='RK45')\n",
        "  print(f\"\\nNumber of function evaluations: {res.nfev}\")\n",
        "  x = [res.y[:, 0].reshape(shape)]\n",
        "  T = len(res.t)\n",
        "  for i in range(1, N-1):\n",
        "    x.append(res.y[:, i].reshape(shape))\n",
        "  x.append(res.y[:, -1].reshape(shape))\n",
        "  x = np.concatenate(x, axis = 0)\n",
        "  return x"
      ],
      "metadata": {
        "cellView": "form",
        "id": "siZ3zW7NqqP5"
      },
      "execution_count": 24,
      "outputs": []
    },
    {
      "cell_type": "code",
      "execution_count": 25,
      "metadata": {
        "id": "voaFC9a0nzzT",
        "cellView": "form"
      },
      "outputs": [],
      "source": [
        "#@title Function for threading ODE sampler\n",
        "import torch\n",
        "from scipy import integrate\n",
        "import matplotlib.pyplot as plt\n",
        "import matplotlib.animation as animation\n",
        "import numpy as np\n",
        "\n",
        "# function for sampling on a thread\n",
        "def diffuse_sample(data_x, channel, samples, diffusion_coeff, marginal_prob_std):\n",
        "\n",
        "  model_score = ScoreNet(marginal_prob_std=marginal_prob_std)\n",
        "  file = f'model_cifar_thread_{channel}.pth'\n",
        "  ckpt = torch.load(file)\n",
        "  model_score.load_state_dict(ckpt)\n",
        "  model_score.eval();\n",
        "\n",
        "  sample_batch_size = batch_size\n",
        "  sampler = ode_sampler\n",
        "\n",
        "  # Generate samples using the specified sampler.\n",
        "  output = sampler(model_score,\n",
        "                  marginal_prob_std,\n",
        "                  diffusion_coeff,\n",
        "                  sample_batch_size)\n",
        "\n",
        "  samples.append(output)"
      ]
    },
    {
      "cell_type": "code",
      "source": [
        "#@title Sample each channel on a thread\n",
        "threads = [None] * channels\n",
        "samples = []\n",
        "\n",
        "for idx, data in tqdm(enumerate(cifar_data_list_tensor)):\n",
        "  # diffuse all three channels concurrently\n",
        "  for ch in range(channels):\n",
        "    threads[ch] = threading.Thread(target=diffuse_sample, args=[data, ch, samples, diffusion_coeff_fn, marginal_prob_std_fn])\n",
        "    threads[ch].start()\n",
        "\n",
        "  for thread in threads:\n",
        "    thread.join()\n",
        "\n",
        "  samples = np.concatenate(samples, axis = 1)\n",
        "  for i in range(samples.shape[0]):\n",
        "    print(f'{samples[i].mean(), samples[i].std()}')\n",
        "    plt.imshow(((samples[i] - samples[i].min())/(samples[i].max() - samples[i].min())).transpose(1, 2, 0))\n",
        "    plt.show()"
      ],
      "metadata": {
        "id": "R5T9uhuh7vqH",
        "cellView": "form",
        "colab": {
          "base_uri": "https://localhost:8080/"
        },
        "outputId": "f47b560d-8dc3-46bf-898f-570cc33d193a"
      },
      "execution_count": null,
      "outputs": [
        {
          "output_type": "stream",
          "name": "stderr",
          "text": [
            "\r0it [00:00, ?it/s]"
          ]
        }
      ]
    }
  ],
  "metadata": {
    "colab": {
      "provenance": [],
      "include_colab_link": true
    },
    "kernelspec": {
      "display_name": "Python 3",
      "name": "python3"
    },
    "language_info": {
      "codemirror_mode": {
        "name": "ipython",
        "version": 3
      },
      "file_extension": ".py",
      "mimetype": "text/x-python",
      "name": "python",
      "nbconvert_exporter": "python",
      "pygments_lexer": "ipython3",
      "version": "3.11.4"
    }
  },
  "nbformat": 4,
  "nbformat_minor": 0
}