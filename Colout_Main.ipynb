{
  "cells": [
    {
      "cell_type": "markdown",
      "metadata": {
        "id": "view-in-github",
        "colab_type": "text"
      },
      "source": [
        "<a href=\"https://colab.research.google.com/github/andrew-na-git/Stable-Diffusion/blob/William_branch/Colout_Main.ipynb\" target=\"_parent\"><img src=\"https://colab.research.google.com/assets/colab-badge.svg\" alt=\"Open In Colab\"/></a>"
      ]
    },
    {
      "cell_type": "code",
      "execution_count": 1,
      "metadata": {
        "colab": {
          "base_uri": "https://localhost:8080/"
        },
        "id": "MybHkbZidop-",
        "outputId": "14539096-85cc-4c3e-dc07-43e87528c089"
      },
      "outputs": [
        {
          "output_type": "stream",
          "name": "stdout",
          "text": [
            "make: Entering directory '/content/sparse_gaussian_elimination'\n",
            "make: 'a.so' is up to date.\n",
            "make: Leaving directory '/content/sparse_gaussian_elimination'\n"
          ]
        }
      ],
      "source": [
        "!make -C sparse_gaussian_elimination a.so"
      ]
    },
    {
      "cell_type": "code",
      "execution_count": 2,
      "metadata": {
        "colab": {
          "base_uri": "https://localhost:8080/"
        },
        "id": "01LTXK91cPQ5",
        "outputId": "06c555d4-b9d6-4900-8e59-881300b0e6ed",
        "cellView": "form"
      },
      "outputs": [
        {
          "output_type": "stream",
          "name": "stdout",
          "text": [
            "Files already downloaded and verified\n"
          ]
        }
      ],
      "source": [
        "#@title Preamble\n",
        "import os\n",
        "import threading\n",
        "import torch.multiprocessing as multiprocessing\n",
        "import functools\n",
        "import random\n",
        "from math import log, sqrt, exp\n",
        "\n",
        "import matplotlib.pyplot as plt\n",
        "import scipy.stats as stats\n",
        "\n",
        "import numpy as np\n",
        "import scipy as sp\n",
        "from tqdm import tqdm\n",
        "from scipy import sparse\n",
        "from scipy.special import logsumexp, softmax, log_softmax\n",
        "from sklearn.preprocessing import MinMaxScaler\n",
        "from sklearn.neighbors import KernelDensity\n",
        "from sklearn.model_selection import GridSearchCV\n",
        "\n",
        "import torch\n",
        "from torchvision.datasets import CIFAR10\n",
        "import torchvision.transforms as transforms\n",
        "from torch.optim import Adam, AdamW, SGD\n",
        "\n",
        "from kfp import construct_A, construct_B, diffusion_coeff, marginal_prob_std, construct_R, construct_P, construct_P_block, construct_R_block, gauss_seidel, solve_pde, jacobi\n",
        "from network import ScoreNet\n",
        "\n",
        "import PIL\n",
        "\n",
        "np.random.seed(2)\n",
        "torch.manual_seed(2)\n",
        "\n",
        "#torch.set_default_device('cuda')\n",
        "\n",
        "# create a.so if doesnt exists\n",
        "# if not os.path.isfile(\"../sparse_gaussian_elimination/a.so\"):\n",
        "#     os.system(\"make -C ../sparse_gaussian_elimination a.so\")\n",
        "cifar = CIFAR10('.', download=True)"
      ]
    },
    {
      "cell_type": "code",
      "execution_count": 3,
      "metadata": {
        "id": "eFK-vpS8cPQ8",
        "cellView": "form"
      },
      "outputs": [],
      "source": [
        "#@title Construct the grid and Initial values\n",
        "batch_size = 1 #@param\n",
        "N = 20\n",
        "H = 28\n",
        "W = 28\n",
        "epoch = 5000 #@param\n",
        "eps = 1e-6 #@param\n",
        "lr = 1e-3 #@param\n",
        "\n",
        "channels = 3\n",
        "dt = 1/N\n",
        "sigma = 25 #@param\n",
        "marginal_prob_std_fn = functools.partial(marginal_prob_std, sigma=sigma)\n",
        "diffusion_coeff_fn = functools.partial(diffusion_coeff, sigma=sigma)"
      ]
    },
    {
      "cell_type": "code",
      "source": [
        "#@title Download mnist dataset\n",
        "#data_loader = DataLoader(list(filter(lambda i: i[1] == 5, mnist))[:1], shuffle=True, generator=torch.Generator(device='cuda'))\n",
        "cifar_data = cifar.data[np.array(cifar.targets) == batch_size] # grab the fives\n",
        "\n",
        "# sample 5 images for training\n",
        "cifar_data = cifar_data[np.random.choice(list(range(len(cifar_data))), 1, replace=False)]"
      ],
      "metadata": {
        "cellView": "form",
        "id": "YZP97C6o2mqC"
      },
      "execution_count": 4,
      "outputs": []
    },
    {
      "cell_type": "code",
      "execution_count": 5,
      "metadata": {
        "colab": {
          "base_uri": "https://localhost:8080/",
          "height": 879
        },
        "id": "1obYiwBkcPQ8",
        "outputId": "3d03c697-e531-4504-a840-c3e406564e86",
        "cellView": "form"
      },
      "outputs": [
        {
          "output_type": "stream",
          "name": "stdout",
          "text": [
            "252 8\n"
          ]
        },
        {
          "output_type": "display_data",
          "data": {
            "text/plain": [
              "<Figure size 640x480 with 1 Axes>"
            ],
            "image/png": "[encoded data removed]"
          },
          "metadata": {}
        },
        {
          "output_type": "stream",
          "name": "stdout",
          "text": [
            "1.0 0.0\n"
          ]
        },
        {
          "output_type": "display_data",
          "data": {
            "text/plain": [
              "<Figure size 640x480 with 1 Axes>"
            ],
            "image/png": "[encoded data removed]"
          },
          "metadata": {}
        }
      ],
      "source": [
        "#@title Cropping the image\n",
        "cropped_image_g = np.array(PIL.Image.fromarray(np.array(cifar_data[0])).convert(\"L\").crop((0, 0, 28, 28)))\n",
        "cifar_data_list_grey = [torch.Tensor(cropped_image_g)]\n",
        "\n",
        "cifar_data_list = []\n",
        "cifar_data_list_tensor = []\n",
        "for i in range(batch_size):\n",
        "  cropped_image_rgb = np.array(PIL.Image.fromarray(np.array(cifar_data[i])).convert(\"RGB\").crop((0, 0, 28, 28)))\n",
        "  cifar_data_list.append((cropped_image_rgb - cropped_image_rgb.min())/(cropped_image_rgb.max() - cropped_image_rgb.min())) # normalized to [0, 1]\n",
        "  # cifar_data_list = [cropped_image_rgb]\n",
        "  cifar_data_list_tensor.append(torch.Tensor(cifar_data_list[0].transpose((2, 0, 1))))\n",
        "\n",
        "  print(cifar_data[i].max(), cifar_data[i].min())\n",
        "  plt.imshow(cifar_data[i])\n",
        "  plt.show()\n",
        "\n",
        "  print(cifar_data_list[i].max(), cifar_data_list[i].min())\n",
        "  plt.imshow((cifar_data_list[i] - cifar_data_list[i].min())/(cifar_data_list[i].max() - cifar_data_list[i].min()))\n",
        "  plt.show()"
      ]
    },
    {
      "cell_type": "code",
      "execution_count": 10,
      "metadata": {
        "id": "e0h_bBjUcPQ9"
      },
      "outputs": [],
      "source": [
        "#@title Defining pde diffusion per thread\n",
        "def diffuse(x, m, dm, channel, time_, g, scores):\n",
        "\n",
        "  y_train = []\n",
        "  for j in range(H):\n",
        "    y_train.append(x[channel][j, :])\n",
        "  y_train = np.concatenate(y_train)\n",
        "  x_train = []\n",
        "  for l in range(W):\n",
        "    x_train.append(x[channel][:, l])\n",
        "  x_train = np.concatenate(x_train)\n",
        "\n",
        "  xy_train = np.vstack([x_train, y_train])\n",
        "  kde_kernel = stats.gaussian_kde(xy_train)\n",
        "  xy_sample = kde_kernel.resample(seed=0)\n",
        "  m[0, channel] = kde_kernel.logpdf(xy_train)\n",
        "  dx = 1/H\n",
        "  dy = 1/W\n",
        "\n",
        "  A_block = []\n",
        "  for i in range(1, N):\n",
        "    f = np.zeros((H*W))\n",
        "    df = np.zeros((H*W))\n",
        "    A = construct_A(dx, dy, dt, f, df, g(time_[i]), scores[i-1, channel].reshape((H*W)), H, W)#\n",
        "    if i == 1:\n",
        "      A_block = sp.linalg.block_diag(A)\n",
        "    else:\n",
        "      A_block = sp.linalg.block_diag(A_block, A)\n",
        "      A_block[(i-1)*(H*W):i*(H*W), (i-2)*(H*W):(i-1)*(H*W)] = -np.eye((H*W))\n",
        "\n",
        "  B_block = []\n",
        "  for i in range(1, N):\n",
        "    B = construct_B(m[i-1, channel], i)\n",
        "    B_block.append(B)\n",
        "  B_block = np.concatenate(B_block)\n",
        "  m[1:, channel] = solve_pde(A_block, B_block, mode='sparse').reshape((-1, H*W))\n",
        "\n",
        "  img_log_prob = m[:, channel].reshape((-1, H, W))\n",
        "  dm[:, channel, 1:-1] = (img_log_prob[:, :-2] - img_log_prob[:, 2:])/(2*dx)\n",
        "  dm[:, channel, 0] = (img_log_prob[:, 0] - img_log_prob[:, 1])/(dx)\n",
        "  dm[:, channel, -1] = (img_log_prob[:, -2] - img_log_prob[:, -1])/(dx)\n",
        "  dm[:, channel, :, 1:-1] = (img_log_prob[:, :, :-2] - img_log_prob[:, :, 2:])/(2*dy)\n",
        "  dm[:, channel, :, 0] = (img_log_prob[:, :, 0] - img_log_prob[:, :, 1])/(dy)\n",
        "  dm[:, channel, :, -1] = (img_log_prob[:, :, -2] - img_log_prob[:, :, -1])/(dy)"
      ]
    },
    {
      "cell_type": "code",
      "source": [
        "#@title Precompute score labels by solving the PDE\n",
        "threads = [None] * channels\n",
        "\n",
        "m = np.zeros((N, channels, H*W), dtype=np.float32)\n",
        "m_prev = np.ones((N, channels, H*W), dtype=np.float32)\n",
        "scores = np.zeros((N, channels, H, W), dtype=np.float32) # initial scores guess\n",
        "dm = np.zeros_like(scores, dtype=np.float32)\n",
        "tol = 1e-6 #@param\n",
        "max_iter = 1000 #@param\n",
        "res = 1\n",
        "e = 0\n",
        "while res > tol:\n",
        "  for idx, data in tqdm(enumerate(cifar_data_list_tensor)):\n",
        "    # we want to sample from random time steps to construct training samples\n",
        "    time_ = np.linspace(eps, 1, N).astype(np.float32)\n",
        "\n",
        "    # diffuse all three channels concurrently\n",
        "    for ch in range(channels):\n",
        "      diffuse(data, m, dm, ch, time_, diffusion_coeff_fn, scores)\n",
        "      # threads[ch] = threading.Thread(target=diffuse, args=[data, m, dm, ch, time_, diffusion_coeff_fn, scores])\n",
        "      # threads[ch].start()\n",
        "\n",
        "    # for thread in threads:\n",
        "    #   thread.join()\n",
        "\n",
        "    scores = dm.copy()\n",
        "\n",
        "    if e == max_iter:\n",
        "      print(f'No convergence')\n",
        "      break\n",
        "\n",
        "    res = np.linalg.norm(m - m_prev)#/np.linalg.norm(m_prev)\n",
        "    print(f'residual at iteration {e}: {res}')\n",
        "\n",
        "    m_prev = m.copy()\n",
        "    e += 1\n",
        "\n",
        "scores_label = scores.copy()"
      ],
      "metadata": {
        "colab": {
          "base_uri": "https://localhost:8080/"
        },
        "id": "f7nCC3Bui5tR",
        "outputId": "0d5270de-b39a-4897-e0f3-d81ce657db17"
      },
      "execution_count": null,
      "outputs": [
        {
          "output_type": "stream",
          "name": "stderr",
          "text": [
            "1it [00:26, 26.68s/it]\n"
          ]
        },
        {
          "output_type": "stream",
          "name": "stdout",
          "text": [
            "residual at iteration 0: 161.3462677001953\n"
          ]
        },
        {
          "output_type": "stream",
          "name": "stderr",
          "text": [
            "\r0it [00:00, ?it/s]"
          ]
        }
      ]
    },
    {
      "cell_type": "code",
      "source": [
        "#@title Show the score labels\n",
        "print(scores_label[0].max(), scores_label[0].min())\n",
        "plt.imshow(((scores_label[0] - scores_label[0].min())/(scores_label[0].max() - scores_label[0].min())).transpose(1, 2, 0))\n",
        "plt.show()\n",
        "print(scores_label[-1].max(), scores_label[-1].min())\n",
        "plt.imshow(((scores_label[-1] - scores_label[-1].min())/(scores_label[-1].max() - scores_label[-1].min())).transpose(1, 2, 0))\n",
        "plt.show()"
      ],
      "metadata": {
        "cellView": "form",
        "id": "jKChj3hSxR5_"
      },
      "execution_count": null,
      "outputs": []
    },
    {
      "cell_type": "code",
      "source": [
        "#@title Denoising network training\n",
        "def loss_fn(model, x, label, diffusion_coeff, marginal_prob_std, eps=1e-5):\n",
        "  \"\"\"The loss function for training score-based generative models.\n",
        "\n",
        "  Args:\n",
        "    model: A PyTorch model instance that represents a\n",
        "      time-dependent score-based model.\n",
        "    x: A mini-batch of training data.\n",
        "    marginal_prob_std: A function that gives the standard deviation of\n",
        "      the perturbation kernel.\n",
        "    eps: A tolerance value for numerical stability.\n",
        "  \"\"\"\n",
        "  random_t = torch.tensor(np.sort(np.random.uniform(eps, 1., N)).astype(np.float32))\n",
        "  # we encode the label into the initial data using the reverse ODE\n",
        "  diff_std2 = diffusion_coeff(2 * random_t)\n",
        "  for i in range(1, N):\n",
        "    x[i] = x[i-1] - 0.5 * label[i-1] * diff_std2[i-1] * dt\n",
        "  std = marginal_prob_std(random_t)\n",
        "  z = torch.randn_like(x)\n",
        "  # we perturb the image by the forward SDE conditional distribution\n",
        "  perturbed_x = x + z * std[:, None, None, None]\n",
        "  score = model(perturbed_x, random_t)\n",
        "  # loss = torch.mean((diff_std2) * torch.sum((score * std[:, None, None, None] - label)**2, dim=(1, 2, 3)) / (2 * diff_std2))\n",
        "  loss = torch.mean(torch.sum((score * std[:, None, None, None] + z)**2, dim=(1, 2, 3))) # original loss from tutorial\n",
        "  return loss"
      ],
      "metadata": {
        "id": "hXDIdajHVlFH",
        "cellView": "form"
      },
      "execution_count": 9,
      "outputs": []
    },
    {
      "cell_type": "code",
      "execution_count": 10,
      "metadata": {
        "id": "4mmD36ENcPQ-",
        "cellView": "form"
      },
      "outputs": [],
      "source": [
        "#@title Function for training on a thread\n",
        "def diffuse_train(init_x, channel, epoch, diffusion_coeff, marginal_prob_std, label):\n",
        "  model_score = ScoreNet(marginal_prob_std=marginal_prob_std)\n",
        "  optimizer = Adam(model_score.parameters(), lr=lr)\n",
        "  model_score.train();\n",
        "\n",
        "  scores_label = torch.tensor(label)[:, channel][:, None]\n",
        "\n",
        "  for e in range(epoch):\n",
        "    loss = loss_fn(model_score, init_x[:, channel][:, None], scores_label, diffusion_coeff, marginal_prob_std)\n",
        "    optimizer.zero_grad()\n",
        "    loss.backward()\n",
        "    optimizer.step()\n",
        "\n",
        "  print(f'\\nloss at channel {channel}: {loss}')\n",
        "  file = f'model_cifar_thread_{channel}.pth'\n",
        "  torch.save(model_score.state_dict(), file)\n",
        "  print(f\"model for thread {channel} has been saved\\n\")"
      ]
    },
    {
      "cell_type": "code",
      "source": [
        "#@title Train each channel on a thread\n",
        "if os.path.exists(f'model_cifar_thread_0.pth'):\n",
        "  print(f'removing saved weights for thread 0\\n')\n",
        "  os.remove(f'model_cifar_thread_0.pth')\n",
        "if os.path.exists(f'model_cifar_thread_1.pth'):\n",
        "  print(f'removing saved weights for thread 1\\n')\n",
        "  os.remove(f'model_cifar_thread_1.pth')\n",
        "if os.path.exists(f'model_cifar_thread_2.pth'):\n",
        "  print(f'removing saved weights for thread 2\\n')\n",
        "  os.remove(f'model_cifar_thread_2.pth')\n",
        "\n",
        "processes = [None] * channels\n",
        "init_x = torch.zeros((N, channels, H, W))\n",
        "\n",
        "for idx, data in tqdm(enumerate(cifar_data_list_tensor)):\n",
        "  for ch in range(channels):\n",
        "    init_x[:, ch] = data[ch]\n",
        "\n",
        "  # train all three channels concurrently\n",
        "  for ch in range(channels):\n",
        "    processes[ch] = multiprocessing.Process(target=diffuse_train, args=[init_x, ch, epoch, diffusion_coeff_fn, marginal_prob_std_fn, scores_label])\n",
        "    processes[ch].start()\n",
        "\n",
        "  for process in processes:\n",
        "    process.join()"
      ],
      "metadata": {
        "colab": {
          "base_uri": "https://localhost:8080/",
          "height": 1000
        },
        "cellView": "form",
        "id": "rpBI-Ocq4sSX",
        "outputId": "8cb36e70-d355-4b57-8409-93aa769b51ba"
      },
      "execution_count": 11,
      "outputs": [
        {
          "output_type": "stream",
          "name": "stderr",
          "text": [
            "0it [02:21, ?it/s]Process Process-3:\n",
            "Traceback (most recent call last):\n",
            "  File \"/usr/lib/python3.10/multiprocessing/process.py\", line 314, in _bootstrap\n",
            "    self.run()\n",
            "  File \"/usr/lib/python3.10/multiprocessing/process.py\", line 108, in run\n",
            "    self._target(*self._args, **self._kwargs)\n",
            "  File \"<ipython-input-10-01ffb1f64502>\", line 12, in diffuse_train\n",
            "    loss.backward()\n",
            "  File \"/usr/local/lib/python3.10/dist-packages/torch/_tensor.py\", line 492, in backward\n",
            "    torch.autograd.backward(\n",
            "  File \"/usr/local/lib/python3.10/dist-packages/torch/autograd/__init__.py\", line 251, in backward\n",
            "    Variable._execution_engine.run_backward(  # Calls into the C++ engine to run the backward pass\n",
            "Process Process-2:\n",
            "KeyboardInterrupt\n",
            "Traceback (most recent call last):\n",
            "  File \"/usr/lib/python3.10/multiprocessing/process.py\", line 314, in _bootstrap\n",
            "    self.run()\n",
            "  File \"/usr/lib/python3.10/multiprocessing/process.py\", line 108, in run\n",
            "    self._target(*self._args, **self._kwargs)\n",
            "  File \"<ipython-input-10-01ffb1f64502>\", line 12, in diffuse_train\n",
            "    loss.backward()\n",
            "  File \"/usr/local/lib/python3.10/dist-packages/torch/_tensor.py\", line 492, in backward\n",
            "    torch.autograd.backward(\n",
            "Process Process-1:\n",
            "\n",
            "  File \"/usr/local/lib/python3.10/dist-packages/torch/autograd/__init__.py\", line 251, in backward\n",
            "    Variable._execution_engine.run_backward(  # Calls into the C++ engine to run the backward pass\n",
            "KeyboardInterrupt\n",
            "Traceback (most recent call last):\n",
            "  File \"/usr/lib/python3.10/multiprocessing/process.py\", line 314, in _bootstrap\n",
            "    self.run()\n",
            "  File \"/usr/lib/python3.10/multiprocessing/process.py\", line 108, in run\n",
            "    self._target(*self._args, **self._kwargs)\n",
            "  File \"<ipython-input-10-01ffb1f64502>\", line 12, in diffuse_train\n",
            "    loss.backward()\n",
            "  File \"/usr/local/lib/python3.10/dist-packages/torch/_tensor.py\", line 492, in backward\n",
            "    torch.autograd.backward(\n",
            "  File \"/usr/local/lib/python3.10/dist-packages/torch/autograd/__init__.py\", line 251, in backward\n",
            "    Variable._execution_engine.run_backward(  # Calls into the C++ engine to run the backward pass\n",
            "KeyboardInterrupt\n"
          ]
        },
        {
          "output_type": "error",
          "ename": "KeyboardInterrupt",
          "evalue": "",
          "traceback": [
            "\u001b[0;31m---------------------------------------------------------------------------\u001b[0m",
            "\u001b[0;31mKeyboardInterrupt\u001b[0m                         Traceback (most recent call last)",
            "\u001b[0;32m<ipython-input-11-651ae6e2782a>\u001b[0m in \u001b[0;36m<cell line: 15>\u001b[0;34m()\u001b[0m\n\u001b[1;32m     23\u001b[0m \u001b[0;34m\u001b[0m\u001b[0m\n\u001b[1;32m     24\u001b[0m   \u001b[0;32mfor\u001b[0m \u001b[0mprocess\u001b[0m \u001b[0;32min\u001b[0m \u001b[0mprocesses\u001b[0m\u001b[0;34m:\u001b[0m\u001b[0;34m\u001b[0m\u001b[0;34m\u001b[0m\u001b[0m\n\u001b[0;32m---> 25\u001b[0;31m     \u001b[0mprocess\u001b[0m\u001b[0;34m.\u001b[0m\u001b[0mjoin\u001b[0m\u001b[0;34m(\u001b[0m\u001b[0;34m)\u001b[0m\u001b[0;34m\u001b[0m\u001b[0;34m\u001b[0m\u001b[0m\n\u001b[0m",
            "\u001b[0;32m/usr/lib/python3.10/multiprocessing/process.py\u001b[0m in \u001b[0;36mjoin\u001b[0;34m(self, timeout)\u001b[0m\n\u001b[1;32m    147\u001b[0m         \u001b[0;32massert\u001b[0m \u001b[0mself\u001b[0m\u001b[0;34m.\u001b[0m\u001b[0m_parent_pid\u001b[0m \u001b[0;34m==\u001b[0m \u001b[0mos\u001b[0m\u001b[0;34m.\u001b[0m\u001b[0mgetpid\u001b[0m\u001b[0;34m(\u001b[0m\u001b[0;34m)\u001b[0m\u001b[0;34m,\u001b[0m \u001b[0;34m'can only join a child process'\u001b[0m\u001b[0;34m\u001b[0m\u001b[0;34m\u001b[0m\u001b[0m\n\u001b[1;32m    148\u001b[0m         \u001b[0;32massert\u001b[0m \u001b[0mself\u001b[0m\u001b[0;34m.\u001b[0m\u001b[0m_popen\u001b[0m \u001b[0;32mis\u001b[0m \u001b[0;32mnot\u001b[0m \u001b[0;32mNone\u001b[0m\u001b[0;34m,\u001b[0m \u001b[0;34m'can only join a started process'\u001b[0m\u001b[0;34m\u001b[0m\u001b[0;34m\u001b[0m\u001b[0m\n\u001b[0;32m--> 149\u001b[0;31m         \u001b[0mres\u001b[0m \u001b[0;34m=\u001b[0m \u001b[0mself\u001b[0m\u001b[0;34m.\u001b[0m\u001b[0m_popen\u001b[0m\u001b[0;34m.\u001b[0m\u001b[0mwait\u001b[0m\u001b[0;34m(\u001b[0m\u001b[0mtimeout\u001b[0m\u001b[0;34m)\u001b[0m\u001b[0;34m\u001b[0m\u001b[0;34m\u001b[0m\u001b[0m\n\u001b[0m\u001b[1;32m    150\u001b[0m         \u001b[0;32mif\u001b[0m \u001b[0mres\u001b[0m \u001b[0;32mis\u001b[0m \u001b[0;32mnot\u001b[0m \u001b[0;32mNone\u001b[0m\u001b[0;34m:\u001b[0m\u001b[0;34m\u001b[0m\u001b[0;34m\u001b[0m\u001b[0m\n\u001b[1;32m    151\u001b[0m             \u001b[0m_children\u001b[0m\u001b[0;34m.\u001b[0m\u001b[0mdiscard\u001b[0m\u001b[0;34m(\u001b[0m\u001b[0mself\u001b[0m\u001b[0;34m)\u001b[0m\u001b[0;34m\u001b[0m\u001b[0;34m\u001b[0m\u001b[0m\n",
            "\u001b[0;32m/usr/lib/python3.10/multiprocessing/popen_fork.py\u001b[0m in \u001b[0;36mwait\u001b[0;34m(self, timeout)\u001b[0m\n\u001b[1;32m     41\u001b[0m                     \u001b[0;32mreturn\u001b[0m \u001b[0;32mNone\u001b[0m\u001b[0;34m\u001b[0m\u001b[0;34m\u001b[0m\u001b[0m\n\u001b[1;32m     42\u001b[0m             \u001b[0;31m# This shouldn't block if wait() returned successfully.\u001b[0m\u001b[0;34m\u001b[0m\u001b[0;34m\u001b[0m\u001b[0m\n\u001b[0;32m---> 43\u001b[0;31m             \u001b[0;32mreturn\u001b[0m \u001b[0mself\u001b[0m\u001b[0;34m.\u001b[0m\u001b[0mpoll\u001b[0m\u001b[0;34m(\u001b[0m\u001b[0mos\u001b[0m\u001b[0;34m.\u001b[0m\u001b[0mWNOHANG\u001b[0m \u001b[0;32mif\u001b[0m \u001b[0mtimeout\u001b[0m \u001b[0;34m==\u001b[0m \u001b[0;36m0.0\u001b[0m \u001b[0;32melse\u001b[0m \u001b[0;36m0\u001b[0m\u001b[0;34m)\u001b[0m\u001b[0;34m\u001b[0m\u001b[0;34m\u001b[0m\u001b[0m\n\u001b[0m\u001b[1;32m     44\u001b[0m         \u001b[0;32mreturn\u001b[0m \u001b[0mself\u001b[0m\u001b[0;34m.\u001b[0m\u001b[0mreturncode\u001b[0m\u001b[0;34m\u001b[0m\u001b[0;34m\u001b[0m\u001b[0m\n\u001b[1;32m     45\u001b[0m \u001b[0;34m\u001b[0m\u001b[0m\n",
            "\u001b[0;32m/usr/lib/python3.10/multiprocessing/popen_fork.py\u001b[0m in \u001b[0;36mpoll\u001b[0;34m(self, flag)\u001b[0m\n\u001b[1;32m     25\u001b[0m         \u001b[0;32mif\u001b[0m \u001b[0mself\u001b[0m\u001b[0;34m.\u001b[0m\u001b[0mreturncode\u001b[0m \u001b[0;32mis\u001b[0m \u001b[0;32mNone\u001b[0m\u001b[0;34m:\u001b[0m\u001b[0;34m\u001b[0m\u001b[0;34m\u001b[0m\u001b[0m\n\u001b[1;32m     26\u001b[0m             \u001b[0;32mtry\u001b[0m\u001b[0;34m:\u001b[0m\u001b[0;34m\u001b[0m\u001b[0;34m\u001b[0m\u001b[0m\n\u001b[0;32m---> 27\u001b[0;31m                 \u001b[0mpid\u001b[0m\u001b[0;34m,\u001b[0m \u001b[0msts\u001b[0m \u001b[0;34m=\u001b[0m \u001b[0mos\u001b[0m\u001b[0;34m.\u001b[0m\u001b[0mwaitpid\u001b[0m\u001b[0;34m(\u001b[0m\u001b[0mself\u001b[0m\u001b[0;34m.\u001b[0m\u001b[0mpid\u001b[0m\u001b[0;34m,\u001b[0m \u001b[0mflag\u001b[0m\u001b[0;34m)\u001b[0m\u001b[0;34m\u001b[0m\u001b[0;34m\u001b[0m\u001b[0m\n\u001b[0m\u001b[1;32m     28\u001b[0m             \u001b[0;32mexcept\u001b[0m \u001b[0mOSError\u001b[0m\u001b[0;34m:\u001b[0m\u001b[0;34m\u001b[0m\u001b[0;34m\u001b[0m\u001b[0m\n\u001b[1;32m     29\u001b[0m                 \u001b[0;31m# Child process not yet created. See #1731717\u001b[0m\u001b[0;34m\u001b[0m\u001b[0;34m\u001b[0m\u001b[0m\n",
            "\u001b[0;31mKeyboardInterrupt\u001b[0m: "
          ]
        }
      ]
    },
    {
      "cell_type": "code",
      "source": [
        "#@title Define the ODE sampler (double click to expand or collapse)\n",
        "from scipy import integrate\n",
        "## The error tolerance for the black-box ODE solver\n",
        "error_tolerance = 1e-6 #@param\n",
        "def ode_sampler(score_model,\n",
        "                marginal_prob_std,\n",
        "                diffusion_coeff,\n",
        "                batch_size=64,\n",
        "                atol=error_tolerance,\n",
        "                rtol=error_tolerance,\n",
        "                device='cpu',\n",
        "                z=None,\n",
        "                eps=1e-3):\n",
        "  \"\"\"Generate samples from score-based models with black-box ODE solvers.\n",
        "\n",
        "  Args:\n",
        "    score_model: A PyTorch model that represents the time-dependent score-based model.\n",
        "    marginal_prob_std: A function that returns the standard deviation\n",
        "      of the perturbation kernel.\n",
        "    diffusion_coeff: A function that returns the diffusion coefficient of the SDE.\n",
        "    batch_size: The number of samplers to generate by calling this function once.\n",
        "    atol: Tolerance of absolute errors.\n",
        "    rtol: Tolerance of relative errors.\n",
        "    device: 'cuda' for running on GPUs, and 'cpu' for running on CPUs.\n",
        "    z: The latent code that governs the final sample. If None, we start from p_1;\n",
        "      otherwise, we start from the given z.\n",
        "    eps: The smallest time step for numerical stability.\n",
        "  \"\"\"\n",
        "  t = torch.ones(batch_size, device=device)\n",
        "  # Create the latent code\n",
        "  if z is None:\n",
        "    initial_x = torch.randn(batch_size, 1, H, W, device=device) \\\n",
        "      * marginal_prob_std(t)[:, None, None, None]\n",
        "  else:\n",
        "    initial_x = z + torch.randn(batch_size, 1, H, W, device=device) \\\n",
        "      * marginal_prob_std(t)[:, None, None, None]\n",
        "\n",
        "  shape = initial_x.shape\n",
        "\n",
        "  def score_eval_wrapper(sample, time_steps):\n",
        "    \"\"\"A wrapper of the score-based model for use by the ODE solver.\"\"\"\n",
        "    sample = torch.tensor(sample, device=device, dtype=torch.float32).reshape(shape)\n",
        "    time_steps = torch.tensor(time_steps, device=device, dtype=torch.float32).reshape((sample.shape[0], ))\n",
        "    with torch.no_grad():\n",
        "      score = score_model(sample, time_steps)\n",
        "    return score.cpu().numpy().reshape((-1,)).astype(np.float64)\n",
        "\n",
        "  def ode_func(t, x):\n",
        "    \"\"\"The ODE function for use by the ODE solver.\"\"\"\n",
        "    time_steps = np.ones((shape[0],)) * t\n",
        "    g = diffusion_coeff(torch.tensor(t)).cpu().numpy()\n",
        "    return  -0.5 * (g**2) * score_eval_wrapper(x, time_steps)\n",
        "\n",
        "  # Run the black-box ODE solver.\n",
        "  res = integrate.solve_ivp(ode_func, (1., eps), initial_x.reshape(-1).cpu().numpy(), rtol=rtol, atol=atol, method='RK45')\n",
        "  print(f\"\\nNumber of function evaluations: {res.nfev}\")\n",
        "  x = [res.y[:, 0].reshape(shape)]\n",
        "  T = len(res.t)\n",
        "  for i in range(N-2):\n",
        "    idx = int(i + (T/N))\n",
        "    x.append(res.y[:, idx].reshape(shape))\n",
        "  x.append(res.y[:, -1].reshape(shape))\n",
        "  x = np.concatenate(x, axis = 0)\n",
        "  return x"
      ],
      "metadata": {
        "cellView": "form",
        "id": "siZ3zW7NqqP5"
      },
      "execution_count": null,
      "outputs": []
    },
    {
      "cell_type": "code",
      "execution_count": null,
      "metadata": {
        "id": "voaFC9a0nzzT",
        "cellView": "form"
      },
      "outputs": [],
      "source": [
        "#@title Function for threading ODE sampler\n",
        "import torch\n",
        "from scipy import integrate\n",
        "import matplotlib.pyplot as plt\n",
        "import matplotlib.animation as animation\n",
        "import numpy as np\n",
        "\n",
        "# function for sampling on a thread\n",
        "def diffuse_sample(data_x, channel, samples, diffusion_coeff, marginal_prob_std):\n",
        "\n",
        "  model_score = ScoreNet(marginal_prob_std=marginal_prob_std)\n",
        "  file = f'model_cifar_thread_{channel}.pth'\n",
        "  ckpt = torch.load(file)\n",
        "  model_score.load_state_dict(ckpt)\n",
        "  model_score.eval();\n",
        "\n",
        "  sample_batch_size = batch_size\n",
        "  sampler = ode_sampler\n",
        "\n",
        "  # Generate samples using the specified sampler.\n",
        "  output = sampler(model_score,\n",
        "                  marginal_prob_std,\n",
        "                  diffusion_coeff,\n",
        "                  sample_batch_size)\n",
        "\n",
        "  samples.append(output)"
      ]
    },
    {
      "cell_type": "code",
      "source": [
        "#@title Sample each channel on a thread\n",
        "threads = [None] * channels\n",
        "samples = []\n",
        "\n",
        "for idx, data in tqdm(enumerate(cifar_data_list_tensor)):\n",
        "  # diffuse all three channels concurrently\n",
        "  for ch in range(channels):\n",
        "    threads[ch] = threading.Thread(target=diffuse_sample, args=[data, ch, samples, diffusion_coeff_fn, marginal_prob_std_fn])\n",
        "    threads[ch].start()\n",
        "\n",
        "  for thread in threads:\n",
        "    thread.join()\n",
        "\n",
        "  samples = np.concatenate(samples, axis = 1)\n",
        "  for i in range(samples.shape[0]):\n",
        "    print(f'{samples[i].mean(), samples[i].std()}')\n",
        "    plt.imshow(((samples[i] - samples[i].min())/(samples[i].max() - samples[i].min())).transpose(1, 2, 0))\n",
        "    plt.show()"
      ],
      "metadata": {
        "id": "R5T9uhuh7vqH",
        "cellView": "form"
      },
      "execution_count": null,
      "outputs": []
    }
  ],
  "metadata": {
    "colab": {
      "provenance": [],
      "include_colab_link": true
    },
    "kernelspec": {
      "display_name": "Python 3",
      "name": "python3"
    },
    "language_info": {
      "codemirror_mode": {
        "name": "ipython",
        "version": 3
      },
      "file_extension": ".py",
      "mimetype": "text/x-python",
      "name": "python",
      "nbconvert_exporter": "python",
      "pygments_lexer": "ipython3",
      "version": "3.11.4"
    }
  },
  "nbformat": 4,
  "nbformat_minor": 0
}