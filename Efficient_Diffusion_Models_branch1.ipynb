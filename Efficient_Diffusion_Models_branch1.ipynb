{
  "cells": [
    {
      "cell_type": "markdown",
      "metadata": {
        "colab_type": "text",
        "id": "view-in-github"
      },
      "source": [
        "<a href=\"https://colab.research.google.com/github/andrew-na-git/Stable-Diffusion/blob/William_branch/Efficient_Diffusion_Models.ipynb\" target=\"_parent\"><img src=\"https://colab.research.google.com/assets/colab-badge.svg\" alt=\"Open In Colab\"/></a>"
      ]
    },
    {
      "cell_type": "markdown",
      "metadata": {
        "id": "So7QOL_4HuCP"
      },
      "source": [
        "# Diffusion models Testing\n",
        "\n",
        "In this document we test and build diffusion models and its variations"
      ]
    },
    {
      "cell_type": "markdown",
      "metadata": {
        "id": "qd-FQFjbkCy2"
      },
      "source": [
        "# Solving the KFP equation\n",
        "\n",
        "We present classical methods to solve the KFP forward equation"
      ]
    },
    {
      "cell_type": "code",
      "execution_count": 1,
      "metadata": {
        "id": "1FxS8Q5zHd-z"
      },
      "outputs": [],
      "source": [
        "## We start with standard diffusion model denoising diffusion probability model\n",
        "## we first start by loading the required packages\n",
        "import torch\n",
        "import functools\n",
        "from torch.optim import Adam, SGD\n",
        "from torch.utils.data import DataLoader\n",
        "import torchvision.transforms as transforms\n",
        "from torchvision.datasets import MNIST\n",
        "import torch.nn as nn\n",
        "import tqdm\n",
        "import matplotlib.pyplot as plt\n",
        "\n",
        "import scipy as sp\n",
        "from scipy.sparse import coo_array\n",
        "from scipy import integrate\n",
        "\n",
        "import numpy as np\n",
        "from sklearn.ensemble import GradientBoostingRegressor\n",
        "from sklearn.linear_model import LinearRegression\n",
        "from sklearn.neighbors import KernelDensity\n",
        "from sklearn.preprocessing import MinMaxScaler\n",
        "from sklearn.metrics import mean_squared_error\n",
        "from sklearn.model_selection import train_test_split"
      ]
    },
    {
      "cell_type": "code",
      "execution_count": 2,
      "metadata": {
        "colab": {
          "base_uri": "https://localhost:8080/"
        },
        "id": "JgysHg20JZ5H",
        "outputId": "25ee3aa4-d21a-4f71-b251-66f9de11c6f6"
      },
      "outputs": [
        {
          "data": {
            "text/plain": [
              "(28, 28, 60000)"
            ]
          },
          "execution_count": 2,
          "metadata": {},
          "output_type": "execute_result"
        }
      ],
      "source": [
        "# download mnist dataset\n",
        "mnist = MNIST('.', train=True, transform=transforms.ToTensor(), download=True)\n",
        "\n",
        "mnist_data = np.moveaxis(mnist.data.numpy(), 0, -1)\n",
        "mnist_data.shape"
      ]
    },
    {
      "cell_type": "code",
      "execution_count": 3,
      "metadata": {
        "colab": {
          "base_uri": "https://localhost:8080/",
          "height": 448
        },
        "id": "wHBxXAabLgsS",
        "outputId": "0eea2e85-baca-447c-8093-bffb41d065c5"
      },
      "outputs": [
        {
          "data": {
            "text/plain": [
              "<matplotlib.image.AxesImage at 0x7fe8c0a0f940>"
            ]
          },
          "execution_count": 3,
          "metadata": {},
          "output_type": "execute_result"
        },
        {
          "data": {
            "image/png": "[encoded data removed]",
            "text/plain": [
              "<Figure size 640x480 with 1 Axes>"
            ]
          },
          "metadata": {},
          "output_type": "display_data"
        }
      ],
      "source": [
        "# look at one of the images\n",
        "\n",
        "plt.imshow(mnist_data[:, :, 100], cmap=\"gray\")"
      ]
    },
    {
      "cell_type": "code",
      "execution_count": 4,
      "metadata": {
        "id": "h2lr4BZ95NBI"
      },
      "outputs": [],
      "source": [
        "## we construct coefficient matrix and constant matrix\n",
        "def construct_A(dx,dy,dt,f,g,s,H,W):\n",
        "  A = np.zeros_like(g)\n",
        "  for i in range(H):\n",
        "    for j in range(W):\n",
        "      if i == 0 and j == 0:\n",
        "        a = 1/dt + f[i][j]/dx + f[i][j]/dy - 0.5*((g[i][j]**2)*s[i][j])/dx - 0.5*((g[i][j]**2)*s[i][j])/dy\n",
        "        A[i][j] = a\n",
        "      elif i == j and i > 0 and j > 0:\n",
        "        a = 1/dt + f[i][j]/dx + f[i][j]/dy - 0.5*((g[i][j]**2)*s[i][j])/dx - 0.5*((g[i][j]**2)*s[i][j])/dy\n",
        "        b = -f[i][j-1]/dy + 0.5*((g[i][j-1]**2)*s[i][j-1])/dy\n",
        "        c = -f[i-1][j]/dx + 0.5*((g[i-1][j]**2)*s[i-1][j])/dx\n",
        "        A[i][j] = a\n",
        "        A[i][j-1] = b\n",
        "        A[i-1][j] = c\n",
        "\n",
        "  return A\n",
        "\n",
        "def construct_B(dx,dy,dt,f,g,m_prev,del_sx,del_sy,H,W):\n",
        "  B = m_prev/dt\n",
        "  for i in range(H):\n",
        "    for j in range(W):\n",
        "      if i > 0 and j > 0 and i == j:\n",
        "        B[i][j] -= f[i][j]/dx - f[i-1][j]/dx + f[i][j]/dy - f[i][j-1]/dy - 0.5*g[i][j]**2*del_sx[i][j] - 0.5*g[i][j]**2*del_sy[i][j]\n",
        "\n",
        "  return B\n",
        "\n",
        "def solve_pde(A,b):\n",
        "  return sp.linalg.solve(A, b)"
      ]
    },
    {
      "cell_type": "code",
      "execution_count": 5,
      "metadata": {
        "id": "XzIWwurbaRvi"
      },
      "outputs": [],
      "source": [
        "## construct the grid and Initial values\n",
        "# N = mnist_data.data.shape[2] // 32\n",
        "N = 100\n",
        "H = mnist_data.data.shape[0]\n",
        "W = mnist_data.data.shape[1]\n",
        "\n",
        "x = mnist_data.astype(np.float64)[:, :, :N]\n",
        "\n",
        "# x = np.zeros((H,W,N))\n",
        "# for n in range(N):\n",
        "#   x[:,:,n] = np.random.randint(0,255,(H,W))\n",
        "\n",
        "t = np.linspace(0,1,N)\n",
        "\n",
        "dx = 1/H\n",
        "dy = 1/W\n",
        "dt = 1/N\n",
        "\n",
        "sigma = 0.5\n",
        "\n",
        "f = np.zeros((H,W,N))\n",
        "g = np.zeros_like(f)\n",
        "m = np.zeros_like(f)\n",
        "s = np.zeros_like(g)\n",
        "del_sx = np.zeros_like(g)\n",
        "del_sy = np.zeros_like(g)\n",
        "\n",
        "scaler = MinMaxScaler()\n",
        "\n",
        "for n in range(N):\n",
        "  f[:, :, n] = 250\n",
        "  g[:,:,n] = sigma**(n*dt)\n",
        "  x[:,:,n] = scaler.fit_transform(x[:,:,n])\n",
        "\n",
        "## we fit the image onto a gaussian kernel\n",
        "kde = KernelDensity(bandwidth=1.0, kernel='gaussian')\n",
        "kde.fit(x[:,:,0].ravel()[:, None])\n",
        "\n",
        "## obtain initial log probability\n",
        "m[:,:,0] = kde.score_samples(x[:,:,0].ravel()[:, None]).reshape((H,W))\n",
        "del_m = np.diff(m[:,:,0].ravel())\n",
        "del_m = np.insert(del_m,0,0)"
      ]
    },
    {
      "cell_type": "code",
      "execution_count": 6,
      "metadata": {
        "colab": {
          "base_uri": "https://localhost:8080/",
          "height": 843
        },
        "id": "5cW1LOBLE5Uh",
        "outputId": "6ad051bc-8991-47a4-f56d-7de9e98ae958"
      },
      "outputs": [
        {
          "data": {
            "image/png": "[encoded data removed]",
            "text/plain": [
              "<Figure size 640x480 with 1 Axes>"
            ]
          },
          "metadata": {},
          "output_type": "display_data"
        },
        {
          "data": {
            "image/png": "[encoded data removed]",
            "text/plain": [
              "<Figure size 640x480 with 1 Axes>"
            ]
          },
          "metadata": {},
          "output_type": "display_data"
        }
      ],
      "source": [
        "plt.imshow(m[:,:,0]) # this shows the initial log probability\n",
        "plt.show()\n",
        "\n",
        "plt.imshow(del_m.reshape(28, 28)) # so we can see that the score should look something like this after training\n",
        "plt.show()"
      ]
    },
    {
      "cell_type": "code",
      "execution_count": 7,
      "metadata": {},
      "outputs": [],
      "source": [
        "# create the convolutional network\n",
        "\n",
        "class GaussianFourierProjection(nn.Module):\n",
        "  \"\"\"Gaussian random features for encoding time steps.\"\"\"\n",
        "  def __init__(self, embed_dim, scale=30.):\n",
        "    super().__init__()\n",
        "    # Randomly sample weights during initialization. These weights are fixed\n",
        "    # during optimization and are not trainable.\n",
        "    self.W = nn.Parameter(torch.randn(embed_dim // 2) * scale, requires_grad=False)\n",
        "  def forward(self, x):\n",
        "    x_proj = x * self.W[None, :] * 2 * np.pi\n",
        "    return torch.cat([torch.sin(x_proj), torch.cos(x_proj)], dim=-1)\n",
        "\n",
        "class Net(nn.Module):\n",
        "  def __init__(self, embed_dim=256):\n",
        "    super().__init__()\n",
        "    \n",
        "    channels=[32, 64, 128, 256]\n",
        "    \n",
        "    self.embed = nn.Sequential(GaussianFourierProjection(embed_dim=embed_dim),\n",
        "         nn.Linear(embed_dim, embed_dim))\n",
        "    \n",
        "    # Encoding layers where the resolution decreases\n",
        "    self.conv1 = nn.Conv2d(1, channels[0], 3, stride=1, bias=False)\n",
        "    self.dense1 = nn.Linear(embed_dim, channels[0])\n",
        "    self.gnorm1 = nn.GroupNorm(4, num_channels=channels[0])\n",
        "    self.conv2 = nn.Conv2d(channels[0], channels[1], 3, stride=2, bias=False)\n",
        "    self.dense2 = nn.Linear(embed_dim, channels[1])\n",
        "    self.gnorm2 = nn.GroupNorm(32, num_channels=channels[1])\n",
        "    self.conv3 = nn.Conv2d(channels[1], channels[2], 3, stride=2, bias=False)\n",
        "    self.dense3 = nn.Linear(embed_dim, channels[2])\n",
        "    self.gnorm3 = nn.GroupNorm(32, num_channels=channels[2])\n",
        "    self.conv4 = nn.Conv2d(channels[2], channels[3], 3, stride=2, bias=False)\n",
        "    self.dense4 = nn.Linear(embed_dim, channels[3])\n",
        "    self.gnorm4 = nn.GroupNorm(32, num_channels=channels[3])\n",
        "\n",
        "    # Decoding layers where the resolution increases\n",
        "    self.tconv4 = nn.ConvTranspose2d(channels[3], channels[2], 3, stride=2, bias=False)\n",
        "    self.dense5 = nn.Linear(embed_dim, channels[2])\n",
        "    self.tgnorm4 = nn.GroupNorm(32, num_channels=channels[2])\n",
        "    self.tconv3 = nn.ConvTranspose2d(channels[2] + channels[2], channels[1], 3, stride=2, bias=False, output_padding=1)\n",
        "    self.dense6 = nn.Linear(embed_dim, channels[1])\n",
        "    self.tgnorm3 = nn.GroupNorm(32, num_channels=channels[1])\n",
        "    self.tconv2 = nn.ConvTranspose2d(channels[1] + channels[1], channels[0], 3, stride=2, bias=False, output_padding=1)\n",
        "    self.dense7 = nn.Linear(embed_dim, channels[0])\n",
        "    self.tgnorm2 = nn.GroupNorm(32, num_channels=channels[0])\n",
        "    self.tconv1 = nn.ConvTranspose2d(channels[0] + channels[0], 1, 3, stride=1)\n",
        "    \n",
        "    self.swish = lambda x: x * torch.sigmoid(x)\n",
        "    \n",
        "  def forward(self, x, t):\n",
        "    \n",
        "    embed = self.swish(self.embed(t))[...]\n",
        "    \n",
        "    # Encoding path\n",
        "    h1 = self.conv1(x)\n",
        "    ## Incorporate information from t\n",
        "    h1 += self.dense1(embed)[..., None, None]\n",
        "    ## Group normalization\n",
        "    h1 = self.gnorm1(h1)\n",
        "    h1 = self.swish(h1)\n",
        "    h2 = self.conv2(h1)\n",
        "    h2 += self.dense2(embed)[..., None, None]\n",
        "    h2 = self.gnorm2(h2)\n",
        "    h2 = self.swish(h2)\n",
        "    h3 = self.conv3(h2)\n",
        "    h3 += self.dense3(embed)[..., None, None]\n",
        "    h3 = self.gnorm3(h3)\n",
        "    h3 = self.swish(h3)\n",
        "    h4 = self.conv4(h3)\n",
        "    h4 += self.dense4(embed)[..., None, None]\n",
        "    h4 = self.gnorm4(h4)\n",
        "    h4 = self.swish(h4)\n",
        "\n",
        "    # Decoding path\n",
        "    h = self.tconv4(h4)\n",
        "    ## Skip connection from the encoding path\n",
        "    h += self.dense5(embed)[..., None, None]\n",
        "    h = self.tgnorm4(h)\n",
        "    h = self.swish(h)\n",
        "    h = self.tconv3(torch.cat([h, h3], dim=1))\n",
        "    h += self.dense6(embed)[..., None, None]\n",
        "    h = self.tgnorm3(h)\n",
        "    h = self.swish(h)\n",
        "    h = self.tconv2(torch.cat([h, h2], dim=1))\n",
        "    h += self.dense7(embed)[..., None, None]\n",
        "    h = self.tgnorm2(h)\n",
        "    h = self.swish(h)\n",
        "    h = self.tconv1(torch.cat([h, h1], dim=1))\n",
        "    \n",
        "    return h"
      ]
    },
    {
      "cell_type": "code",
      "execution_count": 8,
      "metadata": {
        "id": "MZKG74QhFc-l"
      },
      "outputs": [],
      "source": [
        "## we create the convolutional network\n",
        "\n",
        "## let's just look at the first step output\n",
        "\n",
        "# model = torch.nn.Sequential(\n",
        "#     torch.nn.Conv1d(1, 20, kernel_size=1, stride=1, padding=1),\n",
        "#     torch.nn.ReLU(),\n",
        "#     torch.nn.Conv1d(20, 1, kernel_size=1, stride=1, padding=1),\n",
        "#     torch.nn.ReLU(),\n",
        "#     torch.nn.MaxPool1d(kernel_size=1),\n",
        "#     torch.nn.Flatten(),\n",
        "#     torch.nn.Linear(H*W + 4, 60),\n",
        "#     torch.nn.ReLU(),\n",
        "#     torch.nn.Linear(60, 30),\n",
        "#     torch.nn.ReLU(),\n",
        "#     torch.nn.Linear(30, H*W),\n",
        "#     torch.nn.Sigmoid()\n",
        "# )\n",
        "\n",
        "# model = model.double()\n",
        "model = Net().double()\n",
        "loss_fn = torch.nn.MSELoss()\n",
        "optimizer = SGD(model.parameters(), lr=0.001)\n",
        "\n",
        "## for n = 0\n",
        "\n",
        "# train_x_data, _, train_y_data, _ = train_test_split(x[:,:,0].ravel(), del_m, train_size=1.0, shuffle=True)\n",
        "\n",
        "# train_x_data = np.random.choice(x[:,:,0].ravel(),len(x[:,:,0].ravel()))\n",
        "# train_y_data = np.random.choice(del_m,len(del_m))\n",
        "\n",
        "train_x_data = scaler.fit_transform(m[:,:,0]).reshape(1,H*W) ## the issue was here, we were using inconsistent inputs!\n",
        "train_y_data = del_m\n",
        "\n",
        "# loader = DataLoader(list(zip(train_x_data, train_y_data)), shuffle=True)\n",
        "# model.cuda()\n",
        "model.train()\n",
        "err = 1\n",
        "k = 0\n",
        "while err > 1e-3:\n",
        "  # for X_batch, y_batch in loader:\n",
        "  y_pred = model(torch.tensor(train_x_data.reshape(1, 1, H, W)), 0)\n",
        "  loss = loss_fn(y_pred.ravel(), torch.tensor(train_y_data))\n",
        "  optimizer.zero_grad()\n",
        "  loss.backward()\n",
        "  optimizer.step()\n",
        "  err = loss.item()\n",
        "  # k+=1\n",
        "\n",
        "model.eval()\n",
        "# model.cpu()\n",
        "s[:,:,0] = model(torch.tensor(scaler.fit_transform(m[:,:,0]).reshape(1,1,H,W)), 0).reshape((H,W)).detach().numpy() # s is our score function approximated by the CNN\n",
        "del_sx[1:,:,0] = np.diff(s[:,:,0],axis=0)\n",
        "del_sx[0,:,0] = 0\n",
        "del_sy[:,1:,0] = np.diff(s[:,:,0],axis=1)\n",
        "del_sy[:,0,0] = 0"
      ]
    },
    {
      "cell_type": "code",
      "execution_count": 9,
      "metadata": {
        "colab": {
          "base_uri": "https://localhost:8080/",
          "height": 843
        },
        "id": "aktQ27VMFio0",
        "outputId": "ded7bac3-e9e9-4e3d-b84d-f2d042bde053"
      },
      "outputs": [
        {
          "data": {
            "image/png": "[encoded data removed]",
            "text/plain": [
              "<Figure size 640x480 with 1 Axes>"
            ]
          },
          "metadata": {},
          "output_type": "display_data"
        },
        {
          "data": {
            "image/png": "[encoded data removed]",
            "text/plain": [
              "<Figure size 640x480 with 1 Axes>"
            ]
          },
          "metadata": {},
          "output_type": "display_data"
        }
      ],
      "source": [
        "plt.imshow(s[:,:,0]) # we are now learning the right output!\n",
        "plt.show()\n",
        "\n",
        "plt.imshow(del_m.reshape(28, 28)) # so we can see that the score should look something like this after training\n",
        "plt.show()"
      ]
    },
    {
      "cell_type": "code",
      "execution_count": 10,
      "metadata": {
        "colab": {
          "base_uri": "https://localhost:8080/",
          "height": 1000
        },
        "id": "cJuBVhTGE1vU",
        "outputId": "6e3323a8-ba2d-49c3-84ba-a33a5e7b1917"
      },
      "outputs": [
        {
          "name": "stderr",
          "output_type": "stream",
          "text": [
            "  0%|          | 0/99 [00:00<?, ?it/s]"
          ]
        },
        {
          "name": "stderr",
          "output_type": "stream",
          "text": [
            "100%|██████████| 99/99 [04:45<00:00,  2.88s/it]\n"
          ]
        }
      ],
      "source": [
        "## for n = 0\n",
        "\n",
        "# train_x_data, _, train_y_data, _ = train_test_split(x[:,:,0].ravel(), del_m, train_size=1.0, shuffle=True)\n",
        "\n",
        "# train_x_data = np.random.choice(x[:,:,0].ravel(),len(x[:,:,0].ravel()))\n",
        "# train_y_data = np.random.choice(del_m,len(del_m))\n",
        "\n",
        "# model.eval()\n",
        "tqdm_len = tqdm.trange(1,N)\n",
        "\n",
        "# model.cuda()\n",
        "for n in tqdm_len:\n",
        "  err = 1\n",
        "  k = 0\n",
        "\n",
        "  # initialize score function to noise\n",
        "  s[:,:,n] = s[:,:,n-1] #s[:,:,n-1] # np.random.randn(*s[:,:,n-1].shape) # model(torch.tensor(scaler.fit_transform(m[:,:,n]).reshape(1,1,H*W))).cpu().reshape((H,W)).detach().numpy()\n",
        "  del_sx[1:,:,n] = np.diff(s[:,:,n],axis=0)\n",
        "  del_sx[0,:,n] = 0\n",
        "  del_sy[:,1:,n] = np.diff(s[:,:,n],axis=1)\n",
        "  del_sy[:,0,n] = 0\n",
        "\n",
        "  while err > 1e-2:\n",
        "    A = construct_A(dx,dy,dt,f[:,:,n],g[:,:,n],s[:,:,n],H,W)\n",
        "    B = construct_B(dx,dy,dt,f[:,:,n],g[:,:,n],m[:,:,n-1],del_sx[:,:,n],del_sy[:,:,n],H,W)\n",
        "    m[:,:,n] = solve_pde(A,B) # m is the transition log probability we solve using the KFP equation\n",
        "    del_m = np.diff(m[:,:,n].ravel())\n",
        "    del_m = np.insert(del_m,0,0)\n",
        "\n",
        "    # if (n == 1 or n == N-1): # just look at first and last\n",
        "    #   plt.imshow(del_m.reshape(H, W)) # we are now learning the right output!\n",
        "    #   plt.show()\n",
        "\n",
        "    #   plt.imshow(s[:,:,n]) # we are now learning the right output!\n",
        "    #   plt.show()\n",
        "\n",
        "    err = mean_squared_error(s[:,:,n].ravel(),del_m)\n",
        "\n",
        "    # train_x_data, _, train_y_data, _ = train_test_split(x[:,:,0].ravel(), del_m, train_size=1.0, shuffle=True)\n",
        "\n",
        "    # train_x_data = np.random.choice(scaler.fit_transform(x[:,:,n]).ravel(),len(x[:,:,0].ravel()))\n",
        "    # train_y_data = np.random.choice(del_m,len(del_m))\n",
        "\n",
        "    train_x_data = scaler.fit_transform(m[:,:,n]).ravel()\n",
        "    train_y_data = del_m\n",
        "\n",
        "    # loader = DataLoader(list(zip(train_x_data, train_y_data)), shuffle=True)\n",
        "    model.train()\n",
        "    # n_epochs = 100 # let's look for accuracy before looking at epochs\n",
        "    # for epoch in range(n_epochs):\n",
        "      # for X_batch, y_batch in loader:\n",
        "    optimizer.zero_grad()\n",
        "    y_pred = model(torch.tensor(train_x_data.reshape(1,1,H, W), requires_grad=True), n)\n",
        "    loss = loss_fn(y_pred.ravel(), torch.tensor(train_y_data))\n",
        "    \n",
        "    loss.backward()\n",
        "    optimizer.step()\n",
        "\n",
        "    model.eval()\n",
        "    s[:,:,n] = model(torch.tensor(scaler.fit_transform(m[:,:,n]).reshape(1,1,H, W)), n).cpu().reshape((H,W)).detach().numpy()\n",
        "    del_sx[1:,:,n] = np.diff(s[:,:,n],axis=0)\n",
        "    del_sx[0,:,n] = 0\n",
        "    del_sy[:,1:,n] = np.diff(s[:,:,n],axis=1)\n",
        "    del_sy[:,0,n] = 0"
      ]
    },
    {
      "cell_type": "markdown",
      "metadata": {
        "id": "QD__u1EGPSSh"
      },
      "source": [
        "# Integrate reverse time ODE"
      ]
    },
    {
      "cell_type": "code",
      "execution_count": 16,
      "metadata": {
        "colab": {
          "base_uri": "https://localhost:8080/",
          "height": 430
        },
        "id": "q5-zwEjqD5mF",
        "outputId": "46e130d9-a9d7-4af0-d8b0-16e0baf6097e"
      },
      "outputs": [
        {
          "data": {
            "image/png": "[encoded data removed]",
            "text/plain": [
              "<Figure size 640x480 with 1 Axes>"
            ]
          },
          "metadata": {},
          "output_type": "display_data"
        }
      ],
      "source": [
        "plt.imshow(s[:,:,1])\n",
        "plt.show()"
      ]
    },
    {
      "cell_type": "code",
      "execution_count": 12,
      "metadata": {},
      "outputs": [],
      "source": [
        "def ode_step(t, log_prob):\n",
        "  diffusion_coeff = sigma ** (t*dt)\n",
        "  \n",
        "  model.eval()\n",
        "  with torch.no_grad():\n",
        "    score = model(torch.tensor(scaler.fit_transform(log_prob.reshape((H, W))).reshape(1,1,H, W)), t).detach().numpy()\n",
        "\n",
        "  return -0.5 * diffusion_coeff**2 * score.reshape(1, H*W)"
      ]
    },
    {
      "cell_type": "code",
      "execution_count": 13,
      "metadata": {},
      "outputs": [
        {
          "data": {
            "image/png": "[encoded data removed]",
            "text/plain": [
              "<Figure size 640x480 with 1 Axes>"
            ]
          },
          "metadata": {},
          "output_type": "display_data"
        }
      ],
      "source": [
        "sample = kde.sample(H*W).reshape(-1) # np.exp(m[:, :, -1]).reshape(-1)\n",
        "\n",
        "res = integrate.solve_ivp(ode_step, (100, 1), sample)\n",
        "\n",
        "plt.imshow(res.y[:, -1].reshape(H, W));"
      ]
    }
  ],
  "metadata": {
    "colab": {
      "include_colab_link": true,
      "provenance": []
    },
    "kernelspec": {
      "display_name": "Python 3",
      "name": "python3"
    },
    "language_info": {
      "codemirror_mode": {
        "name": "ipython",
        "version": 3
      },
      "file_extension": ".py",
      "mimetype": "text/x-python",
      "name": "python",
      "nbconvert_exporter": "python",
      "pygments_lexer": "ipython3",
      "version": "3.9.6"
    }
  },
  "nbformat": 4,
  "nbformat_minor": 0
}
